{
 "cells": [
  {
   "cell_type": "code",
   "execution_count": 1,
   "metadata": {
    "colab": {
     "base_uri": "https://localhost:8080/",
     "height": 34
    },
    "colab_type": "code",
    "id": "PcJDApDcK0O9",
    "outputId": "a6ad3c28-858a-46a0-f69c-450122bac274"
   },
   "outputs": [
    {
     "name": "stdout",
     "output_type": "stream",
     "text": [
      "fatal: destination path 'Beijing-Pollution-DataSet' already exists and is not an empty directory.\n"
     ]
    }
   ],
   "source": [
    "!git clone https://github.com/parhamzm/Beijing-Pollution-DataSet"
   ]
  },
  {
   "cell_type": "code",
   "execution_count": 2,
   "metadata": {
    "colab": {
     "base_uri": "https://localhost:8080/",
     "height": 34
    },
    "colab_type": "code",
    "id": "0-KcI9tFLGXP",
    "outputId": "81c63c16-2e74-4f30-b5bc-0b4d736d6834"
   },
   "outputs": [
    {
     "name": "stdout",
     "output_type": "stream",
     "text": [
      "pollution.csv  polution_dataSet.npy  README.md\n"
     ]
    }
   ],
   "source": [
    "!ls Beijing-Pollution-DataSet"
   ]
  },
  {
   "cell_type": "code",
   "execution_count": 0,
   "metadata": {
    "colab": {},
    "colab_type": "code",
    "id": "9NuzKJEnLNyx"
   },
   "outputs": [],
   "source": [
    "import torch\n",
    "import torchvision\n",
    "import torch.nn as nn\n",
    "from torchvision import transforms\n",
    "import pandas as pd\n",
    "\n",
    "import matplotlib.pyplot as plt\n",
    "import numpy as np\n",
    "\n",
    "from torch.utils.data import random_split\n",
    "\n",
    "from math import sqrt\n",
    "from numpy import concatenate\n",
    "from matplotlib import pyplot\n",
    "from pandas import read_csv\n",
    "from pandas import DataFrame\n",
    "from pandas import concat\n",
    "from sklearn.preprocessing import MinMaxScaler\n",
    "from sklearn.preprocessing import LabelEncoder\n",
    "from sklearn.metrics import mean_squared_error\n",
    "\n",
    "from numpy import array\n",
    "from numpy import hstack"
   ]
  },
  {
   "cell_type": "markdown",
   "metadata": {
    "colab_type": "text",
    "id": "Q_0pmTGAHWmf"
   },
   "source": [
    "# **Data Pre Processing**"
   ]
  },
  {
   "cell_type": "code",
   "execution_count": 4,
   "metadata": {
    "colab": {
     "base_uri": "https://localhost:8080/",
     "height": 136
    },
    "colab_type": "code",
    "id": "GjcwsJBc9eIG",
    "outputId": "057aef1b-00b9-46d7-c12c-33fb636cd767"
   },
   "outputs": [
    {
     "name": "stdout",
     "output_type": "stream",
     "text": [
      "X-Week shape =>  (33000, 6, 8)\n",
      "y-Week shape =>  (33000,)\n",
      "X-Month shape =>  (33000, 3, 8)\n",
      "y-Month shape =>  (33000,)\n",
      "(43799, 8)\n",
      "X-Day shape =>  (33000, 11, 8)\n",
      "y-Day shape =>  (33000,)\n"
     ]
    }
   ],
   "source": [
    "DATA_DIR = \"Beijing-Pollution-DataSet/\"\n",
    "from pandas import read_csv\n",
    "from datetime import datetime\n",
    "from random import randint\n",
    "\n",
    "def select_week(sequences, n_samples=250):\n",
    "    X, y = list(), list()\n",
    "    rand_hour = 360 #randint(0, 24)\n",
    "    for i in range(0, n_samples):\n",
    "        start_ix = rand_hour #+ 168 * i # 168 : Week hours!\n",
    "        idxs = []\n",
    "        for j in range(0, 7):\n",
    "            if j <=5:\n",
    "                idx = start_ix + (j * 24) # Add different days in week\n",
    "                # print(\"Id x Week:=> \", idx)\n",
    "                idxs.append(idx)\n",
    "            if j == 6: # Target\n",
    "                idy = start_ix + (j * 24)\n",
    "        seq_x = sequences[idxs, :]\n",
    "        seq_y = sequences[idy, 0]\n",
    "        y.append(seq_y)\n",
    "        X.append(seq_x)\n",
    "        # print(\"Id y Week:=> \", idy)\n",
    "        rand_hour += 1\n",
    "    return X, y\n",
    "\n",
    "\n",
    "def select_month(sequences, n_samples=250):\n",
    "    X, y = list(), list()\n",
    "    rand_hour = 0 #randint(0, 24)\n",
    "    rand_day = 0 #randint(0, 7)\n",
    "    for i in range(0, n_samples):\n",
    "        start_ix = rand_hour #+ rand_day*24 + 672 * i # 168 : Week hours!\n",
    "        idxs = []\n",
    "        for j in range(0, 4):\n",
    "            if j <=2:\n",
    "                idx = start_ix + (j * 168) # Add different weeks\n",
    "                idxs.append(idx)\n",
    "                # print(\"Id x Month:=> \", idx)\n",
    "                # print(\"Hello\")\n",
    "            if j == 3: # Target\n",
    "                idy = start_ix + (j * 168)\n",
    "        seq_x = sequences[idxs, :]\n",
    "        seq_y = sequences[idy, 0]\n",
    "        # print(\"Id y Month:=> \", idy)\n",
    "        y.append(seq_y)\n",
    "        X.append(seq_x)\n",
    "\n",
    "        rand_hour += 1\n",
    "\n",
    "    return X, y\n",
    "\n",
    "\n",
    "# split a multivariate sequence into samples\n",
    "def split_sequences(sequences, n_steps=11, n_samples=12000, start_from=493):\n",
    "\tX, y = list(), list()\n",
    "\tfor i in range(start_from, (start_from + n_samples)):\n",
    "        # find the end of this pattern\n",
    "\t\tend_ix = i + n_steps\n",
    "        # check if we are beyond the dataset\n",
    "        # gather input and output parts of the pattern\n",
    "\t\tseq_x = sequences[i:end_ix, :]\n",
    "\t\tseq_y = sequences[end_ix, 0]\n",
    "\t\ty.append(seq_y)\n",
    "\t\tX.append(seq_x)\n",
    "  \n",
    "\treturn array(X), array(y)\n",
    "\n",
    "\n",
    "# load dataset\n",
    "DATA_DIR = \"Beijing-Pollution-DataSet/\"\n",
    "\n",
    "data = np.load(DATA_DIR + 'polution_dataSet.npy')\n",
    "scaled_data = data\n",
    "\n",
    "# specify the number of lag hours\n",
    "n_hours = 11\n",
    "n_features = 8\n",
    "\n",
    "\n",
    "x_week, y_week = select_week(data, n_samples=33000)\n",
    "print(\"X-Week shape => \", np.array(x_week).shape)\n",
    "print(\"y-Week shape => \", np.array(y_week).shape)\n",
    "x_week = np.array(x_week)\n",
    "y_week = np.array(y_week)\n",
    "\n",
    "x_month, y_month = select_month(data, n_samples=33000)\n",
    "print(\"X-Month shape => \", np.array(x_month).shape)\n",
    "print(\"y-Month shape => \", np.array(y_month).shape)\n",
    "x_month = np.array(x_month)\n",
    "y_month = np.array(y_month)\n",
    "\n",
    "n_timesteps = 11\n",
    "dataset = data\n",
    "print(data.shape)\n",
    "day_X, day_y = split_sequences(sequences=dataset, n_steps=n_timesteps, n_samples=33000)\n",
    "print(\"X-Day shape => \", np.array(day_X).shape)\n",
    "print(\"y-Day shape => \", np.array(day_y).shape)\n",
    "\n",
    "x_day_test, y_day_test = day_X[27000:30000], day_y[27000:30000]\n",
    "x_week_test, y_week_test = x_week[27000:30000], y_week[27000:30000]\n",
    "x_month_test, y_month_test = x_month[27000:30000], y_month[27000:30000]\n",
    "\n",
    "x_day_train, y_day_train = day_X[:27000], day_y[:27000]\n",
    "x_week_train, y_week_train = x_week[:27000], y_week[:27000]\n",
    "x_month_train, y_month_train = x_month[:27000], y_month[:27000]"
   ]
  },
  {
   "cell_type": "code",
   "execution_count": 5,
   "metadata": {
    "colab": {
     "base_uri": "https://localhost:8080/",
     "height": 34
    },
    "colab_type": "code",
    "id": "sIihkChW80JC",
    "outputId": "6c1f5a11-5dd2-4771-fbea-70e8d7913869"
   },
   "outputs": [
    {
     "data": {
      "text/plain": [
       "0.0"
      ]
     },
     "execution_count": 5,
     "metadata": {
      "tags": []
     },
     "output_type": "execute_result"
    }
   ],
   "source": [
    "y_batch_test1 = torch.tensor(day_y, dtype=torch.float32)\n",
    "y_batch_test2 = torch.tensor(y_week, dtype=torch.float32)\n",
    "y_batch_test3 = torch.tensor(y_month, dtype=torch.float32)\n",
    "criterion = nn.MSELoss()\n",
    "\n",
    "loss_test = criterion(y_batch_test1, y_batch_test2)\n",
    "\n",
    "# train_X = torch.tensor(train_X, dtype=torch.float32)    \n",
    "# train_y = torch.tensor(train_y, dtype=torch.float32)\n",
    "loss_test.item()"
   ]
  },
  {
   "cell_type": "code",
   "execution_count": 0,
   "metadata": {
    "colab": {},
    "colab_type": "code",
    "id": "pDpTe3gIYsW4"
   },
   "outputs": [],
   "source": [
    "class LSTM(torch.nn.Module):\n",
    "    def __init__(self, n_features=8, n_output=1, seq_length=11, n_hidden_layers=233, n_layers=1, dropout=0):\n",
    "        super(LSTM, self).__init__()\n",
    "        self.n_features = n_features\n",
    "        self.seq_len = seq_length\n",
    "\n",
    "        self.n_hidden = n_hidden_layers # number of hidden states\n",
    "        self.n_layers = n_layers # number of LSTM layers (stacked)\n",
    "        self.n_output = n_output\n",
    "\n",
    "        self.l_lstm = torch.nn.LSTM(input_size = n_features, \n",
    "                                 hidden_size = self.n_hidden,\n",
    "                                 num_layers = self.n_layers,\n",
    "                                 dropout=dropout,\n",
    "                                 batch_first = True)\n",
    "        \n",
    "        self.lstm2 = torch.nn.LSTM(input_size = n_features, \n",
    "                                 hidden_size = self.n_hidden,\n",
    "                                 num_layers = self.n_layers,\n",
    "                                 dropout=dropout,\n",
    "                                 batch_first = True)\n",
    "        \n",
    "        self.lstm3 = torch.nn.LSTM(input_size = n_features, \n",
    "                                 hidden_size = self.n_hidden,\n",
    "                                 num_layers = self.n_layers,\n",
    "                                 dropout=dropout,\n",
    "                                 batch_first = True)\n",
    "\n",
    "        self.l_linear = torch.nn.Linear(self.n_hidden * self.seq_len, self.n_output)\n",
    "        self.linear2 = torch.nn.Linear(self.n_hidden * 6, self.n_output)\n",
    "        self.linear3 = torch.nn.Linear(self.n_hidden * 3, self.n_output)\n",
    "        self.avgpool = nn.AvgPool1d(kernel_size=1, stride=3, padding=0)\n",
    "\n",
    "\n",
    "    def forward(self, x1, x2, x3):\n",
    "        hidden_state = torch.zeros(self.n_layers, x1.size(0), self.n_hidden).requires_grad_()\n",
    "        cell_state = torch.zeros(self.n_layers, x1.size(0), self.n_hidden).requires_grad_()\n",
    "        self.hidden = (hidden_state.detach(), cell_state.detach())\n",
    "        batch_size, seq_len, _ = x1.size()\n",
    "        lstm_out, self.hidden = self.l_lstm(x1, self.hidden)\n",
    "        x = lstm_out.contiguous().view(batch_size, -1)\n",
    "        out1 = self.l_linear(x)\n",
    "\n",
    "        hidden_state = torch.zeros(self.n_layers, x2.size(0), self.n_hidden).requires_grad_()\n",
    "        cell_state = torch.zeros(self.n_layers, x2.size(0), self.n_hidden).requires_grad_()\n",
    "        self.hidden = (hidden_state.detach(), cell_state.detach())\n",
    "        batch_size, seq_len, _ = x2.size()\n",
    "        lstm_out, self.hidden = self.lstm2(x2, self.hidden)\n",
    "        x = lstm_out.contiguous().view(batch_size, -1)\n",
    "        out2 = self.linear2(x)\n",
    "\n",
    "        hidden_state = torch.zeros(self.n_layers, x3.size(0), self.n_hidden).requires_grad_()\n",
    "        cell_state = torch.zeros(self.n_layers, x3.size(0), self.n_hidden).requires_grad_()\n",
    "        self.hidden = (hidden_state.detach(), cell_state.detach())\n",
    "        batch_size, seq_len, _ = x3.size()\n",
    "        lstm_out, self.hidden = self.lstm3(x3, self.hidden)\n",
    "        x = lstm_out.contiguous().view(batch_size, -1)\n",
    "        out3 = self.linear3(x)\n",
    "\n",
    "        x3 = (out1 + out2 + out3) / 3#torch.cat((out1, out2, out3), dim=1) #.flatten()\n",
    "        # print(\"X3 shape :=> \", x3.shape)\n",
    "\n",
    "        out = x3 #self.avgpool(x3)\n",
    "\n",
    "        return out"
   ]
  },
  {
   "cell_type": "code",
   "execution_count": 0,
   "metadata": {
    "colab": {},
    "colab_type": "code",
    "id": "PCxQTgWnavOJ"
   },
   "outputs": [],
   "source": [
    "torch.manual_seed(13)\n",
    "model = LSTM(n_features=8, n_output=1, seq_length=11, n_hidden_layers=233, n_layers=1)\n",
    "criterion = nn.MSELoss()\n",
    "optimizer = torch.optim.Adam(model.parameters(), lr=0.0003)"
   ]
  },
  {
   "cell_type": "code",
   "execution_count": 8,
   "metadata": {
    "colab": {
     "base_uri": "https://localhost:8080/",
     "height": 323
    },
    "colab_type": "code",
    "id": "oWbmF4vLbJ5N",
    "outputId": "9b3c8f7c-3dbd-4720-e120-157c4e08a422"
   },
   "outputs": [
    {
     "name": "stdout",
     "output_type": "stream",
     "text": [
      "7456\n",
      "217156\n",
      "932\n",
      "932\n",
      "7456\n",
      "217156\n",
      "932\n",
      "932\n",
      "7456\n",
      "217156\n",
      "932\n",
      "932\n",
      "2563\n",
      "1\n",
      "1398\n",
      "1\n",
      "699\n",
      "1\n"
     ]
    }
   ],
   "source": [
    "model = model #.to(device)\n",
    "criterion = criterion #.to(device)\n",
    "for p in model.parameters():\n",
    "    print(p.numel())"
   ]
  },
  {
   "cell_type": "code",
   "execution_count": 9,
   "metadata": {
    "colab": {
     "base_uri": "https://localhost:8080/",
     "height": 1000
    },
    "colab_type": "code",
    "id": "5R__1vOLzB-i",
    "outputId": "33734bff-e58e-4ff2-eb2e-ad249f43957c"
   },
   "outputs": [
    {
     "name": "stdout",
     "output_type": "stream",
     "text": [
      "step :  0  Train loss :  3.519053395440871e-05 , Valid Loss : =>  0.00021972281609972317\n",
      "***->>>-----------------------------------------------<<<-***\n",
      "step :  1  Train loss :  4.000045930216503e-05 , Valid Loss : =>  3.473683594105144e-05\n",
      "***->>>-----------------------------------------------<<<-***\n",
      "step :  2  Train loss :  3.335896079618208e-05 , Valid Loss : =>  1.8175875709857793e-05\n",
      "***->>>-----------------------------------------------<<<-***\n",
      "step :  3  Train loss :  1.8889484036696593e-05 , Valid Loss : =>  2.0077198705015083e-05\n",
      "***->>>-----------------------------------------------<<<-***\n",
      "step :  4  Train loss :  1.87935646368984e-05 , Valid Loss : =>  1.432152627967298e-05\n",
      "***->>>-----------------------------------------------<<<-***\n",
      "step :  5  Train loss :  1.5019070821667642e-05 , Valid Loss : =>  1.2408814140750717e-05\n",
      "***->>>-----------------------------------------------<<<-***\n",
      "step :  6  Train loss :  1.2354580957132081e-05 , Valid Loss : =>  1.006068754941225e-05\n",
      "***->>>-----------------------------------------------<<<-***\n",
      "step :  7  Train loss :  1.0433134715572966e-05 , Valid Loss : =>  9.257080072226623e-06\n",
      "***->>>-----------------------------------------------<<<-***\n",
      "step :  8  Train loss :  9.16834393434261e-06 , Valid Loss : =>  7.901284814579413e-06\n",
      "***->>>-----------------------------------------------<<<-***\n",
      "step :  9  Train loss :  8.214722634875215e-06 , Valid Loss : =>  7.0031634628927955e-06\n",
      "***->>>-----------------------------------------------<<<-***\n",
      "step :  10  Train loss :  7.666933576628151e-06 , Valid Loss : =>  1.0135630068058769e-05\n",
      "***->>>-----------------------------------------------<<<-***\n",
      "step :  11  Train loss :  9.0076344958679e-06 , Valid Loss : =>  3.302597433018188e-05\n",
      "***->>>-----------------------------------------------<<<-***\n",
      "step :  12  Train loss :  1.1675579344564876e-05 , Valid Loss : =>  5.495000164955854e-05\n",
      "***->>>-----------------------------------------------<<<-***\n",
      "step :  13  Train loss :  1.3029648270242399e-05 , Valid Loss : =>  3.0244143912568688e-05\n",
      "***->>>-----------------------------------------------<<<-***\n",
      "step :  14  Train loss :  1.1334559726593498e-05 , Valid Loss : =>  7.874531826625268e-06\n",
      "***->>>-----------------------------------------------<<<-***\n",
      "step :  15  Train loss :  7.521039257645262e-06 , Valid Loss : =>  1.548669153514008e-05\n",
      "***->>>-----------------------------------------------<<<-***\n",
      "step :  16  Train loss :  9.19735772024271e-06 , Valid Loss : =>  1.9003820644381145e-05\n",
      "***->>>-----------------------------------------------<<<-***\n",
      "step :  17  Train loss :  8.1049987207667e-06 , Valid Loss : =>  7.864437745107958e-06\n",
      "***->>>-----------------------------------------------<<<-***\n",
      "step :  18  Train loss :  6.125724851800543e-06 , Valid Loss : =>  4.733166579777995e-06\n",
      "***->>>-----------------------------------------------<<<-***\n",
      "step :  19  Train loss :  5.537141136570695e-06 , Valid Loss : =>  6.843649035242075e-06\n",
      "***->>>-----------------------------------------------<<<-***\n",
      "step :  20  Train loss :  5.8577013335673625e-06 , Valid Loss : =>  4.673614860318291e-06\n",
      "***->>>-----------------------------------------------<<<-***\n",
      "step :  21  Train loss :  5.248714738559944e-06 , Valid Loss : =>  6.553396757226437e-06\n",
      "***->>>-----------------------------------------------<<<-***\n",
      "step :  22  Train loss :  5.5121750451184605e-06 , Valid Loss : =>  9.166829035772632e-06\n",
      "***->>>-----------------------------------------------<<<-***\n",
      "step :  23  Train loss :  6.036656910307809e-06 , Valid Loss : =>  9.213140641804785e-06\n",
      "***->>>-----------------------------------------------<<<-***\n",
      "step :  24  Train loss :  5.735173287340095e-06 , Valid Loss : =>  5.8277727124126e-06\n",
      "***->>>-----------------------------------------------<<<-***\n",
      "step :  25  Train loss :  5.185891475843231e-06 , Valid Loss : =>  4.399188978519911e-06\n",
      "***->>>-----------------------------------------------<<<-***\n",
      "step :  26  Train loss :  5.1403969636238695e-06 , Valid Loss : =>  7.066331376942495e-06\n",
      "***->>>-----------------------------------------------<<<-***\n",
      "step :  27  Train loss :  5.681443161005585e-06 , Valid Loss : =>  6.091055440871666e-06\n",
      "***->>>-----------------------------------------------<<<-***\n",
      "step :  28  Train loss :  5.077408205747984e-06 , Valid Loss : =>  4.047038188825051e-06\n",
      "***->>>-----------------------------------------------<<<-***\n",
      "step :  29  Train loss :  4.719717401679157e-06 , Valid Loss : =>  1.3008717156480998e-05\n",
      "***->>>-----------------------------------------------<<<-***\n",
      "step :  30  Train loss :  6.109665935380488e-06 , Valid Loss : =>  1.6710446662424753e-05\n",
      "***->>>-----------------------------------------------<<<-***\n",
      "step :  31  Train loss :  6.3538768752348716e-06 , Valid Loss : =>  2.9313409817405043e-05\n",
      "***->>>-----------------------------------------------<<<-***\n",
      "step :  32  Train loss :  7.302500167969373e-06 , Valid Loss : =>  2.594835873848448e-05\n",
      "***->>>-----------------------------------------------<<<-***\n",
      "step :  33  Train loss :  7.809446443355194e-06 , Valid Loss : =>  1.085671978459383e-05\n",
      "***->>>-----------------------------------------------<<<-***\n",
      "step :  34  Train loss :  6.2417621100192066e-06 , Valid Loss : =>  6.431276754786571e-06\n",
      "***->>>-----------------------------------------------<<<-***\n",
      "step :  35  Train loss :  6.017341766791004e-06 , Valid Loss : =>  7.96328178451707e-06\n",
      "***->>>-----------------------------------------------<<<-***\n",
      "step :  36  Train loss :  5.1145950713328566e-06 , Valid Loss : =>  3.810390417735713e-06\n",
      "***->>>-----------------------------------------------<<<-***\n",
      "step :  37  Train loss :  4.538043340154992e-06 , Valid Loss : =>  4.318762318386386e-06\n",
      "***->>>-----------------------------------------------<<<-***\n",
      "step :  38  Train loss :  4.462688327260332e-06 , Valid Loss : =>  4.605013624920199e-06\n",
      "***->>>-----------------------------------------------<<<-***\n",
      "step :  39  Train loss :  4.520487382520783e-06 , Valid Loss : =>  3.543587197782472e-06\n",
      "***->>>-----------------------------------------------<<<-***\n",
      "step :  40  Train loss :  4.212550298554426e-06 , Valid Loss : =>  4.496125475270674e-06\n",
      "***->>>-----------------------------------------------<<<-***\n",
      "step :  41  Train loss :  4.456418783606582e-06 , Valid Loss : =>  3.4927729623935495e-06\n",
      "***->>>-----------------------------------------------<<<-***\n",
      "step :  42  Train loss :  4.314307887937132e-06 , Valid Loss : =>  4.496970757221182e-06\n",
      "***->>>-----------------------------------------------<<<-***\n",
      "step :  43  Train loss :  4.532572197839963e-06 , Valid Loss : =>  4.045649455899062e-06\n",
      "***->>>-----------------------------------------------<<<-***\n",
      "step :  44  Train loss :  4.304023771476717e-06 , Valid Loss : =>  3.769032991840504e-06\n",
      "***->>>-----------------------------------------------<<<-***\n",
      "step :  45  Train loss :  4.416216157820869e-06 , Valid Loss : =>  6.554950775656228e-06\n",
      "***->>>-----------------------------------------------<<<-***\n",
      "step :  46  Train loss :  5.197007261341679e-06 , Valid Loss : =>  5.251801422370287e-06\n",
      "***->>>-----------------------------------------------<<<-***\n",
      "step :  47  Train loss :  4.932050595622665e-06 , Valid Loss : =>  4.222248748798544e-06\n",
      "***->>>-----------------------------------------------<<<-***\n",
      "step :  48  Train loss :  4.8374887329474505e-06 , Valid Loss : =>  1.0106914793141186e-05\n",
      "***->>>-----------------------------------------------<<<-***\n",
      "step :  49  Train loss :  5.969497143976494e-06 , Valid Loss : =>  3.336942071715991e-05\n",
      "***->>>-----------------------------------------------<<<-***\n",
      "step :  50  Train loss :  7.700765948458057e-06 , Valid Loss : =>  7.313592871651054e-05\n",
      "***->>>-----------------------------------------------<<<-***\n",
      "step :  51  Train loss :  9.926694106036815e-06 , Valid Loss : =>  4.012240003794432e-05\n",
      "***->>>-----------------------------------------------<<<-***\n",
      "step :  52  Train loss :  8.295839052017848e-06 , Valid Loss : =>  3.978465455778254e-06\n",
      "***->>>-----------------------------------------------<<<-***\n",
      "step :  53  Train loss :  5.303665886188995e-06 , Valid Loss : =>  6.499165969823176e-06\n",
      "***->>>-----------------------------------------------<<<-***\n",
      "step :  54  Train loss :  4.7734709315355525e-06 , Valid Loss : =>  4.017649577387298e-06\n",
      "***->>>-----------------------------------------------<<<-***\n",
      "step :  55  Train loss :  4.197872103692067e-06 , Valid Loss : =>  3.566248141093335e-06\n",
      "***->>>-----------------------------------------------<<<-***\n",
      "step :  56  Train loss :  4.085176275920175e-06 , Valid Loss : =>  3.334491300241401e-06\n",
      "***->>>-----------------------------------------------<<<-***\n",
      "step :  57  Train loss :  4.054782516538614e-06 , Valid Loss : =>  3.328994532542614e-06\n",
      "***->>>-----------------------------------------------<<<-***\n",
      "step :  58  Train loss :  4.033822909588236e-06 , Valid Loss : =>  3.345145261846483e-06\n",
      "***->>>-----------------------------------------------<<<-***\n",
      "step :  59  Train loss :  4.033376198936754e-06 , Valid Loss : =>  3.3281999349128454e-06\n",
      "***->>>-----------------------------------------------<<<-***\n",
      "step :  60  Train loss :  4.036552742709992e-06 , Valid Loss : =>  3.347336566851785e-06\n",
      "***->>>-----------------------------------------------<<<-***\n",
      "step :  61  Train loss :  4.02725847945678e-06 , Valid Loss : =>  3.3611689553557274e-06\n",
      "***->>>-----------------------------------------------<<<-***\n",
      "step :  62  Train loss :  4.041164606287903e-06 , Valid Loss : =>  3.3475783056928775e-06\n",
      "***->>>-----------------------------------------------<<<-***\n",
      "step :  63  Train loss :  4.04698854388833e-06 , Valid Loss : =>  3.4704342348656305e-06\n",
      "***->>>-----------------------------------------------<<<-***\n",
      "step :  64  Train loss :  4.112915826597061e-06 , Valid Loss : =>  3.8469641585834325e-06\n",
      "***->>>-----------------------------------------------<<<-***\n",
      "step :  65  Train loss :  4.223402631733161e-06 , Valid Loss : =>  3.5035189018041518e-06\n",
      "***->>>-----------------------------------------------<<<-***\n",
      "step :  66  Train loss :  4.136292443878052e-06 , Valid Loss : =>  5.487729329615831e-06\n",
      "***->>>-----------------------------------------------<<<-***\n",
      "step :  67  Train loss :  5.129964696135613e-06 , Valid Loss : =>  9.67347584082745e-06\n",
      "***->>>-----------------------------------------------<<<-***\n",
      "step :  68  Train loss :  5.599043572416391e-06 , Valid Loss : =>  1.3039808875570695e-05\n",
      "***->>>-----------------------------------------------<<<-***\n",
      "step :  69  Train loss :  5.9654895988017045e-06 , Valid Loss : =>  7.874736164618905e-06\n",
      "***->>>-----------------------------------------------<<<-***\n",
      "step :  70  Train loss :  5.259024879369126e-06 , Valid Loss : =>  6.792886008042842e-06\n",
      "***->>>-----------------------------------------------<<<-***\n",
      "step :  71  Train loss :  5.6566804530491395e-06 , Valid Loss : =>  7.3130899691022935e-06\n",
      "***->>>-----------------------------------------------<<<-***\n",
      "step :  72  Train loss :  5.0738415581387624e-06 , Valid Loss : =>  3.5985972887525956e-06\n",
      "***->>>-----------------------------------------------<<<-***\n",
      "step :  73  Train loss :  4.327889590058476e-06 , Valid Loss : =>  5.527645679345975e-06\n",
      "***->>>-----------------------------------------------<<<-***\n",
      "step :  74  Train loss :  4.53204677641797e-06 , Valid Loss : =>  5.190812177412833e-06\n",
      "***->>>-----------------------------------------------<<<-***\n",
      "step :  75  Train loss :  4.4500443876097925e-06 , Valid Loss : =>  3.509967781913777e-06\n",
      "***->>>-----------------------------------------------<<<-***\n",
      "step :  76  Train loss :  4.122848361644342e-06 , Valid Loss : =>  4.040171144879423e-06\n",
      "***->>>-----------------------------------------------<<<-***\n",
      "step :  77  Train loss :  4.2019030699049365e-06 , Valid Loss : =>  4.292340444711348e-06\n",
      "***->>>-----------------------------------------------<<<-***\n",
      "step :  78  Train loss :  4.28201504029049e-06 , Valid Loss : =>  3.5254948064296816e-06\n",
      "***->>>-----------------------------------------------<<<-***\n",
      "step :  79  Train loss :  4.095212377487095e-06 , Valid Loss : =>  4.4688827620120715e-06\n",
      "***->>>-----------------------------------------------<<<-***\n",
      "step :  80  Train loss :  4.289148617115441e-06 , Valid Loss : =>  3.5733745850545044e-06\n",
      "***->>>-----------------------------------------------<<<-***\n",
      "step :  81  Train loss :  4.191124080939011e-06 , Valid Loss : =>  4.284480712764586e-06\n",
      "***->>>-----------------------------------------------<<<-***\n",
      "step :  82  Train loss :  4.378394022987103e-06 , Valid Loss : =>  3.660924194264226e-06\n",
      "***->>>-----------------------------------------------<<<-***\n",
      "step :  83  Train loss :  4.156023905832424e-06 , Valid Loss : =>  4.798376185741897e-06\n",
      "***->>>-----------------------------------------------<<<-***\n",
      "step :  84  Train loss :  4.4511841169204904e-06 , Valid Loss : =>  5.480416701175273e-06\n",
      "***->>>-----------------------------------------------<<<-***\n",
      "step :  85  Train loss :  4.753982733409093e-06 , Valid Loss : =>  4.273463098797947e-06\n",
      "***->>>-----------------------------------------------<<<-***\n",
      "step :  86  Train loss :  4.447048201217075e-06 , Valid Loss : =>  5.450878738580892e-06\n",
      "***->>>-----------------------------------------------<<<-***\n",
      "step :  87  Train loss :  4.810680884811855e-06 , Valid Loss : =>  8.435998480611791e-06\n",
      "***->>>-----------------------------------------------<<<-***\n",
      "step :  88  Train loss :  5.240954995248036e-06 , Valid Loss : =>  2.2698117381272215e-05\n",
      "***->>>-----------------------------------------------<<<-***\n",
      "step :  89  Train loss :  6.5191429105955954e-06 , Valid Loss : =>  3.581600775942206e-05\n",
      "***->>>-----------------------------------------------<<<-***\n",
      "step :  90  Train loss :  7.595675794787153e-06 , Valid Loss : =>  9.946843686824043e-06\n",
      "***->>>-----------------------------------------------<<<-***\n",
      "step :  91  Train loss :  5.375634877795905e-06 , Valid Loss : =>  1.0804440321711203e-05\n",
      "***->>>-----------------------------------------------<<<-***\n",
      "step :  92  Train loss :  5.074512228289947e-06 , Valid Loss : =>  4.403482550211872e-06\n",
      "***->>>-----------------------------------------------<<<-***\n",
      "step :  93  Train loss :  4.161768699473383e-06 , Valid Loss : =>  3.7590810970868917e-06\n",
      "***->>>-----------------------------------------------<<<-***\n",
      "step :  94  Train loss :  4.024391983909515e-06 , Valid Loss : =>  3.395458814338781e-06\n",
      "***->>>-----------------------------------------------<<<-***\n",
      "step :  95  Train loss :  3.975009870407154e-06 , Valid Loss : =>  3.3989750518230723e-06\n",
      "***->>>-----------------------------------------------<<<-***\n",
      "step :  96  Train loss :  3.95838777007561e-06 , Valid Loss : =>  3.3266943064518274e-06\n",
      "***->>>-----------------------------------------------<<<-***\n",
      "step :  97  Train loss :  3.955471714747276e-06 , Valid Loss : =>  3.3361221430823207e-06\n",
      "***->>>-----------------------------------------------<<<-***\n",
      "step :  98  Train loss :  3.943701183878282e-06 , Valid Loss : =>  3.3274870414364462e-06\n",
      "***->>>-----------------------------------------------<<<-***\n",
      "step :  99  Train loss :  3.9434932399739474e-06 , Valid Loss : =>  3.362266841577366e-06\n",
      "***->>>-----------------------------------------------<<<-***\n",
      "===========================================================\n",
      "*********************************************************\n",
      "The total Training Time is Equal with ==> : 2286.0671887397766 Sec.\n",
      "*********************************************************\n",
      "===========================================================\n"
     ]
    }
   ],
   "source": [
    "import time\n",
    "start_time = time.time()\n",
    "\n",
    "# train_X, train_y\n",
    "epochs = 100\n",
    "model.train()\n",
    "batch_size = 200\n",
    "running_loss_history = []\n",
    "val_running_loss_history = []\n",
    "for epoch in range(epochs):\n",
    "    running_loss = 0.0\n",
    "    val_running_loss = 0.0\n",
    "    model.train()\n",
    "    for b in range(0, len(x_day_train), batch_size):\n",
    "        inpt1 = x_day_train[b:b+batch_size, :, :]\n",
    "        target1 = y_day_train[b:b+batch_size]\n",
    "\n",
    "        inpt2 = x_week_train[b:b+batch_size, :, :]\n",
    "        target2 = y_week_train[b:b+batch_size]\n",
    "\n",
    "        inpt3 = x_month_train[b:b+batch_size, :, :]\n",
    "        target3 = y_month_train[b:b+batch_size]\n",
    "\n",
    "        # print(\"Input Shape :=> \", inpt.shape)\n",
    "\n",
    "        x_batch1 = torch.tensor(inpt1, dtype=torch.float32)    \n",
    "        y_batch1 = torch.tensor(target1, dtype=torch.float32)\n",
    "\n",
    "        x_batch2 = torch.tensor(inpt2, dtype=torch.float32)    \n",
    "        y_batch2 = torch.tensor(target2, dtype=torch.float32)\n",
    "\n",
    "        x_batch3 = torch.tensor(inpt3, dtype=torch.float32)    \n",
    "        y_batch3 = torch.tensor(target3, dtype=torch.float32)\n",
    "\n",
    "        output = model(x_batch1, x_batch2, x_batch3) \n",
    "        loss = criterion(output.view(-1), y_batch1)\n",
    "\n",
    "        running_loss += loss.item()\n",
    "\n",
    "        loss.backward()\n",
    "        optimizer.step()        \n",
    "        optimizer.zero_grad() \n",
    "\n",
    "    else:\n",
    "        \n",
    "        with torch.no_grad(): # it will temprerorerly set all the required grad flags to be false\n",
    "            model.eval()\n",
    "            for b in range(0, len(x_day_test), batch_size):\n",
    "                inpt1 = x_day_test[b:b+batch_size, :, :]\n",
    "                target1 = y_day_test[b:b+batch_size]\n",
    "\n",
    "                inpt2 = x_week_test[b:b+batch_size, :, :]\n",
    "                target2 = y_week_test[b:b+batch_size]\n",
    "\n",
    "                inpt3 = x_month_test[b:b+batch_size, :, :]\n",
    "                target3 = y_month_test[b:b+batch_size]\n",
    "\n",
    "                x_batch1 = torch.tensor(inpt1, dtype=torch.float32)    \n",
    "                y_batch1 = torch.tensor(target1, dtype=torch.float32)\n",
    "\n",
    "                x_batch2 = torch.tensor(inpt2, dtype=torch.float32)    \n",
    "                y_batch2 = torch.tensor(target2, dtype=torch.float32)\n",
    "\n",
    "                x_batch3 = torch.tensor(inpt3, dtype=torch.float32)    \n",
    "                y_batch3 = torch.tensor(target3, dtype=torch.float32)\n",
    "\n",
    "                output_test = model(x_batch1, x_batch2, x_batch3) \n",
    "                loss_test = criterion(output_test.view(-1), y_batch1)\n",
    "\n",
    "                val_running_loss += loss_test.item()\n",
    "\n",
    "    val_epoch_loss = val_running_loss / len(x_day_test)\n",
    "    val_running_loss_history.append(val_epoch_loss)\n",
    "    epoch_loss = running_loss / len(x_day_train)\n",
    "    running_loss_history.append(epoch_loss)\n",
    "    print('step : ' , epoch , ' Train loss : ' , epoch_loss, ', Valid Loss : => ', val_epoch_loss)\n",
    "    print(\"***->>>-----------------------------------------------<<<-***\")\n",
    "\n",
    "total_time = time.time() - start_time\n",
    "print(\"===========================================================\")\n",
    "print(\"*********************************************************\")\n",
    "print(\"The total Training Time is Equal with ==> : {0} Sec.\".format(total_time))\n",
    "print(\"*********************************************************\")\n",
    "print(\"===========================================================\")"
   ]
  },
  {
   "cell_type": "code",
   "execution_count": 10,
   "metadata": {
    "colab": {
     "base_uri": "https://localhost:8080/",
     "height": 462
    },
    "colab_type": "code",
    "id": "H4jiSUbWu1fQ",
    "outputId": "016f02d6-4300-4e1b-d803-caf0d6c050d6"
   },
   "outputs": [
    {
     "data": {
      "image/png": "[encoded data removed]",
      "text/plain": [
       "<Figure size 720x504 with 1 Axes>"
      ]
     },
     "metadata": {
      "needs_background": "light",
      "tags": []
     },
     "output_type": "display_data"
    }
   ],
   "source": [
    "f, ax = plt.subplots(1, 1, figsize=(10, 7))\n",
    "plt.title(\"Valid & Test Loss\", fontsize=18)\n",
    "plt.xlabel(\"Epoch\")\n",
    "plt.ylabel(\"Loss\")\n",
    "plt.plot(running_loss_history, label='train')\n",
    "plt.plot(val_running_loss_history, label='test')\n",
    "# pyplot.plot(history.history['val_loss'], label='test')\n",
    "plt.legend()\n",
    "plt.show()"
   ]
  },
  {
   "cell_type": "code",
   "execution_count": 0,
   "metadata": {
    "colab": {},
    "colab_type": "code",
    "id": "uweASFbTzUrP"
   },
   "outputs": [],
   "source": [
    "x_day_test, y_day_test = day_X[29900:30000], day_y[29900:30000]\n",
    "x_week_test, y_week_test = x_week[29900:30000], y_week[29900:30000]\n",
    "x_month_test, y_month_test = x_month[29900:30000], y_month[29900:30000]\n",
    "\n",
    "future = 100\n",
    "window_size = 11\n",
    "\n",
    "model.eval()\n",
    "x_day_test = torch.tensor(x_day_test, dtype=torch.float32)\n",
    "x_week_test = torch.tensor(x_week_test, dtype=torch.float32)\n",
    "x_month_test = torch.tensor(x_month_test, dtype=torch.float32)\n",
    "\n",
    "res = model(x_day_test, x_week_test, x_month_test)\n",
    "# print(preds[11:])"
   ]
  },
  {
   "cell_type": "code",
   "execution_count": 19,
   "metadata": {
    "colab": {
     "base_uri": "https://localhost:8080/",
     "height": 447
    },
    "colab_type": "code",
    "id": "8RWHd-TLJkVp",
    "outputId": "5b755e92-8486-41a4-d595-bf5141baff06"
   },
   "outputs": [
    {
     "name": "stdout",
     "output_type": "stream",
     "text": [
      "torch.Size([100, 1])\n"
     ]
    },
    {
     "data": {
      "image/png": "[encoded data removed]",
      "text/plain": [
       "<Figure size 1440x504 with 1 Axes>"
      ]
     },
     "metadata": {
      "needs_background": "light",
      "tags": []
     },
     "output_type": "display_data"
    }
   ],
   "source": [
    "fig = plt.figure(figsize=(20, 7))\n",
    "plt.title(\"Beijing Polution Prediction - LSTM\", fontsize=18)\n",
    "plt.ylabel('Polution')\n",
    "plt.xlabel('Num data')\n",
    "plt.grid(True)\n",
    "plt.autoscale(axis='x', tight=True)\n",
    "fig.autofmt_xdate()\n",
    "\n",
    "# plt.plot(data[15000:15100, 0])\n",
    "plt.plot(y_day_test, label=\"Real\")\n",
    "# plt.plot(preds[12:])\n",
    "print(res.shape)\n",
    "plt.plot(res.detach().numpy(), label=\"Prediction\")\n",
    "plt.legend()\n",
    "plt.show()"
   ]
  },
  {
   "cell_type": "code",
   "execution_count": 17,
   "metadata": {
    "colab": {
     "base_uri": "https://localhost:8080/",
     "height": 207
    },
    "colab_type": "code",
    "id": "gWZk1LYA7dS_",
    "outputId": "63d9e9f2-0ada-4561-df0a-5ccec3f74bb1"
   },
   "outputs": [
    {
     "name": "stderr",
     "output_type": "stream",
     "text": [
      "/usr/local/lib/python3.6/dist-packages/ipykernel_launcher.py:24: UserWarning: To copy construct from a tensor, it is recommended to use sourceTensor.clone().detach() or sourceTensor.clone().detach().requires_grad_(True), rather than torch.tensor(sourceTensor).\n",
      "/usr/local/lib/python3.6/dist-packages/ipykernel_launcher.py:27: UserWarning: To copy construct from a tensor, it is recommended to use sourceTensor.clone().detach() or sourceTensor.clone().detach().requires_grad_(True), rather than torch.tensor(sourceTensor).\n",
      "/usr/local/lib/python3.6/dist-packages/ipykernel_launcher.py:30: UserWarning: To copy construct from a tensor, it is recommended to use sourceTensor.clone().detach() or sourceTensor.clone().detach().requires_grad_(True), rather than torch.tensor(sourceTensor).\n"
     ]
    },
    {
     "name": "stdout",
     "output_type": "stream",
     "text": [
      "##########################################################\n",
      ">>>>---------------------------------------------------<<<<\n",
      ">>>>----------***************************--------------<<<<\n",
      "**** Test Loss :==>>>  1.8171881868814429e-06\n",
      ">>>>----------***************************--------------<<<<\n",
      ">>>>---------------------------------------------------<<<<\n",
      "##########################################################\n"
     ]
    }
   ],
   "source": [
    "x_day_test, y_day_test = day_X[30000:33000], day_y[30000:33000]\n",
    "x_week_test, y_week_test = x_week[30000:33000], y_week[30000:33000]\n",
    "x_month_test, y_month_test = x_month[30000:33000], y_month[30000:33000]\n",
    "\n",
    "model.eval()\n",
    "x_day_test = torch.tensor(x_day_test, dtype=torch.float32)\n",
    "x_week_test = torch.tensor(x_week_test, dtype=torch.float32)\n",
    "x_month_test = torch.tensor(x_month_test, dtype=torch.float32)\n",
    "\n",
    "\n",
    "test_running_loss = 0\n",
    "with torch.no_grad(): # it will temprerorerly set all the required grad flags to be false\n",
    "    model.eval()\n",
    "    for b in range(0, len(x_day_test), batch_size):\n",
    "        inpt1 = x_day_test[b:b+batch_size, :, :]\n",
    "        target1 = y_day_test[b:b+batch_size]\n",
    "\n",
    "        inpt2 = x_week_test[b:b+batch_size, :, :]\n",
    "        target2 = y_week_test[b:b+batch_size]\n",
    "\n",
    "        inpt3 = x_month_test[b:b+batch_size, :, :]\n",
    "        target3 = y_month_test[b:b+batch_size]\n",
    "\n",
    "        x_batch1 = torch.tensor(inpt1, dtype=torch.float32)    \n",
    "        y_batch1 = torch.tensor(target1, dtype=torch.float32)\n",
    "\n",
    "        x_batch2 = torch.tensor(inpt2, dtype=torch.float32)    \n",
    "        y_batch2 = torch.tensor(target2, dtype=torch.float32)\n",
    "\n",
    "        x_batch3 = torch.tensor(inpt3, dtype=torch.float32)    \n",
    "        y_batch3 = torch.tensor(target3, dtype=torch.float32)\n",
    "\n",
    "        output_test = model(x_batch1, x_batch2, x_batch3) \n",
    "        loss_test = criterion(output_test.view(-1), y_batch1)\n",
    "\n",
    "        test_running_loss += loss_test.item()\n",
    "\n",
    "    test_epoch_loss = test_running_loss / len(x_day_test)\n",
    "\n",
    "print(\"##########################################################\")\n",
    "print(\">>>>---------------------------------------------------<<<<\")\n",
    "print(\">>>>----------***************************--------------<<<<\")\n",
    "print(\"**** Test Loss :==>>> \", test_epoch_loss)\n",
    "print(\">>>>----------***************************--------------<<<<\")\n",
    "print(\">>>>---------------------------------------------------<<<<\")\n",
    "print(\"##########################################################\")"
   ]
  },
  {
   "cell_type": "markdown",
   "metadata": {
    "colab_type": "text",
    "id": "2wUlb4EkirD2"
   },
   "source": [
    "# **Predict Only 12 & 24 Times!**"
   ]
  },
  {
   "cell_type": "code",
   "execution_count": 0,
   "metadata": {
    "colab": {},
    "colab_type": "code",
    "id": "EdVj6XlI5Guj"
   },
   "outputs": [],
   "source": [
    "# split a multivariate sequence into samples\n",
    "def split_sequences12(sequences, n_steps, n_samples=12000, start_from=0):\n",
    "    X, y = list(), list()\n",
    "    j = 0\n",
    "    for i in range(start_from, (start_from + n_samples)):\n",
    "        # find the end of this pattern\n",
    "        end_ix = j*12 + n_steps + start_from\n",
    "        # check if we are beyond the dataset\n",
    "        # gather input and output parts of the pattern\n",
    "        j = j + 1\n",
    "        seq_x = sequences[end_ix-11:end_ix, :]\n",
    "        seq_y = sequences[end_ix, 0]\n",
    "        y.append(seq_y)\n",
    "        X.append(seq_x)\n",
    "    print(\"End :=> \", end_ix)\n",
    "    return array(X), array(y)"
   ]
  },
  {
   "cell_type": "code",
   "execution_count": 0,
   "metadata": {
    "colab": {},
    "colab_type": "code",
    "id": "mkMiRJt2Nrs8"
   },
   "outputs": [],
   "source": [
    "x, y = split_sequences12(sequences=dataset, n_steps=11, n_samples=100, start_from=20500)\n",
    "x = torch.tensor(x, dtype=torch.float32)\n",
    "x.shape"
   ]
  },
  {
   "cell_type": "code",
   "execution_count": 0,
   "metadata": {
    "colab": {},
    "colab_type": "code",
    "id": "iB6VElOqNt0m"
   },
   "outputs": [],
   "source": [
    "model.eval()\n",
    "res = model(x)"
   ]
  },
  {
   "cell_type": "code",
   "execution_count": 0,
   "metadata": {
    "colab": {},
    "colab_type": "code",
    "id": "dcy2paMLYJLL"
   },
   "outputs": [],
   "source": [
    "fig = plt.figure(figsize=(20, 7))\n",
    "plt.title(\"Beijing Polution Prediction - 12Hour\", fontsize=18)\n",
    "plt.ylabel('Polution')\n",
    "plt.xlabel('Num data')\n",
    "plt.grid(True)\n",
    "plt.autoscale(axis='x', tight=True)\n",
    "fig.autofmt_xdate()\n",
    "\n",
    "# plt.plot(data[15000:15100, 0])\n",
    "plt.plot(y, label=\"Real\")\n",
    "# plt.plot(preds[12:])\n",
    "print(res.shape)\n",
    "plt.plot(res.detach().numpy(), label=\"Prediction\")\n",
    "plt.legend()\n",
    "plt.show()"
   ]
  },
  {
   "cell_type": "code",
   "execution_count": 0,
   "metadata": {
    "colab": {},
    "colab_type": "code",
    "id": "CCHg1BGtYjlZ"
   },
   "outputs": [],
   "source": [
    "df_y = DataFrame(y)\n",
    "\n",
    "df_y.columns = ['Real Values']\n",
    "df_y['Predicted Values'] = res.detach().numpy()\n",
    "# dataset.index.name = 'date'"
   ]
  },
  {
   "cell_type": "code",
   "execution_count": 0,
   "metadata": {
    "colab": {},
    "colab_type": "code",
    "id": "NDvBHJZBiCJr"
   },
   "outputs": [],
   "source": [
    "pd.set_option(\"max_rows\", None)\n",
    "df_y.to_csv('Predict_every12Hour_LSTM_ADAM_MSE.csv')\n",
    "df_y"
   ]
  },
  {
   "cell_type": "code",
   "execution_count": 0,
   "metadata": {
    "colab": {},
    "colab_type": "code",
    "id": "1wFFK2YbiFSh"
   },
   "outputs": [],
   "source": []
  }
 ],
 "metadata": {
  "colab": {
   "collapsed_sections": [],
   "name": "MiniProj_LSTM_Adam_MSE_Q1_PartF_Pytorch_Normal.ipynb",
   "provenance": []
  },
  "kernelspec": {
   "display_name": "Python 3",
   "language": "python",
   "name": "python3"
  },
  "language_info": {
   "codemirror_mode": {
    "name": "ipython",
    "version": 3
   },
   "file_extension": ".py",
   "mimetype": "text/x-python",
   "name": "python",
   "nbconvert_exporter": "python",
   "pygments_lexer": "ipython3",
   "version": "3.8.2"
  }
 },
 "nbformat": 4,
 "nbformat_minor": 1
}
