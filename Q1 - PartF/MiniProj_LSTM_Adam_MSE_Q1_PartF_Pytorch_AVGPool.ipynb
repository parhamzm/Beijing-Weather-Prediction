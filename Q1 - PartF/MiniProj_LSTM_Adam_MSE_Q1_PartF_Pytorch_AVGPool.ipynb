{
 "cells": [
  {
   "cell_type": "code",
   "execution_count": 1,
   "metadata": {
    "colab": {
     "base_uri": "https://localhost:8080/",
     "height": 34
    },
    "colab_type": "code",
    "id": "PcJDApDcK0O9",
    "outputId": "47ac115a-2f76-4523-95ee-91e75fc77089"
   },
   "outputs": [
    {
     "name": "stdout",
     "output_type": "stream",
     "text": [
      "fatal: destination path 'Beijing-Pollution-DataSet' already exists and is not an empty directory.\n"
     ]
    }
   ],
   "source": [
    "!git clone https://github.com/parhamzm/Beijing-Pollution-DataSet"
   ]
  },
  {
   "cell_type": "code",
   "execution_count": 2,
   "metadata": {
    "colab": {
     "base_uri": "https://localhost:8080/",
     "height": 34
    },
    "colab_type": "code",
    "id": "0-KcI9tFLGXP",
    "outputId": "1f050307-2b6f-4122-b424-8fc11542d7c5"
   },
   "outputs": [
    {
     "name": "stdout",
     "output_type": "stream",
     "text": [
      "pollution.csv  polution_dataSet.npy  README.md\n"
     ]
    }
   ],
   "source": [
    "!ls Beijing-Pollution-DataSet"
   ]
  },
  {
   "cell_type": "code",
   "execution_count": 0,
   "metadata": {
    "colab": {},
    "colab_type": "code",
    "id": "9NuzKJEnLNyx"
   },
   "outputs": [],
   "source": [
    "import torch\n",
    "import torchvision\n",
    "import torch.nn as nn\n",
    "from torchvision import transforms\n",
    "import pandas as pd\n",
    "\n",
    "import matplotlib.pyplot as plt\n",
    "import numpy as np\n",
    "\n",
    "from torch.utils.data import random_split\n",
    "\n",
    "from math import sqrt\n",
    "from numpy import concatenate\n",
    "from matplotlib import pyplot\n",
    "from pandas import read_csv\n",
    "from pandas import DataFrame\n",
    "from pandas import concat\n",
    "from sklearn.preprocessing import MinMaxScaler\n",
    "from sklearn.preprocessing import LabelEncoder\n",
    "from sklearn.metrics import mean_squared_error\n",
    "\n",
    "from numpy import array\n",
    "from numpy import hstack"
   ]
  },
  {
   "cell_type": "markdown",
   "metadata": {
    "colab_type": "text",
    "id": "Q_0pmTGAHWmf"
   },
   "source": [
    "# **Data Pre Processing**"
   ]
  },
  {
   "cell_type": "code",
   "execution_count": 4,
   "metadata": {
    "colab": {
     "base_uri": "https://localhost:8080/",
     "height": 136
    },
    "colab_type": "code",
    "id": "GjcwsJBc9eIG",
    "outputId": "0183cdb5-6976-4868-e9ae-ca6c622fc977"
   },
   "outputs": [
    {
     "name": "stdout",
     "output_type": "stream",
     "text": [
      "X-Week shape =>  (33000, 6, 8)\n",
      "y-Week shape =>  (33000,)\n",
      "X-Month shape =>  (33000, 3, 8)\n",
      "y-Month shape =>  (33000,)\n",
      "(43799, 8)\n",
      "X-Day shape =>  (33000, 11, 8)\n",
      "y-Day shape =>  (33000,)\n"
     ]
    }
   ],
   "source": [
    "DATA_DIR = \"Beijing-Pollution-DataSet/\"\n",
    "from pandas import read_csv\n",
    "from datetime import datetime\n",
    "from random import randint\n",
    "\n",
    "def select_week(sequences, n_samples=250):\n",
    "    X, y = list(), list()\n",
    "    rand_hour = 360 #randint(0, 24)\n",
    "    for i in range(0, n_samples):\n",
    "        start_ix = rand_hour #+ 168 * i # 168 : Week hours!\n",
    "        idxs = []\n",
    "        for j in range(0, 7):\n",
    "            if j <=5:\n",
    "                idx = start_ix + (j * 24) # Add different days in week\n",
    "                # print(\"Id x Week:=> \", idx)\n",
    "                idxs.append(idx)\n",
    "            if j == 6: # Target\n",
    "                idy = start_ix + (j * 24)\n",
    "        seq_x = sequences[idxs, :]\n",
    "        seq_y = sequences[idy, 0]\n",
    "        y.append(seq_y)\n",
    "        X.append(seq_x)\n",
    "        # print(\"Id y Week:=> \", idy)\n",
    "        rand_hour += 1\n",
    "    return X, y\n",
    "\n",
    "\n",
    "def select_month(sequences, n_samples=250):\n",
    "    X, y = list(), list()\n",
    "    rand_hour = 0 #randint(0, 24)\n",
    "    rand_day = 0 #randint(0, 7)\n",
    "    for i in range(0, n_samples):\n",
    "        start_ix = rand_hour #+ rand_day*24 + 672 * i # 168 : Week hours!\n",
    "        idxs = []\n",
    "        for j in range(0, 4):\n",
    "            if j <=2:\n",
    "                idx = start_ix + (j * 168) # Add different weeks\n",
    "                idxs.append(idx)\n",
    "                # print(\"Id x Month:=> \", idx)\n",
    "                # print(\"Hello\")\n",
    "            if j == 3: # Target\n",
    "                idy = start_ix + (j * 168)\n",
    "        seq_x = sequences[idxs, :]\n",
    "        seq_y = sequences[idy, 0]\n",
    "        # print(\"Id y Month:=> \", idy)\n",
    "        y.append(seq_y)\n",
    "        X.append(seq_x)\n",
    "\n",
    "        rand_hour += 1\n",
    "\n",
    "    return X, y\n",
    "\n",
    "\n",
    "# split a multivariate sequence into samples\n",
    "def split_sequences(sequences, n_steps=11, n_samples=12000, start_from=493):\n",
    "\tX, y = list(), list()\n",
    "\tfor i in range(start_from, (start_from + n_samples)):\n",
    "        # find the end of this pattern\n",
    "\t\tend_ix = i + n_steps\n",
    "        # check if we are beyond the dataset\n",
    "        # gather input and output parts of the pattern\n",
    "\t\tseq_x = sequences[i:end_ix, :]\n",
    "\t\tseq_y = sequences[end_ix, 0]\n",
    "\t\ty.append(seq_y)\n",
    "\t\tX.append(seq_x)\n",
    "  \n",
    "\treturn array(X), array(y)\n",
    "\n",
    "\n",
    "# load dataset\n",
    "DATA_DIR = \"Beijing-Pollution-DataSet/\"\n",
    "\n",
    "data = np.load(DATA_DIR + 'polution_dataSet.npy')\n",
    "scaled_data = data\n",
    "\n",
    "# specify the number of lag hours\n",
    "n_hours = 11\n",
    "n_features = 8\n",
    "\n",
    "\n",
    "x_week, y_week = select_week(data, n_samples=33000)\n",
    "print(\"X-Week shape => \", np.array(x_week).shape)\n",
    "print(\"y-Week shape => \", np.array(y_week).shape)\n",
    "x_week = np.array(x_week)\n",
    "y_week = np.array(y_week)\n",
    "\n",
    "x_month, y_month = select_month(data, n_samples=33000)\n",
    "print(\"X-Month shape => \", np.array(x_month).shape)\n",
    "print(\"y-Month shape => \", np.array(y_month).shape)\n",
    "x_month = np.array(x_month)\n",
    "y_month = np.array(y_month)\n",
    "\n",
    "n_timesteps = 11\n",
    "dataset = data\n",
    "print(data.shape)\n",
    "day_X, day_y = split_sequences(sequences=dataset, n_steps=n_timesteps, n_samples=33000)\n",
    "print(\"X-Day shape => \", np.array(day_X).shape)\n",
    "print(\"y-Day shape => \", np.array(day_y).shape)\n",
    "\n",
    "x_day_test, y_day_test = day_X[27000:30000], day_y[27000:30000]\n",
    "x_week_test, y_week_test = x_week[27000:30000], y_week[27000:30000]\n",
    "x_month_test, y_month_test = x_month[27000:30000], y_month[27000:30000]\n",
    "\n",
    "x_day_train, y_day_train = day_X[:27000], day_y[:27000]\n",
    "x_week_train, y_week_train = x_week[:27000], y_week[:27000]\n",
    "x_month_train, y_month_train = x_month[:27000], y_month[:27000]"
   ]
  },
  {
   "cell_type": "code",
   "execution_count": 5,
   "metadata": {
    "colab": {
     "base_uri": "https://localhost:8080/",
     "height": 34
    },
    "colab_type": "code",
    "id": "sIihkChW80JC",
    "outputId": "94f07045-3177-4e9d-d8d8-d39a651ce0ff"
   },
   "outputs": [
    {
     "data": {
      "text/plain": [
       "0.0"
      ]
     },
     "execution_count": 5,
     "metadata": {
      "tags": []
     },
     "output_type": "execute_result"
    }
   ],
   "source": [
    "y_batch_test1 = torch.tensor(day_y, dtype=torch.float32)\n",
    "y_batch_test2 = torch.tensor(y_week, dtype=torch.float32)\n",
    "y_batch_test3 = torch.tensor(y_month, dtype=torch.float32)\n",
    "criterion = nn.MSELoss()\n",
    "\n",
    "loss_test = criterion(y_batch_test1, y_batch_test2)\n",
    "\n",
    "# train_X = torch.tensor(train_X, dtype=torch.float32)    \n",
    "# train_y = torch.tensor(train_y, dtype=torch.float32)\n",
    "loss_test.item()"
   ]
  },
  {
   "cell_type": "code",
   "execution_count": 0,
   "metadata": {
    "colab": {},
    "colab_type": "code",
    "id": "pDpTe3gIYsW4"
   },
   "outputs": [],
   "source": [
    "class LSTM(torch.nn.Module):\n",
    "    def __init__(self, n_features=8, n_output=1, seq_length=11, n_hidden_layers=233, n_layers=1, dropout=0):\n",
    "        super(LSTM, self).__init__()\n",
    "        self.n_features = n_features\n",
    "        self.seq_len = seq_length\n",
    "\n",
    "        self.n_hidden = n_hidden_layers # number of hidden states\n",
    "        self.n_layers = n_layers # number of LSTM layers (stacked)\n",
    "        self.n_output = n_output\n",
    "\n",
    "        self.l_lstm = torch.nn.LSTM(input_size = n_features, \n",
    "                                 hidden_size = self.n_hidden,\n",
    "                                 num_layers = self.n_layers,\n",
    "                                 dropout=dropout,\n",
    "                                 batch_first = True)\n",
    "        \n",
    "        self.lstm2 = torch.nn.LSTM(input_size = n_features, \n",
    "                                 hidden_size = self.n_hidden,\n",
    "                                 num_layers = self.n_layers,\n",
    "                                 dropout=dropout,\n",
    "                                 batch_first = True)\n",
    "        \n",
    "        self.lstm3 = torch.nn.LSTM(input_size = n_features, \n",
    "                                 hidden_size = self.n_hidden,\n",
    "                                 num_layers = self.n_layers,\n",
    "                                 dropout=dropout,\n",
    "                                 batch_first = True)\n",
    "\n",
    "        self.l_linear = torch.nn.Linear(self.n_hidden * self.seq_len, self.n_output)\n",
    "        self.linear2 = torch.nn.Linear(self.n_hidden * 6, self.n_output)\n",
    "        self.linear3 = torch.nn.Linear(self.n_hidden * 3, self.n_output)\n",
    "        self.avgpool = nn.AvgPool1d(kernel_size=3, stride=3, padding=0)\n",
    "\n",
    "\n",
    "    def forward(self, x1, x2, x3):\n",
    "        hidden_state = torch.zeros(self.n_layers, x1.size(0), self.n_hidden).requires_grad_()\n",
    "        cell_state = torch.zeros(self.n_layers, x1.size(0), self.n_hidden).requires_grad_()\n",
    "        self.hidden = (hidden_state.detach(), cell_state.detach())\n",
    "        batch_size, seq_len, _ = x1.size()\n",
    "        lstm_out, self.hidden = self.l_lstm(x1, self.hidden)\n",
    "        x = lstm_out.contiguous().view(batch_size, -1)\n",
    "        out1 = self.l_linear(x)\n",
    "\n",
    "        hidden_state = torch.zeros(self.n_layers, x2.size(0), self.n_hidden).requires_grad_()\n",
    "        cell_state = torch.zeros(self.n_layers, x2.size(0), self.n_hidden).requires_grad_()\n",
    "        self.hidden = (hidden_state.detach(), cell_state.detach())\n",
    "        batch_size, seq_len, _ = x2.size()\n",
    "        lstm_out, self.hidden = self.lstm2(x2, self.hidden)\n",
    "        x = lstm_out.contiguous().view(batch_size, -1)\n",
    "        out2 = self.linear2(x)\n",
    "\n",
    "        hidden_state = torch.zeros(self.n_layers, x3.size(0), self.n_hidden).requires_grad_()\n",
    "        cell_state = torch.zeros(self.n_layers, x3.size(0), self.n_hidden).requires_grad_()\n",
    "        self.hidden = (hidden_state.detach(), cell_state.detach())\n",
    "        batch_size, seq_len, _ = x3.size()\n",
    "        lstm_out, self.hidden = self.lstm3(x3, self.hidden)\n",
    "        x = lstm_out.contiguous().view(batch_size, -1)\n",
    "        out3 = self.linear3(x)\n",
    "\n",
    "        x3 = torch.cat((out1, out2, out3), dim=1).view(1, 1, batch_size*3) #.unsqueeze_(-1) #.view(-1)\n",
    "        # a.unsqueeze_(-1)\n",
    "        # print(\"X3 shape :=> \", x3.shape)\n",
    "\n",
    "        out = self.avgpool(x3)\n",
    "        # print(\"out size = => \", out.shape)\n",
    "\n",
    "        return out"
   ]
  },
  {
   "cell_type": "code",
   "execution_count": 0,
   "metadata": {
    "colab": {},
    "colab_type": "code",
    "id": "PCxQTgWnavOJ"
   },
   "outputs": [],
   "source": [
    "torch.manual_seed(13)\n",
    "model = LSTM(n_features=8, n_output=1, seq_length=11, n_hidden_layers=233, n_layers=1)\n",
    "criterion = nn.MSELoss()\n",
    "optimizer = torch.optim.Adam(model.parameters(), lr=0.0003)"
   ]
  },
  {
   "cell_type": "code",
   "execution_count": 8,
   "metadata": {
    "colab": {
     "base_uri": "https://localhost:8080/",
     "height": 323
    },
    "colab_type": "code",
    "id": "oWbmF4vLbJ5N",
    "outputId": "1da38584-819d-4861-aca0-2d88058a1121"
   },
   "outputs": [
    {
     "name": "stdout",
     "output_type": "stream",
     "text": [
      "7456\n",
      "217156\n",
      "932\n",
      "932\n",
      "7456\n",
      "217156\n",
      "932\n",
      "932\n",
      "7456\n",
      "217156\n",
      "932\n",
      "932\n",
      "2563\n",
      "1\n",
      "1398\n",
      "1\n",
      "699\n",
      "1\n"
     ]
    }
   ],
   "source": [
    "model = model #.to(device)\n",
    "criterion = criterion #.to(device)\n",
    "for p in model.parameters():\n",
    "    print(p.numel())"
   ]
  },
  {
   "cell_type": "code",
   "execution_count": 9,
   "metadata": {
    "colab": {
     "base_uri": "https://localhost:8080/",
     "height": 1000
    },
    "colab_type": "code",
    "id": "5R__1vOLzB-i",
    "outputId": "5b6730e9-b2ad-4be3-df93-60da276b9e50"
   },
   "outputs": [
    {
     "name": "stdout",
     "output_type": "stream",
     "text": [
      "step :  0  Train loss :  3.51905343489273e-05 , Valid Loss : =>  0.00021972281392663718\n",
      "***->>>-----------------------------------------------<<<-***\n",
      "step :  1  Train loss :  4.0000458577803026e-05 , Valid Loss : =>  3.4736850531771776e-05\n",
      "***->>>-----------------------------------------------<<<-***\n",
      "step :  2  Train loss :  3.3358957014839956e-05 , Valid Loss : =>  1.8175863680274537e-05\n",
      "***->>>-----------------------------------------------<<<-***\n",
      "step :  3  Train loss :  1.8889483810333466e-05 , Valid Loss : =>  2.0077199093066155e-05\n",
      "***->>>-----------------------------------------------<<<-***\n",
      "step :  4  Train loss :  1.8793565444260216e-05 , Valid Loss : =>  1.432152701697002e-05\n",
      "***->>>-----------------------------------------------<<<-***\n",
      "step :  5  Train loss :  1.5019071275471813e-05 , Valid Loss : =>  1.24088148586452e-05\n",
      "***->>>-----------------------------------------------<<<-***\n",
      "step :  6  Train loss :  1.2354581347338994e-05 , Valid Loss : =>  1.0060687413594375e-05\n",
      "***->>>-----------------------------------------------<<<-***\n",
      "step :  7  Train loss :  1.0433134760845591e-05 , Valid Loss : =>  9.257079179709157e-06\n",
      "***->>>-----------------------------------------------<<<-***\n",
      "step :  8  Train loss :  9.16834384379736e-06 , Valid Loss : =>  7.901284048178544e-06\n",
      "***->>>-----------------------------------------------<<<-***\n",
      "step :  9  Train loss :  8.21472231203828e-06 , Valid Loss : =>  7.003158835383753e-06\n",
      "***->>>-----------------------------------------------<<<-***\n",
      "step :  10  Train loss :  7.666931123283036e-06 , Valid Loss : =>  1.0135576225972425e-05\n",
      "***->>>-----------------------------------------------<<<-***\n",
      "step :  11  Train loss :  9.007610084221664e-06 , Valid Loss : =>  3.3025936611617606e-05\n",
      "***->>>-----------------------------------------------<<<-***\n",
      "step :  12  Train loss :  1.1675576110805936e-05 , Valid Loss : =>  5.4950432696690165e-05\n",
      "***->>>-----------------------------------------------<<<-***\n",
      "step :  13  Train loss :  1.3029656523334173e-05 , Valid Loss : =>  3.0244559592877824e-05\n",
      "***->>>-----------------------------------------------<<<-***\n",
      "step :  14  Train loss :  1.1334613722822352e-05 , Valid Loss : =>  7.874606439145282e-06\n",
      "***->>>-----------------------------------------------<<<-***\n",
      "step :  15  Train loss :  7.521055780536564e-06 , Valid Loss : =>  1.54864436481148e-05\n",
      "***->>>-----------------------------------------------<<<-***\n",
      "step :  16  Train loss :  9.197335738227357e-06 , Valid Loss : =>  1.9004052388481797e-05\n",
      "***->>>-----------------------------------------------<<<-***\n",
      "step :  17  Train loss :  8.105030565207859e-06 , Valid Loss : =>  7.864450220949948e-06\n",
      "***->>>-----------------------------------------------<<<-***\n",
      "step :  18  Train loss :  6.125726564614861e-06 , Valid Loss : =>  4.73316556114393e-06\n",
      "***->>>-----------------------------------------------<<<-***\n",
      "step :  19  Train loss :  5.537142058730954e-06 , Valid Loss : =>  6.8436377526571355e-06\n",
      "***->>>-----------------------------------------------<<<-***\n",
      "step :  20  Train loss :  5.857696123981711e-06 , Valid Loss : =>  4.6736046109193315e-06\n",
      "***->>>-----------------------------------------------<<<-***\n",
      "step :  21  Train loss :  5.248713104433759e-06 , Valid Loss : =>  6.553405789115155e-06\n",
      "***->>>-----------------------------------------------<<<-***\n",
      "step :  22  Train loss :  5.512176797815805e-06 , Valid Loss : =>  9.166783624095843e-06\n",
      "***->>>-----------------------------------------------<<<-***\n",
      "step :  23  Train loss :  6.036647448329151e-06 , Valid Loss : =>  9.213069356822719e-06\n",
      "***->>>-----------------------------------------------<<<-***\n",
      "step :  24  Train loss :  5.735163061116408e-06 , Valid Loss : =>  5.827740358654409e-06\n",
      "***->>>-----------------------------------------------<<<-***\n",
      "step :  25  Train loss :  5.185884852565963e-06 , Valid Loss : =>  4.3992015804784995e-06\n",
      "***->>>-----------------------------------------------<<<-***\n",
      "step :  26  Train loss :  5.1404027703770055e-06 , Valid Loss : =>  7.0663609076291324e-06\n",
      "***->>>-----------------------------------------------<<<-***\n",
      "step :  27  Train loss :  5.681445228455467e-06 , Valid Loss : =>  6.091035242813329e-06\n",
      "***->>>-----------------------------------------------<<<-***\n",
      "step :  28  Train loss :  5.077403283427918e-06 , Valid Loss : =>  4.047054001906266e-06\n",
      "***->>>-----------------------------------------------<<<-***\n",
      "step :  29  Train loss :  4.719723963515005e-06 , Valid Loss : =>  1.3008838500051449e-05\n",
      "***->>>-----------------------------------------------<<<-***\n",
      "step :  30  Train loss :  6.109673781018635e-06 , Valid Loss : =>  1.6710288085353872e-05\n",
      "***->>>-----------------------------------------------<<<-***\n",
      "step :  31  Train loss :  6.3538607026674546e-06 , Valid Loss : =>  2.9312636043565967e-05\n",
      "***->>>-----------------------------------------------<<<-***\n",
      "step :  32  Train loss :  7.302444495036508e-06 , Valid Loss : =>  2.5949045782908797e-05\n",
      "***->>>-----------------------------------------------<<<-***\n",
      "step :  33  Train loss :  7.809474958641523e-06 , Valid Loss : =>  1.0856521092743302e-05\n",
      "***->>>-----------------------------------------------<<<-***\n",
      "step :  34  Train loss :  6.2417653955182885e-06 , Valid Loss : =>  6.431191868614406e-06\n",
      "***->>>-----------------------------------------------<<<-***\n",
      "step :  35  Train loss :  6.01733735648277e-06 , Valid Loss : =>  7.963307861549159e-06\n",
      "***->>>-----------------------------------------------<<<-***\n",
      "step :  36  Train loss :  5.11460158843504e-06 , Valid Loss : =>  3.8103936094557867e-06\n",
      "***->>>-----------------------------------------------<<<-***\n",
      "step :  37  Train loss :  4.538040066513026e-06 , Valid Loss : =>  4.318752471590414e-06\n",
      "***->>>-----------------------------------------------<<<-***\n",
      "step :  38  Train loss :  4.462683572826252e-06 , Valid Loss : =>  4.6050120436120776e-06\n",
      "***->>>-----------------------------------------------<<<-***\n",
      "step :  39  Train loss :  4.5204864614384455e-06 , Valid Loss : =>  3.543579330046972e-06\n",
      "***->>>-----------------------------------------------<<<-***\n",
      "step :  40  Train loss :  4.212549933409146e-06 , Valid Loss : =>  4.496130408369936e-06\n",
      "***->>>-----------------------------------------------<<<-***\n",
      "step :  41  Train loss :  4.456415789145804e-06 , Valid Loss : =>  3.4927830080656955e-06\n",
      "***->>>-----------------------------------------------<<<-***\n",
      "step :  42  Train loss :  4.314314550019507e-06 , Valid Loss : =>  4.496976219040031e-06\n",
      "***->>>-----------------------------------------------<<<-***\n",
      "step :  43  Train loss :  4.532571388861268e-06 , Valid Loss : =>  4.045596588791038e-06\n",
      "***->>>-----------------------------------------------<<<-***\n",
      "step :  44  Train loss :  4.304007918108255e-06 , Valid Loss : =>  3.7691151519538837e-06\n",
      "***->>>-----------------------------------------------<<<-***\n",
      "step :  45  Train loss :  4.416245565624666e-06 , Valid Loss : =>  6.554930373871078e-06\n",
      "***->>>-----------------------------------------------<<<-***\n",
      "step :  46  Train loss :  5.197011970772615e-06 , Valid Loss : =>  5.2514183383512625e-06\n",
      "***->>>-----------------------------------------------<<<-***\n",
      "step :  47  Train loss :  4.931931333515051e-06 , Valid Loss : =>  4.22275927849114e-06\n",
      "***->>>-----------------------------------------------<<<-***\n",
      "step :  48  Train loss :  4.837694390045255e-06 , Valid Loss : =>  1.0108689855163297e-05\n",
      "***->>>-----------------------------------------------<<<-***\n",
      "step :  49  Train loss :  5.969652036718024e-06 , Valid Loss : =>  3.3372266528507074e-05\n",
      "***->>>-----------------------------------------------<<<-***\n",
      "step :  50  Train loss :  7.701197819120284e-06 , Valid Loss : =>  7.313730862612525e-05\n",
      "***->>>-----------------------------------------------<<<-***\n",
      "step :  51  Train loss :  9.926781722309964e-06 , Valid Loss : =>  4.012026987038553e-05\n",
      "***->>>-----------------------------------------------<<<-***\n",
      "step :  52  Train loss :  8.29500370794752e-06 , Valid Loss : =>  3.978571384019839e-06\n",
      "***->>>-----------------------------------------------<<<-***\n",
      "step :  53  Train loss :  5.303682815456004e-06 , Valid Loss : =>  6.4980743918567895e-06\n",
      "***->>>-----------------------------------------------<<<-***\n",
      "step :  54  Train loss :  4.773310356001645e-06 , Valid Loss : =>  4.0176171993759154e-06\n",
      "***->>>-----------------------------------------------<<<-***\n",
      "step :  55  Train loss :  4.197875177649419e-06 , Valid Loss : =>  3.566262351038555e-06\n",
      "***->>>-----------------------------------------------<<<-***\n",
      "step :  56  Train loss :  4.08517784537118e-06 , Valid Loss : =>  3.334504804418733e-06\n",
      "***->>>-----------------------------------------------<<<-***\n",
      "step :  57  Train loss :  4.054787381728938e-06 , Valid Loss : =>  3.3289977703437518e-06\n",
      "***->>>-----------------------------------------------<<<-***\n",
      "step :  58  Train loss :  4.03382512309623e-06 , Valid Loss : =>  3.3451402802408364e-06\n",
      "***->>>-----------------------------------------------<<<-***\n",
      "step :  59  Train loss :  4.033377243979851e-06 , Valid Loss : =>  3.328208030628351e-06\n",
      "***->>>-----------------------------------------------<<<-***\n",
      "step :  60  Train loss :  4.03655335847159e-06 , Valid Loss : =>  3.3473234216216954e-06\n",
      "***->>>-----------------------------------------------<<<-***\n",
      "step :  61  Train loss :  4.027254209278099e-06 , Valid Loss : =>  3.3611617667096045e-06\n",
      "***->>>-----------------------------------------------<<<-***\n",
      "step :  62  Train loss :  4.041160672420153e-06 , Valid Loss : =>  3.3475466868064057e-06\n",
      "***->>>-----------------------------------------------<<<-***\n",
      "step :  63  Train loss :  4.046971608153803e-06 , Valid Loss : =>  3.4704283219374096e-06\n",
      "***->>>-----------------------------------------------<<<-***\n",
      "step :  64  Train loss :  4.11289591580431e-06 , Valid Loss : =>  3.8467979029519485e-06\n",
      "***->>>-----------------------------------------------<<<-***\n",
      "step :  65  Train loss :  4.2233269950547425e-06 , Valid Loss : =>  3.503474741592072e-06\n",
      "***->>>-----------------------------------------------<<<-***\n",
      "step :  66  Train loss :  4.136243137677579e-06 , Valid Loss : =>  5.487082671606913e-06\n",
      "***->>>-----------------------------------------------<<<-***\n",
      "step :  67  Train loss :  5.129774076825318e-06 , Valid Loss : =>  9.674392650291944e-06\n",
      "***->>>-----------------------------------------------<<<-***\n",
      "step :  68  Train loss :  5.599102116927194e-06 , Valid Loss : =>  1.3039591140113771e-05\n",
      "***->>>-----------------------------------------------<<<-***\n",
      "step :  69  Train loss :  5.9651829419804185e-06 , Valid Loss : =>  7.873207699352255e-06\n",
      "***->>>-----------------------------------------------<<<-***\n",
      "step :  70  Train loss :  5.258930868607153e-06 , Valid Loss : =>  6.79105108914276e-06\n",
      "***->>>-----------------------------------------------<<<-***\n",
      "step :  71  Train loss :  5.656520394916663e-06 , Valid Loss : =>  7.318972571132084e-06\n",
      "***->>>-----------------------------------------------<<<-***\n",
      "step :  72  Train loss :  5.077699630352004e-06 , Valid Loss : =>  3.5965189017588272e-06\n",
      "***->>>-----------------------------------------------<<<-***\n",
      "step :  73  Train loss :  4.327656901700215e-06 , Valid Loss : =>  5.559598619583994e-06\n",
      "***->>>-----------------------------------------------<<<-***\n",
      "step :  74  Train loss :  4.536027834142765e-06 , Valid Loss : =>  5.194131372263655e-06\n",
      "***->>>-----------------------------------------------<<<-***\n",
      "step :  75  Train loss :  4.450800202633858e-06 , Valid Loss : =>  3.5095788722780223e-06\n",
      "***->>>-----------------------------------------------<<<-***\n",
      "step :  76  Train loss :  4.122972502416276e-06 , Valid Loss : =>  4.042351734824478e-06\n",
      "***->>>-----------------------------------------------<<<-***\n",
      "step :  77  Train loss :  4.201995705510921e-06 , Valid Loss : =>  4.291617680185785e-06\n",
      "***->>>-----------------------------------------------<<<-***\n",
      "step :  78  Train loss :  4.281327738512859e-06 , Valid Loss : =>  3.523940070105406e-06\n",
      "***->>>-----------------------------------------------<<<-***\n",
      "step :  79  Train loss :  4.094698441837897e-06 , Valid Loss : =>  4.464707807831777e-06\n",
      "***->>>-----------------------------------------------<<<-***\n",
      "step :  80  Train loss :  4.288189112331666e-06 , Valid Loss : =>  3.578582987150488e-06\n",
      "***->>>-----------------------------------------------<<<-***\n",
      "step :  81  Train loss :  4.1919474345006705e-06 , Valid Loss : =>  4.276318708434701e-06\n",
      "***->>>-----------------------------------------------<<<-***\n",
      "step :  82  Train loss :  4.3750293633719495e-06 , Valid Loss : =>  3.6471115696864822e-06\n",
      "***->>>-----------------------------------------------<<<-***\n",
      "step :  83  Train loss :  4.150441807993317e-06 , Valid Loss : =>  4.838661901885644e-06\n",
      "***->>>-----------------------------------------------<<<-***\n",
      "step :  84  Train loss :  4.458793975775027e-06 , Valid Loss : =>  5.419467105336177e-06\n",
      "***->>>-----------------------------------------------<<<-***\n",
      "step :  85  Train loss :  4.738804430450761e-06 , Valid Loss : =>  4.144373645734353e-06\n",
      "***->>>-----------------------------------------------<<<-***\n",
      "step :  86  Train loss :  4.411578421746122e-06 , Valid Loss : =>  5.70480790338479e-06\n",
      "***->>>-----------------------------------------------<<<-***\n",
      "step :  87  Train loss :  4.8714981635890175e-06 , Valid Loss : =>  9.02501936070621e-06\n",
      "***->>>-----------------------------------------------<<<-***\n",
      "step :  88  Train loss :  5.271237797488639e-06 , Valid Loss : =>  2.4157296167686583e-05\n",
      "***->>>-----------------------------------------------<<<-***\n",
      "step :  89  Train loss :  6.613326859897589e-06 , Valid Loss : =>  3.69483094351987e-05\n",
      "***->>>-----------------------------------------------<<<-***\n",
      "step :  90  Train loss :  7.78597300652311e-06 , Valid Loss : =>  1.1068069259636103e-05\n",
      "***->>>-----------------------------------------------<<<-***\n",
      "step :  91  Train loss :  5.490844413375103e-06 , Valid Loss : =>  1.0792964545544238e-05\n",
      "***->>>-----------------------------------------------<<<-***\n",
      "step :  92  Train loss :  5.0697072209139285e-06 , Valid Loss : =>  4.25593299830022e-06\n",
      "***->>>-----------------------------------------------<<<-***\n",
      "step :  93  Train loss :  4.135442347399442e-06 , Valid Loss : =>  3.6793151424111178e-06\n",
      "***->>>-----------------------------------------------<<<-***\n",
      "step :  94  Train loss :  4.0151922396573895e-06 , Valid Loss : =>  3.3776658722975603e-06\n",
      "***->>>-----------------------------------------------<<<-***\n",
      "step :  95  Train loss :  3.969887983219922e-06 , Valid Loss : =>  3.3874990646533357e-06\n",
      "***->>>-----------------------------------------------<<<-***\n",
      "step :  96  Train loss :  3.957583190640434e-06 , Valid Loss : =>  3.329248909722082e-06\n",
      "***->>>-----------------------------------------------<<<-***\n",
      "step :  97  Train loss :  3.954304209737866e-06 , Valid Loss : =>  3.3393934718333185e-06\n",
      "***->>>-----------------------------------------------<<<-***\n",
      "step :  98  Train loss :  3.944170851253956e-06 , Valid Loss : =>  3.3187334217169944e-06\n",
      "***->>>-----------------------------------------------<<<-***\n",
      "step :  99  Train loss :  3.943177394157155e-06 , Valid Loss : =>  3.3505000901641326e-06\n",
      "***->>>-----------------------------------------------<<<-***\n",
      "===========================================================\n",
      "*********************************************************\n",
      "The total Training Time is Equal with ==> : 2501.6557297706604 Sec.\n",
      "*********************************************************\n",
      "===========================================================\n"
     ]
    }
   ],
   "source": [
    "import time\n",
    "start_time = time.time()\n",
    "\n",
    "# train_X, train_y\n",
    "epochs = 100\n",
    "model.train()\n",
    "batch_size = 200\n",
    "running_loss_history = []\n",
    "val_running_loss_history = []\n",
    "for epoch in range(epochs):\n",
    "    running_loss = 0.0\n",
    "    val_running_loss = 0.0\n",
    "    model.train()\n",
    "    for b in range(0, len(x_day_train), batch_size):\n",
    "        inpt1 = x_day_train[b:b+batch_size, :, :]\n",
    "        target1 = y_day_train[b:b+batch_size]\n",
    "\n",
    "        inpt2 = x_week_train[b:b+batch_size, :, :]\n",
    "        target2 = y_week_train[b:b+batch_size]\n",
    "\n",
    "        inpt3 = x_month_train[b:b+batch_size, :, :]\n",
    "        target3 = y_month_train[b:b+batch_size]\n",
    "\n",
    "        # print(\"Input Shape :=> \", inpt.shape)\n",
    "\n",
    "        x_batch1 = torch.tensor(inpt1, dtype=torch.float32)    \n",
    "        y_batch1 = torch.tensor(target1, dtype=torch.float32)\n",
    "\n",
    "        x_batch2 = torch.tensor(inpt2, dtype=torch.float32)    \n",
    "        y_batch2 = torch.tensor(target2, dtype=torch.float32)\n",
    "\n",
    "        x_batch3 = torch.tensor(inpt3, dtype=torch.float32)    \n",
    "        y_batch3 = torch.tensor(target3, dtype=torch.float32)\n",
    "\n",
    "        output = model(x_batch1, x_batch2, x_batch3) \n",
    "        loss = criterion(output.view(-1), y_batch1)\n",
    "\n",
    "        running_loss += loss.item()\n",
    "\n",
    "        loss.backward()\n",
    "        optimizer.step()        \n",
    "        optimizer.zero_grad() \n",
    "\n",
    "    else:\n",
    "        \n",
    "        with torch.no_grad(): # it will temprerorerly set all the required grad flags to be false\n",
    "            model.eval()\n",
    "            for b in range(0, len(x_day_test), batch_size):\n",
    "                inpt1 = x_day_test[b:b+batch_size, :, :]\n",
    "                target1 = y_day_test[b:b+batch_size]\n",
    "\n",
    "                inpt2 = x_week_test[b:b+batch_size, :, :]\n",
    "                target2 = y_week_test[b:b+batch_size]\n",
    "\n",
    "                inpt3 = x_month_test[b:b+batch_size, :, :]\n",
    "                target3 = y_month_test[b:b+batch_size]\n",
    "\n",
    "                x_batch1 = torch.tensor(inpt1, dtype=torch.float32)    \n",
    "                y_batch1 = torch.tensor(target1, dtype=torch.float32)\n",
    "\n",
    "                x_batch2 = torch.tensor(inpt2, dtype=torch.float32)    \n",
    "                y_batch2 = torch.tensor(target2, dtype=torch.float32)\n",
    "\n",
    "                x_batch3 = torch.tensor(inpt3, dtype=torch.float32)    \n",
    "                y_batch3 = torch.tensor(target3, dtype=torch.float32)\n",
    "\n",
    "                output_test = model(x_batch1, x_batch2, x_batch3) \n",
    "                loss_test = criterion(output_test.view(-1), y_batch1)\n",
    "\n",
    "                val_running_loss += loss_test.item()\n",
    "\n",
    "    val_epoch_loss = val_running_loss / len(x_day_test)\n",
    "    val_running_loss_history.append(val_epoch_loss)\n",
    "    epoch_loss = running_loss / len(x_day_train)\n",
    "    running_loss_history.append(epoch_loss)\n",
    "    print('step : ' , epoch , ' Train loss : ' , epoch_loss, ', Valid Loss : => ', val_epoch_loss)\n",
    "    print(\"***->>>-----------------------------------------------<<<-***\")\n",
    "\n",
    "total_time = time.time() - start_time\n",
    "print(\"===========================================================\")\n",
    "print(\"*********************************************************\")\n",
    "print(\"The total Training Time is Equal with ==> : {0} Sec.\".format(total_time))\n",
    "print(\"*********************************************************\")\n",
    "print(\"===========================================================\")"
   ]
  },
  {
   "cell_type": "code",
   "execution_count": 20,
   "metadata": {
    "colab": {
     "base_uri": "https://localhost:8080/",
     "height": 479
    },
    "colab_type": "code",
    "id": "H4jiSUbWu1fQ",
    "outputId": "9fba76f9-87fb-4006-e18b-d4811dafbc0f"
   },
   "outputs": [
    {
     "data": {
      "image/png": "[encoded data removed]",
      "text/plain": [
       "<Figure size 720x504 with 1 Axes>"
      ]
     },
     "metadata": {
      "needs_background": "light",
      "tags": []
     },
     "output_type": "display_data"
    },
    {
     "data": {
      "text/plain": [
       "torch.Size([1, 1, 7])"
      ]
     },
     "execution_count": 20,
     "metadata": {
      "tags": []
     },
     "output_type": "execute_result"
    }
   ],
   "source": [
    "f, ax = plt.subplots(1, 1, figsize=(10, 7))\n",
    "plt.title(\"Valid & Test Loss - LSTM Fusion\", fontsize=18)\n",
    "plt.xlabel(\"Epoch\")\n",
    "plt.ylabel(\"Loss\")\n",
    "plt.plot(running_loss_history, label='train')\n",
    "plt.plot(val_running_loss_history, label='test')\n",
    "# pyplot.plot(history.history['val_loss'], label='test')\n",
    "plt.legend()\n",
    "plt.show()\n",
    "x = torch.tensor([[[1.,2,3,4,5,6,7]]])\n",
    "x.shape"
   ]
  },
  {
   "cell_type": "code",
   "execution_count": 0,
   "metadata": {
    "colab": {},
    "colab_type": "code",
    "id": "uweASFbTzUrP"
   },
   "outputs": [],
   "source": [
    "x_day_test, y_day_test = day_X[29900:30000], day_y[29900:30000]\n",
    "x_week_test, y_week_test = x_week[29900:30000], y_week[29900:30000]\n",
    "x_month_test, y_month_test = x_month[29900:30000], y_month[29900:30000]\n",
    "\n",
    "future = 100\n",
    "window_size = 11\n",
    "\n",
    "model.eval()\n",
    "x_day_test = torch.tensor(x_day_test, dtype=torch.float32)\n",
    "x_week_test = torch.tensor(x_week_test, dtype=torch.float32)\n",
    "x_month_test = torch.tensor(x_month_test, dtype=torch.float32)\n",
    "\n",
    "res = model(x_day_test, x_week_test, x_month_test)\n",
    "# print(preds[11:])"
   ]
  },
  {
   "cell_type": "code",
   "execution_count": 17,
   "metadata": {
    "colab": {
     "base_uri": "https://localhost:8080/",
     "height": 447
    },
    "colab_type": "code",
    "id": "8RWHd-TLJkVp",
    "outputId": "683fe92d-fa3b-426d-9eb3-f29f9087582e"
   },
   "outputs": [
    {
     "name": "stdout",
     "output_type": "stream",
     "text": [
      "torch.Size([1, 1, 100])\n"
     ]
    },
    {
     "data": {
      "image/png": "[encoded data removed]",
      "text/plain": [
       "<Figure size 1440x504 with 1 Axes>"
      ]
     },
     "metadata": {
      "needs_background": "light",
      "tags": []
     },
     "output_type": "display_data"
    }
   ],
   "source": [
    "fig = plt.figure(figsize=(20, 7))\n",
    "plt.title(\"Beijing Polution Prediction - LSTM\", fontsize=18)\n",
    "plt.ylabel('Polution')\n",
    "plt.xlabel('Num data')\n",
    "plt.grid(True)\n",
    "plt.autoscale(axis='x', tight=True)\n",
    "fig.autofmt_xdate()\n",
    "\n",
    "# plt.plot(data[15000:15100, 0])\n",
    "plt.plot(y_day_test, label=\"Real\")\n",
    "# plt.plot(preds[12:])\n",
    "print(res.shape)\n",
    "plt.plot(res.flatten().detach().numpy(), label=\"Prediction\")\n",
    "plt.legend()\n",
    "plt.show()"
   ]
  },
  {
   "cell_type": "code",
   "execution_count": 19,
   "metadata": {
    "colab": {
     "base_uri": "https://localhost:8080/",
     "height": 207
    },
    "colab_type": "code",
    "id": "gWZk1LYA7dS_",
    "outputId": "c5b7921b-c00d-4060-b93c-0c2171794ed3"
   },
   "outputs": [
    {
     "name": "stderr",
     "output_type": "stream",
     "text": [
      "/usr/local/lib/python3.6/dist-packages/ipykernel_launcher.py:24: UserWarning: To copy construct from a tensor, it is recommended to use sourceTensor.clone().detach() or sourceTensor.clone().detach().requires_grad_(True), rather than torch.tensor(sourceTensor).\n",
      "/usr/local/lib/python3.6/dist-packages/ipykernel_launcher.py:27: UserWarning: To copy construct from a tensor, it is recommended to use sourceTensor.clone().detach() or sourceTensor.clone().detach().requires_grad_(True), rather than torch.tensor(sourceTensor).\n",
      "/usr/local/lib/python3.6/dist-packages/ipykernel_launcher.py:30: UserWarning: To copy construct from a tensor, it is recommended to use sourceTensor.clone().detach() or sourceTensor.clone().detach().requires_grad_(True), rather than torch.tensor(sourceTensor).\n"
     ]
    },
    {
     "name": "stdout",
     "output_type": "stream",
     "text": [
      "##########################################################\n",
      ">>>>---------------------------------------------------<<<<\n",
      ">>>>----------***************************--------------<<<<\n",
      "**** Test Loss :==>>>  1.8115157727152109e-06\n",
      ">>>>----------***************************--------------<<<<\n",
      ">>>>---------------------------------------------------<<<<\n",
      "##########################################################\n"
     ]
    }
   ],
   "source": [
    "x_day_test, y_day_test = day_X[30000:33000], day_y[30000:33000]\n",
    "x_week_test, y_week_test = x_week[30000:33000], y_week[30000:33000]\n",
    "x_month_test, y_month_test = x_month[30000:33000], y_month[30000:33000]\n",
    "\n",
    "model.eval()\n",
    "x_day_test = torch.tensor(x_day_test, dtype=torch.float32)\n",
    "x_week_test = torch.tensor(x_week_test, dtype=torch.float32)\n",
    "x_month_test = torch.tensor(x_month_test, dtype=torch.float32)\n",
    "\n",
    "\n",
    "test_running_loss = 0\n",
    "with torch.no_grad(): # it will temprerorerly set all the required grad flags to be false\n",
    "    model.eval()\n",
    "    for b in range(0, len(x_day_test), batch_size):\n",
    "        inpt1 = x_day_test[b:b+batch_size, :, :]\n",
    "        target1 = y_day_test[b:b+batch_size]\n",
    "\n",
    "        inpt2 = x_week_test[b:b+batch_size, :, :]\n",
    "        target2 = y_week_test[b:b+batch_size]\n",
    "\n",
    "        inpt3 = x_month_test[b:b+batch_size, :, :]\n",
    "        target3 = y_month_test[b:b+batch_size]\n",
    "\n",
    "        x_batch1 = torch.tensor(inpt1, dtype=torch.float32)    \n",
    "        y_batch1 = torch.tensor(target1, dtype=torch.float32)\n",
    "\n",
    "        x_batch2 = torch.tensor(inpt2, dtype=torch.float32)    \n",
    "        y_batch2 = torch.tensor(target2, dtype=torch.float32)\n",
    "\n",
    "        x_batch3 = torch.tensor(inpt3, dtype=torch.float32)    \n",
    "        y_batch3 = torch.tensor(target3, dtype=torch.float32)\n",
    "\n",
    "        output_test = model(x_batch1, x_batch2, x_batch3) \n",
    "        loss_test = criterion(output_test.view(-1), y_batch1)\n",
    "\n",
    "        test_running_loss += loss_test.item()\n",
    "\n",
    "    test_epoch_loss = test_running_loss / len(x_day_test)\n",
    "\n",
    "print(\"##########################################################\")\n",
    "print(\">>>>---------------------------------------------------<<<<\")\n",
    "print(\">>>>----------***************************--------------<<<<\")\n",
    "print(\"**** Test Loss :==>>> \", test_epoch_loss)\n",
    "print(\">>>>----------***************************--------------<<<<\")\n",
    "print(\">>>>---------------------------------------------------<<<<\")\n",
    "print(\"##########################################################\")"
   ]
  },
  {
   "cell_type": "markdown",
   "metadata": {
    "colab_type": "text",
    "id": "2wUlb4EkirD2"
   },
   "source": [
    "# **Predict Only 12 & 24 Times!**"
   ]
  },
  {
   "cell_type": "code",
   "execution_count": 0,
   "metadata": {
    "colab": {},
    "colab_type": "code",
    "id": "EdVj6XlI5Guj"
   },
   "outputs": [],
   "source": [
    "# split a multivariate sequence into samples\n",
    "def split_sequences12(sequences, n_steps, n_samples=12000, start_from=0):\n",
    "    X, y = list(), list()\n",
    "    j = 0\n",
    "    for i in range(start_from, (start_from + n_samples)):\n",
    "        # find the end of this pattern\n",
    "        end_ix = j*12 + n_steps + start_from\n",
    "        # check if we are beyond the dataset\n",
    "        # gather input and output parts of the pattern\n",
    "        j = j + 1\n",
    "        seq_x = sequences[end_ix-11:end_ix, :]\n",
    "        seq_y = sequences[end_ix, 0]\n",
    "        y.append(seq_y)\n",
    "        X.append(seq_x)\n",
    "    print(\"End :=> \", end_ix)\n",
    "    return array(X), array(y)"
   ]
  },
  {
   "cell_type": "code",
   "execution_count": 0,
   "metadata": {
    "colab": {},
    "colab_type": "code",
    "id": "mkMiRJt2Nrs8"
   },
   "outputs": [],
   "source": [
    "x, y = split_sequences12(sequences=dataset, n_steps=11, n_samples=100, start_from=20500)\n",
    "x = torch.tensor(x, dtype=torch.float32)\n",
    "x.shape"
   ]
  },
  {
   "cell_type": "code",
   "execution_count": 0,
   "metadata": {
    "colab": {},
    "colab_type": "code",
    "id": "iB6VElOqNt0m"
   },
   "outputs": [],
   "source": [
    "model.eval()\n",
    "res = model(x)"
   ]
  },
  {
   "cell_type": "code",
   "execution_count": 0,
   "metadata": {
    "colab": {},
    "colab_type": "code",
    "id": "dcy2paMLYJLL"
   },
   "outputs": [],
   "source": [
    "fig = plt.figure(figsize=(20, 7))\n",
    "plt.title(\"Beijing Polution Prediction - 12Hour\", fontsize=18)\n",
    "plt.ylabel('Polution')\n",
    "plt.xlabel('Num data')\n",
    "plt.grid(True)\n",
    "plt.autoscale(axis='x', tight=True)\n",
    "fig.autofmt_xdate()\n",
    "\n",
    "# plt.plot(data[15000:15100, 0])\n",
    "plt.plot(y, label=\"Real\")\n",
    "# plt.plot(preds[12:])\n",
    "print(res.shape)\n",
    "plt.plot(res.detach().numpy(), label=\"Prediction\")\n",
    "plt.legend()\n",
    "plt.show()"
   ]
  },
  {
   "cell_type": "code",
   "execution_count": 0,
   "metadata": {
    "colab": {},
    "colab_type": "code",
    "id": "CCHg1BGtYjlZ"
   },
   "outputs": [],
   "source": [
    "df_y = DataFrame(y)\n",
    "\n",
    "df_y.columns = ['Real Values']\n",
    "df_y['Predicted Values'] = res.detach().numpy()\n",
    "# dataset.index.name = 'date'"
   ]
  },
  {
   "cell_type": "code",
   "execution_count": 0,
   "metadata": {
    "colab": {},
    "colab_type": "code",
    "id": "NDvBHJZBiCJr"
   },
   "outputs": [],
   "source": [
    "pd.set_option(\"max_rows\", None)\n",
    "df_y.to_csv('Predict_every12Hour_LSTM_ADAM_MSE.csv')\n",
    "df_y"
   ]
  },
  {
   "cell_type": "code",
   "execution_count": 0,
   "metadata": {
    "colab": {},
    "colab_type": "code",
    "id": "1wFFK2YbiFSh"
   },
   "outputs": [],
   "source": []
  }
 ],
 "metadata": {
  "colab": {
   "collapsed_sections": [],
   "name": "MiniProj_LSTM_Adam_MSE_Q1_PartF_Pytorch_AVGPool.ipynb",
   "provenance": []
  },
  "kernelspec": {
   "display_name": "Python 3",
   "language": "python",
   "name": "python3"
  },
  "language_info": {
   "codemirror_mode": {
    "name": "ipython",
    "version": 3
   },
   "file_extension": ".py",
   "mimetype": "text/x-python",
   "name": "python",
   "nbconvert_exporter": "python",
   "pygments_lexer": "ipython3",
   "version": "3.8.2"
  }
 },
 "nbformat": 4,
 "nbformat_minor": 1
}
