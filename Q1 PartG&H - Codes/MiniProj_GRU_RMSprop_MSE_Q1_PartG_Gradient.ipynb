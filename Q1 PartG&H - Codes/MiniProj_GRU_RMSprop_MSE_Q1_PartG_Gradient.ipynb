{
  "nbformat": 4,
  "nbformat_minor": 0,
  "metadata": {
    "colab": {
      "name": "MiniProj_GRU_RMSprop_MSE_Q1_PartG_Gradient.ipynb",
      "provenance": [],
      "collapsed_sections": [],
      "toc_visible": true
    },
    "kernelspec": {
      "name": "python3",
      "display_name": "Python 3"
    }
  },
  "cells": [
    {
      "cell_type": "code",
      "metadata": {
        "id": "PcJDApDcK0O9",
        "colab_type": "code",
        "outputId": "8a3d225e-caad-429d-b352-36d59b55b019",
        "colab": {
          "base_uri": "https://localhost:8080/",
          "height": 119
        }
      },
      "source": [
        "!git clone https://github.com/parhamzm/Beijing-Pollution-DataSet"
      ],
      "execution_count": 1,
      "outputs": [
        {
          "output_type": "stream",
          "text": [
            "Cloning into 'Beijing-Pollution-DataSet'...\n",
            "remote: Enumerating objects: 9, done.\u001b[K\n",
            "remote: Counting objects: 100% (9/9), done.\u001b[K\n",
            "remote: Compressing objects: 100% (7/7), done.\u001b[K\n",
            "remote: Total 9 (delta 1), reused 0 (delta 0), pack-reused 0\u001b[K\n",
            "Unpacking objects: 100% (9/9), done.\n"
          ],
          "name": "stdout"
        }
      ]
    },
    {
      "cell_type": "code",
      "metadata": {
        "id": "0-KcI9tFLGXP",
        "colab_type": "code",
        "outputId": "b0ed08c2-b950-402c-cb7f-36363ae680f9",
        "colab": {
          "base_uri": "https://localhost:8080/",
          "height": 34
        }
      },
      "source": [
        "!ls Beijing-Pollution-DataSet"
      ],
      "execution_count": 2,
      "outputs": [
        {
          "output_type": "stream",
          "text": [
            "pollution.csv  polution_dataSet.npy  README.md\n"
          ],
          "name": "stdout"
        }
      ]
    },
    {
      "cell_type": "code",
      "metadata": {
        "id": "9NuzKJEnLNyx",
        "colab_type": "code",
        "colab": {}
      },
      "source": [
        "import torch\n",
        "import torchvision\n",
        "import torch.nn as nn\n",
        "from torchvision import transforms\n",
        "import pandas as pd\n",
        "\n",
        "import matplotlib.pyplot as plt\n",
        "import numpy as np\n",
        "\n",
        "from torch.utils.data import random_split\n",
        "\n",
        "from math import sqrt\n",
        "from numpy import concatenate\n",
        "from matplotlib import pyplot\n",
        "from pandas import read_csv\n",
        "from pandas import DataFrame\n",
        "from pandas import concat\n",
        "from sklearn.preprocessing import MinMaxScaler\n",
        "from sklearn.preprocessing import LabelEncoder\n",
        "from sklearn.metrics import mean_squared_error\n",
        "\n",
        "from numpy import array\n",
        "from numpy import hstack"
      ],
      "execution_count": 0,
      "outputs": []
    },
    {
      "cell_type": "markdown",
      "metadata": {
        "id": "Q_0pmTGAHWmf",
        "colab_type": "text"
      },
      "source": [
        "# **Data Pre Processing**"
      ]
    },
    {
      "cell_type": "code",
      "metadata": {
        "id": "GjcwsJBc9eIG",
        "colab_type": "code",
        "outputId": "2bb596ad-de72-4cd5-b76e-ef3256d84d87",
        "colab": {
          "base_uri": "https://localhost:8080/",
          "height": 34
        }
      },
      "source": [
        "DATA_DIR = \"Beijing-Pollution-DataSet/\"\n",
        "from pandas import read_csv\n",
        "from datetime import datetime\n",
        "\n",
        "\n",
        "# split a multivariate sequence into samples\n",
        "def split_sequences(sequences, n_steps=11, n_samples=12000, start_from=0):\n",
        "\tX, y = list(), list()\n",
        "\tfor i in range(start_from, (start_from + n_samples)):\n",
        "        # find the end of this pattern\n",
        "\t\tend_ix = i + n_steps\n",
        "        # check if we are beyond the dataset\n",
        "        # gather input and output parts of the pattern\n",
        "\t\tseq_x = sequences[i:end_ix, [0, 1, 2]]\n",
        "\t\tseq_y = sequences[end_ix, 0]\n",
        "\t\ty.append(seq_y)\n",
        "\t\tX.append(seq_x)\n",
        "  \n",
        "\treturn array(X), array(y)\n",
        "\n",
        "\n",
        "# load dataset\n",
        "DATA_DIR = \"Beijing-Pollution-DataSet/\"\n",
        "\n",
        "data = np.load(DATA_DIR + 'polution_dataSet.npy')\n",
        "scaled_data = data\n",
        "\n",
        "# specify the number of lag hours\n",
        "n_hours = 11\n",
        "n_features = 8\n",
        "# frame as supervised learning\n",
        "\n",
        "n_timesteps = 11\n",
        "dataset = data\n",
        "print(data.shape)\n",
        "train_X, train_y = split_sequences(dataset, n_timesteps, n_samples=15000, start_from=0)\n",
        "# train_y = train_y.reshape(len(train_y), 1)\n",
        "test_X, test_y = split_sequences(dataset, n_timesteps, n_samples=3000, start_from=15000)"
      ],
      "execution_count": 4,
      "outputs": [
        {
          "output_type": "stream",
          "text": [
            "(43799, 8)\n"
          ],
          "name": "stdout"
        }
      ]
    },
    {
      "cell_type": "code",
      "metadata": {
        "id": "sIihkChW80JC",
        "colab_type": "code",
        "outputId": "b1071aae-dd7d-4f2b-b4d5-530c87560b44",
        "colab": {
          "base_uri": "https://localhost:8080/",
          "height": 102
        }
      },
      "source": [
        "test_loader_X = torch.utils.data.DataLoader(dataset=(train_X), batch_size=20, shuffle=False)\n",
        "# train_X = torch.tensor(train_X, dtype=torch.float32)    \n",
        "# train_y = torch.tensor(train_y, dtype=torch.float32)\n",
        "print(\"Train X Shape :=> \", train_X.shape)\n",
        "print(\"Train Y Shape :=> \", train_y.shape)\n",
        "print(\"####################################\")\n",
        "print(\"Test X Shape :=> \", test_X.shape)\n",
        "print(\"Test Y Shape :=> \", test_y.shape)"
      ],
      "execution_count": 5,
      "outputs": [
        {
          "output_type": "stream",
          "text": [
            "Train X Shape :=>  (15000, 11, 3)\n",
            "Train Y Shape :=>  (15000,)\n",
            "####################################\n",
            "Test X Shape :=>  (3000, 11, 3)\n",
            "Test Y Shape :=>  (3000,)\n"
          ],
          "name": "stdout"
        }
      ]
    },
    {
      "cell_type": "code",
      "metadata": {
        "id": "pDpTe3gIYsW4",
        "colab_type": "code",
        "colab": {}
      },
      "source": [
        "class GRU(torch.nn.Module):\n",
        "    def __init__(self, n_features=8, n_output=1, seq_length=11, n_hidden_layers=233, n_layers=1):\n",
        "        super(GRU, self).__init__()\n",
        "        self.n_features = n_features\n",
        "        self.seq_len = seq_length\n",
        "        self.n_output = n_output\n",
        "\n",
        "        self.n_hidden = n_hidden_layers # number of hidden states\n",
        "        self.n_layers = n_layers # number of LSTM layers (stacked)\n",
        "        \n",
        "        # define RNN with specified parameters\n",
        "        # bath_first means that the first dim of the input and output will be the batch_size\n",
        "        self.rnn = nn.GRU(input_size=self.n_features,\n",
        "                          hidden_size=self.n_hidden,\n",
        "                          num_layers=self.n_layers,\n",
        "                          batch_first=True)\n",
        "        \n",
        "        # last, fully connected layer\n",
        "        self.l_linear = torch.nn.Linear(self.n_hidden*self.seq_len, self.n_output)\n",
        "\n",
        "    def forward(self, x, hidden):\n",
        "        # hidden_state = torch.zeros(self.n_layers, x.size(0), self.n_hidden).requires_grad_()\n",
        "        # cell_state = torch.zeros(self.n_layers, x.size(0), self.n_hidden).requires_grad_()\n",
        "        batch_size = x.size(0)\n",
        "\n",
        "        rnn_out, hidden = self.rnn(x, hidden)\n",
        "        rnn_out = rnn_out.contiguous().view(batch_size, -1)\n",
        "\n",
        "        # lstm_out(with batch_first = True) is \n",
        "        # (batch_size,seq_len,num_directions * hidden_size)\n",
        "        # for following linear layer we want to keep batch_size dimension and merge rest       \n",
        "        # .contiguous() -> solves tensor compatibility error\n",
        "        out = self.l_linear(rnn_out)\n",
        "        return out, hidden"
      ],
      "execution_count": 0,
      "outputs": []
    },
    {
      "cell_type": "code",
      "metadata": {
        "id": "PCxQTgWnavOJ",
        "colab_type": "code",
        "colab": {}
      },
      "source": [
        "torch.manual_seed(13)\n",
        "model = GRU(n_features=3, n_output=1, seq_length=11, n_hidden_layers=233, n_layers=1)\n",
        "criterion = nn.MSELoss()\n",
        "optimizer = torch.optim.RMSprop(model.parameters(), lr=0.0003)"
      ],
      "execution_count": 0,
      "outputs": []
    },
    {
      "cell_type": "code",
      "metadata": {
        "id": "oWbmF4vLbJ5N",
        "colab_type": "code",
        "outputId": "7c3e8422-e7cd-4a5c-b965-deb5d43cd440",
        "colab": {
          "base_uri": "https://localhost:8080/",
          "height": 119
        }
      },
      "source": [
        "model = model#.to(device)\n",
        "criterion = criterion#.to(device)\n",
        "for p in model.parameters():\n",
        "    print(p.numel())"
      ],
      "execution_count": 8,
      "outputs": [
        {
          "output_type": "stream",
          "text": [
            "2097\n",
            "162867\n",
            "699\n",
            "699\n",
            "2563\n",
            "1\n"
          ],
          "name": "stdout"
        }
      ]
    },
    {
      "cell_type": "code",
      "metadata": {
        "id": "5R__1vOLzB-i",
        "colab_type": "code",
        "outputId": "ebcec5e1-2c91-4b5b-c93b-cdfc74466fac",
        "colab": {
          "base_uri": "https://localhost:8080/",
          "height": 1000
        }
      },
      "source": [
        "import time\n",
        "start_time = time.time()\n",
        "hidden = None\n",
        "hidden_test = None\n",
        "# train_X, train_y\n",
        "epochs = 100\n",
        "model.train()\n",
        "batch_size = 200\n",
        "running_loss_history = []\n",
        "val_running_loss_history = []\n",
        "for epoch in range(epochs):\n",
        "    running_loss = 0.0\n",
        "    val_running_loss = 0.0\n",
        "    model.train()\n",
        "    for b in range(0, len(train_X), batch_size):\n",
        "        inpt = train_X[b:b+batch_size, :, :]\n",
        "        target = train_y[b:b+batch_size]\n",
        "\n",
        "        # print(\"Input Shape :=> \", inpt.shape)\n",
        "\n",
        "        x_batch = torch.tensor(inpt, dtype=torch.float32)    \n",
        "        y_batch = torch.tensor(target, dtype=torch.float32)\n",
        "\n",
        "        output, hidden = model(x_batch, hidden)\n",
        "\n",
        "        hidden = hidden.data\n",
        "        loss = criterion(output.view(-1), y_batch)\n",
        "\n",
        "        running_loss += loss.item()\n",
        "\n",
        "        loss.backward()\n",
        "        optimizer.step()        \n",
        "        optimizer.zero_grad() \n",
        "\n",
        "    else:\n",
        "        \n",
        "        with torch.no_grad(): # it will temprerorerly set all the required grad flags to be false\n",
        "            model.eval()\n",
        "            for b in range(0, len(test_X), batch_size):\n",
        "                inpt = test_X[b:b+batch_size, :, :]\n",
        "                target = test_y[b:b+batch_size]   \n",
        "\n",
        "                x_batch_test = torch.tensor(inpt, dtype=torch.float32)\n",
        "                y_batch_test = torch.tensor(target, dtype=torch.float32)\n",
        "\n",
        "                # model.init_hidden(x_batch_test.size(0))\n",
        "\n",
        "                output_test, hidden_test = model(x_batch_test, hidden_test)\n",
        "\n",
        "                hidden_test = hidden_test.data\n",
        "                loss_test = criterion(output_test.view(-1), y_batch_test)\n",
        "\n",
        "                val_running_loss += loss_test.item()\n",
        "\n",
        "    val_epoch_loss = val_running_loss / len(test_X)\n",
        "    val_running_loss_history.append(val_epoch_loss)\n",
        "    epoch_loss = running_loss / len(train_X)\n",
        "    running_loss_history.append(epoch_loss)\n",
        "    print('step : ' , epoch , ' Train loss : ' , epoch_loss, ', Valid Loss : => ', val_epoch_loss)\n",
        "    print(\"***->>>-----------------------------------------------<<<-***\")\n",
        "\n",
        "\n",
        "\n",
        "total_time = time.time() - start_time\n",
        "print(\"===========================================================\")\n",
        "print(\"*********************************************************\")\n",
        "print(\"The total Training Time is Equal with ==> : {0} Sec.\".format(total_time))\n",
        "print(\"*********************************************************\")\n",
        "print(\"===========================================================\")"
      ],
      "execution_count": 9,
      "outputs": [
        {
          "output_type": "stream",
          "text": [
            "step :  0  Train loss :  3.66969908393609e-05 , Valid Loss : =>  3.501068560096125e-05\n",
            "***->>>-----------------------------------------------<<<-***\n",
            "step :  1  Train loss :  1.4917409936121354e-05 , Valid Loss : =>  2.5604788951265315e-05\n",
            "***->>>-----------------------------------------------<<<-***\n",
            "step :  2  Train loss :  1.2194650624102602e-05 , Valid Loss : =>  2.4453951589142283e-05\n",
            "***->>>-----------------------------------------------<<<-***\n",
            "step :  3  Train loss :  1.1119879382507254e-05 , Valid Loss : =>  1.7850684196067353e-05\n",
            "***->>>-----------------------------------------------<<<-***\n",
            "step :  4  Train loss :  9.474685825019454e-06 , Valid Loss : =>  1.499311455215017e-05\n",
            "***->>>-----------------------------------------------<<<-***\n",
            "step :  5  Train loss :  8.660967634447539e-06 , Valid Loss : =>  1.3157675721837828e-05\n",
            "***->>>-----------------------------------------------<<<-***\n",
            "step :  6  Train loss :  7.74306717988414e-06 , Valid Loss : =>  1.1784040233275542e-05\n",
            "***->>>-----------------------------------------------<<<-***\n",
            "step :  7  Train loss :  7.14797146890002e-06 , Valid Loss : =>  1.0628147050738335e-05\n",
            "***->>>-----------------------------------------------<<<-***\n",
            "step :  8  Train loss :  6.58151768730022e-06 , Valid Loss : =>  9.682782848055164e-06\n",
            "***->>>-----------------------------------------------<<<-***\n",
            "step :  9  Train loss :  6.181611149804667e-06 , Valid Loss : =>  8.781618613284082e-06\n",
            "***->>>-----------------------------------------------<<<-***\n",
            "step :  10  Train loss :  5.821671539645952e-06 , Valid Loss : =>  8.112024593477448e-06\n",
            "***->>>-----------------------------------------------<<<-***\n",
            "step :  11  Train loss :  5.516840887139551e-06 , Valid Loss : =>  7.606579863931984e-06\n",
            "***->>>-----------------------------------------------<<<-***\n",
            "step :  12  Train loss :  5.260116692321996e-06 , Valid Loss : =>  7.138868095353246e-06\n",
            "***->>>-----------------------------------------------<<<-***\n",
            "step :  13  Train loss :  5.0468322025456775e-06 , Valid Loss : =>  6.751037940072516e-06\n",
            "***->>>-----------------------------------------------<<<-***\n",
            "step :  14  Train loss :  4.871123934087033e-06 , Valid Loss : =>  6.480004890666653e-06\n",
            "***->>>-----------------------------------------------<<<-***\n",
            "step :  15  Train loss :  4.730394500074908e-06 , Valid Loss : =>  6.256237160414457e-06\n",
            "***->>>-----------------------------------------------<<<-***\n",
            "step :  16  Train loss :  4.583740119899934e-06 , Valid Loss : =>  6.2965157752235734e-06\n",
            "***->>>-----------------------------------------------<<<-***\n",
            "step :  17  Train loss :  4.590462164681715e-06 , Valid Loss : =>  5.482572421897202e-06\n",
            "***->>>-----------------------------------------------<<<-***\n",
            "step :  18  Train loss :  4.504144024879982e-06 , Valid Loss : =>  5.365970854957899e-06\n",
            "***->>>-----------------------------------------------<<<-***\n",
            "step :  19  Train loss :  4.452400685598453e-06 , Valid Loss : =>  5.376534507377073e-06\n",
            "***->>>-----------------------------------------------<<<-***\n",
            "step :  20  Train loss :  4.405870674721275e-06 , Valid Loss : =>  5.423048074590042e-06\n",
            "***->>>-----------------------------------------------<<<-***\n",
            "step :  21  Train loss :  4.372798843542114e-06 , Valid Loss : =>  5.3830989151416965e-06\n",
            "***->>>-----------------------------------------------<<<-***\n",
            "step :  22  Train loss :  4.349042365599113e-06 , Valid Loss : =>  5.330135842086747e-06\n",
            "***->>>-----------------------------------------------<<<-***\n",
            "step :  23  Train loss :  4.330755931247647e-06 , Valid Loss : =>  5.285069074792166e-06\n",
            "***->>>-----------------------------------------------<<<-***\n",
            "step :  24  Train loss :  4.314178930750738e-06 , Valid Loss : =>  5.232211910576249e-06\n",
            "***->>>-----------------------------------------------<<<-***\n",
            "step :  25  Train loss :  4.292605185764842e-06 , Valid Loss : =>  5.2232803330601505e-06\n",
            "***->>>-----------------------------------------------<<<-***\n",
            "step :  26  Train loss :  4.276557642151601e-06 , Valid Loss : =>  5.216030724113807e-06\n",
            "***->>>-----------------------------------------------<<<-***\n",
            "step :  27  Train loss :  4.263442299755601e-06 , Valid Loss : =>  5.206622309439505e-06\n",
            "***->>>-----------------------------------------------<<<-***\n",
            "step :  28  Train loss :  4.245749805704691e-06 , Valid Loss : =>  5.21149112804172e-06\n",
            "***->>>-----------------------------------------------<<<-***\n",
            "step :  29  Train loss :  4.228208695227901e-06 , Valid Loss : =>  5.220846825977788e-06\n",
            "***->>>-----------------------------------------------<<<-***\n",
            "step :  30  Train loss :  4.213035829404059e-06 , Valid Loss : =>  5.2213134476915e-06\n",
            "***->>>-----------------------------------------------<<<-***\n",
            "step :  31  Train loss :  4.200321299140341e-06 , Valid Loss : =>  5.216352525167167e-06\n",
            "***->>>-----------------------------------------------<<<-***\n",
            "step :  32  Train loss :  4.190623637987301e-06 , Valid Loss : =>  5.209087006126841e-06\n",
            "***->>>-----------------------------------------------<<<-***\n",
            "step :  33  Train loss :  4.1838770480050395e-06 , Valid Loss : =>  5.202779575483873e-06\n",
            "***->>>-----------------------------------------------<<<-***\n",
            "step :  34  Train loss :  4.177191320923157e-06 , Valid Loss : =>  5.189227202208713e-06\n",
            "***->>>-----------------------------------------------<<<-***\n",
            "step :  35  Train loss :  4.1676090263839194e-06 , Valid Loss : =>  5.18420763546601e-06\n",
            "***->>>-----------------------------------------------<<<-***\n",
            "step :  36  Train loss :  4.159459015742565e-06 , Valid Loss : =>  5.170903401449323e-06\n",
            "***->>>-----------------------------------------------<<<-***\n",
            "step :  37  Train loss :  4.1522942095374065e-06 , Valid Loss : =>  5.162865767488256e-06\n",
            "***->>>-----------------------------------------------<<<-***\n",
            "step :  38  Train loss :  4.1462621476966884e-06 , Valid Loss : =>  5.1542021877442795e-06\n",
            "***->>>-----------------------------------------------<<<-***\n",
            "step :  39  Train loss :  4.141453882524123e-06 , Valid Loss : =>  5.14170045304733e-06\n",
            "***->>>-----------------------------------------------<<<-***\n",
            "step :  40  Train loss :  4.1307986190076916e-06 , Valid Loss : =>  5.139060396080216e-06\n",
            "***->>>-----------------------------------------------<<<-***\n",
            "step :  41  Train loss :  4.1327933557719615e-06 , Valid Loss : =>  5.12016885719883e-06\n",
            "***->>>-----------------------------------------------<<<-***\n",
            "step :  42  Train loss :  4.115235798720581e-06 , Valid Loss : =>  5.121794500155374e-06\n",
            "***->>>-----------------------------------------------<<<-***\n",
            "step :  43  Train loss :  4.132191734970547e-06 , Valid Loss : =>  5.100109556224197e-06\n",
            "***->>>-----------------------------------------------<<<-***\n",
            "step :  44  Train loss :  4.094490461284295e-06 , Valid Loss : =>  5.1082401963261265e-06\n",
            "***->>>-----------------------------------------------<<<-***\n",
            "step :  45  Train loss :  4.145133539956684e-06 , Valid Loss : =>  5.08897632244043e-06\n",
            "***->>>-----------------------------------------------<<<-***\n",
            "step :  46  Train loss :  4.0873704604261245e-06 , Valid Loss : =>  5.067283006307359e-06\n",
            "***->>>-----------------------------------------------<<<-***\n",
            "step :  47  Train loss :  4.129332646455926e-06 , Valid Loss : =>  5.085293475228051e-06\n",
            "***->>>-----------------------------------------------<<<-***\n",
            "step :  48  Train loss :  4.074822317731256e-06 , Valid Loss : =>  5.0482701626606285e-06\n",
            "***->>>-----------------------------------------------<<<-***\n",
            "step :  49  Train loss :  4.105611721752212e-06 , Valid Loss : =>  5.07667440494212e-06\n",
            "***->>>-----------------------------------------------<<<-***\n",
            "step :  50  Train loss :  4.070550685476822e-06 , Valid Loss : =>  5.054327911542108e-06\n",
            "***->>>-----------------------------------------------<<<-***\n",
            "step :  51  Train loss :  4.094364919971364e-06 , Valid Loss : =>  5.071027776769673e-06\n",
            "***->>>-----------------------------------------------<<<-***\n",
            "step :  52  Train loss :  4.0644782915478574e-06 , Valid Loss : =>  5.049369191207613e-06\n",
            "***->>>-----------------------------------------------<<<-***\n",
            "step :  53  Train loss :  4.078263313082668e-06 , Valid Loss : =>  5.060614271011825e-06\n",
            "***->>>-----------------------------------------------<<<-***\n",
            "step :  54  Train loss :  4.055134990873436e-06 , Valid Loss : =>  5.0415511844524495e-06\n",
            "***->>>-----------------------------------------------<<<-***\n",
            "step :  55  Train loss :  4.074619831711364e-06 , Valid Loss : =>  5.0473795466435454e-06\n",
            "***->>>-----------------------------------------------<<<-***\n",
            "step :  56  Train loss :  4.049437713304845e-06 , Valid Loss : =>  5.024274491006509e-06\n",
            "***->>>-----------------------------------------------<<<-***\n",
            "step :  57  Train loss :  4.0683636829877896e-06 , Valid Loss : =>  5.040709695701177e-06\n",
            "***->>>-----------------------------------------------<<<-***\n",
            "step :  58  Train loss :  4.04103525603811e-06 , Valid Loss : =>  5.012880195863545e-06\n",
            "***->>>-----------------------------------------------<<<-***\n",
            "step :  59  Train loss :  4.058576585763755e-06 , Valid Loss : =>  5.027818377129734e-06\n",
            "***->>>-----------------------------------------------<<<-***\n",
            "step :  60  Train loss :  4.034786908111224e-06 , Valid Loss : =>  5.006604449590668e-06\n",
            "***->>>-----------------------------------------------<<<-***\n",
            "step :  61  Train loss :  4.055540150147863e-06 , Valid Loss : =>  5.01679428271018e-06\n",
            "***->>>-----------------------------------------------<<<-***\n",
            "step :  62  Train loss :  4.029425026965328e-06 , Valid Loss : =>  4.99785688589327e-06\n",
            "***->>>-----------------------------------------------<<<-***\n",
            "step :  63  Train loss :  4.045107657051024e-06 , Valid Loss : =>  5.012796745480349e-06\n",
            "***->>>-----------------------------------------------<<<-***\n",
            "step :  64  Train loss :  4.02382039950074e-06 , Valid Loss : =>  4.9949992389883846e-06\n",
            "***->>>-----------------------------------------------<<<-***\n",
            "step :  65  Train loss :  4.038214868827102e-06 , Valid Loss : =>  5.003211010868351e-06\n",
            "***->>>-----------------------------------------------<<<-***\n",
            "step :  66  Train loss :  4.019129901037862e-06 , Valid Loss : =>  4.990807831442604e-06\n",
            "***->>>-----------------------------------------------<<<-***\n",
            "step :  67  Train loss :  4.029551912875225e-06 , Valid Loss : =>  4.998741370703404e-06\n",
            "***->>>-----------------------------------------------<<<-***\n",
            "step :  68  Train loss :  4.014404825284146e-06 , Valid Loss : =>  4.9876030534505845e-06\n",
            "***->>>-----------------------------------------------<<<-***\n",
            "step :  69  Train loss :  4.021663723203043e-06 , Valid Loss : =>  4.994518598929669e-06\n",
            "***->>>-----------------------------------------------<<<-***\n",
            "step :  70  Train loss :  4.009027679179174e-06 , Valid Loss : =>  4.986394381072993e-06\n",
            "***->>>-----------------------------------------------<<<-***\n",
            "step :  71  Train loss :  4.013954739396771e-06 , Valid Loss : =>  4.98860637890175e-06\n",
            "***->>>-----------------------------------------------<<<-***\n",
            "step :  72  Train loss :  4.00470957683865e-06 , Valid Loss : =>  4.983657505363226e-06\n",
            "***->>>-----------------------------------------------<<<-***\n",
            "step :  73  Train loss :  4.005951254900234e-06 , Valid Loss : =>  4.987000187005227e-06\n",
            "***->>>-----------------------------------------------<<<-***\n",
            "step :  74  Train loss :  3.999061210197397e-06 , Valid Loss : =>  4.9829548612857856e-06\n",
            "***->>>-----------------------------------------------<<<-***\n",
            "step :  75  Train loss :  3.998787867021747e-06 , Valid Loss : =>  4.980990313924849e-06\n",
            "***->>>-----------------------------------------------<<<-***\n",
            "step :  76  Train loss :  3.994647065216365e-06 , Valid Loss : =>  4.980165472564598e-06\n",
            "***->>>-----------------------------------------------<<<-***\n",
            "step :  77  Train loss :  3.992068622028455e-06 , Valid Loss : =>  4.9782594627079865e-06\n",
            "***->>>-----------------------------------------------<<<-***\n",
            "step :  78  Train loss :  3.988897151430137e-06 , Valid Loss : =>  4.976614688833555e-06\n",
            "***->>>-----------------------------------------------<<<-***\n",
            "step :  79  Train loss :  3.986001724842936e-06 , Valid Loss : =>  4.975425632437691e-06\n",
            "***->>>-----------------------------------------------<<<-***\n",
            "step :  80  Train loss :  3.983506222721189e-06 , Valid Loss : =>  4.9731847054014606e-06\n",
            "***->>>-----------------------------------------------<<<-***\n",
            "step :  81  Train loss :  3.97992911360537e-06 , Valid Loss : =>  4.9726552097126845e-06\n",
            "***->>>-----------------------------------------------<<<-***\n",
            "step :  82  Train loss :  3.9774015710766735e-06 , Valid Loss : =>  4.969987659327065e-06\n",
            "***->>>-----------------------------------------------<<<-***\n",
            "step :  83  Train loss :  3.974277961727542e-06 , Valid Loss : =>  4.969326119559506e-06\n",
            "***->>>-----------------------------------------------<<<-***\n",
            "step :  84  Train loss :  3.971336078636038e-06 , Valid Loss : =>  4.966882445539038e-06\n",
            "***->>>-----------------------------------------------<<<-***\n",
            "step :  85  Train loss :  3.968546281491096e-06 , Valid Loss : =>  4.965685220668092e-06\n",
            "***->>>-----------------------------------------------<<<-***\n",
            "step :  86  Train loss :  3.9656440193842475e-06 , Valid Loss : =>  4.963945975759998e-06\n",
            "***->>>-----------------------------------------------<<<-***\n",
            "step :  87  Train loss :  3.962939098710194e-06 , Valid Loss : =>  4.962790932040662e-06\n",
            "***->>>-----------------------------------------------<<<-***\n",
            "step :  88  Train loss :  3.960266126280961e-06 , Valid Loss : =>  4.96164236877424e-06\n",
            "***->>>-----------------------------------------------<<<-***\n",
            "step :  89  Train loss :  3.957595713048553e-06 , Valid Loss : =>  4.960583600526055e-06\n",
            "***->>>-----------------------------------------------<<<-***\n",
            "step :  90  Train loss :  3.954905654730586e-06 , Valid Loss : =>  4.959475947543979e-06\n",
            "***->>>-----------------------------------------------<<<-***\n",
            "step :  91  Train loss :  3.952228362322785e-06 , Valid Loss : =>  4.958538745995611e-06\n",
            "***->>>-----------------------------------------------<<<-***\n",
            "step :  92  Train loss :  3.949540182172011e-06 , Valid Loss : =>  4.957467889956509e-06\n",
            "***->>>-----------------------------------------------<<<-***\n",
            "step :  93  Train loss :  3.9468592236517e-06 , Valid Loss : =>  4.956366775635009e-06\n",
            "***->>>-----------------------------------------------<<<-***\n",
            "step :  94  Train loss :  3.944179078098386e-06 , Valid Loss : =>  4.9552584435635555e-06\n",
            "***->>>-----------------------------------------------<<<-***\n",
            "step :  95  Train loss :  3.941502599627711e-06 , Valid Loss : =>  4.95413871249184e-06\n",
            "***->>>-----------------------------------------------<<<-***\n",
            "step :  96  Train loss :  3.938842464898092e-06 , Valid Loss : =>  4.953034086308132e-06\n",
            "***->>>-----------------------------------------------<<<-***\n",
            "step :  97  Train loss :  3.936201940329435e-06 , Valid Loss : =>  4.951920292417829e-06\n",
            "***->>>-----------------------------------------------<<<-***\n",
            "step :  98  Train loss :  3.933578382323807e-06 , Valid Loss : =>  4.950748387879381e-06\n",
            "***->>>-----------------------------------------------<<<-***\n",
            "step :  99  Train loss :  3.931013399657483e-06 , Valid Loss : =>  4.949600979064902e-06\n",
            "***->>>-----------------------------------------------<<<-***\n",
            "===========================================================\n",
            "*********************************************************\n",
            "The total Training Time is Equal with ==> : 577.2936375141144 Sec.\n",
            "*********************************************************\n",
            "===========================================================\n"
          ],
          "name": "stdout"
        }
      ]
    },
    {
      "cell_type": "code",
      "metadata": {
        "id": "H4jiSUbWu1fQ",
        "colab_type": "code",
        "outputId": "879b6930-be0e-47b5-f640-f16d9aaca1e3",
        "colab": {
          "base_uri": "https://localhost:8080/",
          "height": 354
        }
      },
      "source": [
        "f, ax = plt.subplots(1, 1, figsize=(7, 5))\n",
        "plt.title(\"Valid & Test Loss - GRU\", fontsize=18)\n",
        "plt.xlabel(\"Epoch\")\n",
        "plt.ylabel(\"Loss\")\n",
        "plt.plot(running_loss_history, label='train')\n",
        "plt.plot(val_running_loss_history, label='test')\n",
        "# pyplot.plot(history.history['val_loss'], label='test')\n",
        "plt.legend()\n",
        "plt.show()"
      ],
      "execution_count": 10,
      "outputs": [
        {
          "output_type": "display_data",
          "data": {
            "image/png": "[encoded data removed]",
            "text/plain": [
              "<Figure size 504x360 with 1 Axes>"
            ]
          },
          "metadata": {
            "tags": [],
            "needs_background": "light"
          }
        }
      ]
    },
    {
      "cell_type": "code",
      "metadata": {
        "id": "uweASFbTzUrP",
        "colab_type": "code",
        "colab": {}
      },
      "source": [
        "x, y = split_sequences(dataset, n_timesteps, n_samples=100, start_from=20500)\n",
        "\n",
        "future = 100\n",
        "window_size = 11\n",
        "# preds = dataset[14989:15000, :].tolist()\n",
        "# print(len(preds))\n",
        "# print(preds)\n",
        "model.eval()\n",
        "x = torch.tensor(x, dtype=torch.float32)\n",
        "# for i in range (future):\n",
        "#     # seq = torch.FloatTensor(preds[-window_size:])\n",
        "#     with torch.no_grad():\n",
        "#         # seq = torch.tensor(seq, dtype=torch.float32).view(1, 11, 8)\n",
        "#         # model.hidden = (torch.zeros(1, 1, model.hidden_size),\n",
        "#         #                 torch.zeros(1, 1, model.hidden_size))\n",
        "        \n",
        "#         preds.append(model(seq))\n",
        "res, hid = model(x, None)\n",
        "# print(preds[11:])"
      ],
      "execution_count": 0,
      "outputs": []
    },
    {
      "cell_type": "code",
      "metadata": {
        "id": "8RWHd-TLJkVp",
        "colab_type": "code",
        "outputId": "15d80fe5-e9c8-4e4e-f8ed-15a9656cdcd5",
        "colab": {
          "base_uri": "https://localhost:8080/",
          "height": 430
        }
      },
      "source": [
        "fig = plt.figure(figsize=(20, 7))\n",
        "plt.title(\"Beijing Polution Prediction - GRU\", fontsize=18)\n",
        "plt.ylabel('Polution')\n",
        "plt.xlabel('Num data')\n",
        "plt.grid(True)\n",
        "plt.autoscale(axis='x', tight=True)\n",
        "fig.autofmt_xdate()\n",
        "\n",
        "# plt.plot(data[15000:15100, 0])\n",
        "plt.plot(y, label=\"Real\")\n",
        "# plt.plot(preds[12:])\n",
        "# print(res.shape)\n",
        "plt.plot(res.detach().numpy(), label=\"Prediction\")\n",
        "plt.legend()\n",
        "plt.show()"
      ],
      "execution_count": 12,
      "outputs": [
        {
          "output_type": "display_data",
          "data": {
            "image/png": "[encoded data removed]",
            "text/plain": [
              "<Figure size 1440x504 with 1 Axes>"
            ]
          },
          "metadata": {
            "tags": [],
            "needs_background": "light"
          }
        }
      ]
    },
    {
      "cell_type": "code",
      "metadata": {
        "id": "EdVj6XlI5Guj",
        "colab_type": "code",
        "colab": {}
      },
      "source": [
        "# split a multivariate sequence into samples\n",
        "def split_sequences12(sequences, n_steps, n_samples=12000, start_from=0):\n",
        "    X, y = list(), list()\n",
        "    j = 0\n",
        "    for i in range(start_from, (start_from + n_samples)):\n",
        "        # find the end of this pattern\n",
        "        end_ix = j*12 + n_steps + start_from\n",
        "        # check if we are beyond the dataset\n",
        "        # gather input and output parts of the pattern\n",
        "        j = j + 1\n",
        "        seq_x = sequences[end_ix-11:end_ix, :]\n",
        "        seq_y = sequences[end_ix, 0]\n",
        "        y.append(seq_y)\n",
        "        X.append(seq_x)\n",
        "    print(\"End :=> \", end_ix)\n",
        "    return array(X), array(y)"
      ],
      "execution_count": 0,
      "outputs": []
    },
    {
      "cell_type": "code",
      "metadata": {
        "id": "JvZ7L7hT-ydY",
        "colab_type": "code",
        "outputId": "d2b5809b-d92d-4e39-fb5c-1af487b26ace",
        "colab": {
          "base_uri": "https://localhost:8080/",
          "height": 51
        }
      },
      "source": [
        "test_x, test_y = split_sequences12(sequences=dataset, n_steps=11, n_samples=100, start_from=18000)\n",
        "test_x = torch.tensor(test_x, dtype=torch.float32)\n",
        "test_x.shape"
      ],
      "execution_count": 17,
      "outputs": [
        {
          "output_type": "stream",
          "text": [
            "End :=>  19199\n"
          ],
          "name": "stdout"
        },
        {
          "output_type": "execute_result",
          "data": {
            "text/plain": [
              "torch.Size([100, 11, 8])"
            ]
          },
          "metadata": {
            "tags": []
          },
          "execution_count": 17
        }
      ]
    },
    {
      "cell_type": "code",
      "metadata": {
        "id": "WE3OVBlyBBXC",
        "colab_type": "code",
        "outputId": "56c5084a-2f8d-48be-e02f-0e5368d93b1c",
        "colab": {
          "base_uri": "https://localhost:8080/",
          "height": 136
        }
      },
      "source": [
        "test_x, test_y = split_sequences(dataset, n_timesteps, n_samples=3000, start_from=18000)\n",
        "model.eval()\n",
        "\n",
        "test_running_loss = 0\n",
        "with torch.no_grad(): # it will temprerorerly set all the required grad flags to be false\n",
        "    model.eval()\n",
        "    for b in range(0, len(test_x), batch_size):\n",
        "        inpt = test_x[b:b+batch_size, :, :]\n",
        "        target = test_y[b:b+batch_size]   \n",
        "\n",
        "        x_batch_test = torch.tensor(inpt, dtype=torch.float32)\n",
        "        y_batch_test = torch.tensor(target, dtype=torch.float32)\n",
        "\n",
        "        # model.init_hidden(x_batch_test.size(0))\n",
        "\n",
        "        output_test, hidden_test = model(x_batch_test, hidden_test)\n",
        "\n",
        "        hidden_test = hidden_test.data\n",
        "        loss_test = criterion(output_test.view(-1), y_batch_test)\n",
        "\n",
        "        test_running_loss += loss_test.item()\n",
        "\n",
        "    test_epoch_loss = test_running_loss / len(test_x)\n",
        "\n",
        "print(\"##########################################################\")\n",
        "print(\">>>>---------------------------------------------------<<<<\")\n",
        "print(\">>>>----------***************************--------------<<<<\")\n",
        "print(\"**** Test Loss :==>>> \", test_epoch_loss)\n",
        "print(\">>>>----------***************************--------------<<<<\")\n",
        "print(\">>>>---------------------------------------------------<<<<\")\n",
        "print(\"##########################################################\")"
      ],
      "execution_count": 18,
      "outputs": [
        {
          "output_type": "stream",
          "text": [
            "##########################################################\n",
            ">>>>---------------------------------------------------<<<<\n",
            ">>>>----------***************************--------------<<<<\n",
            "**** Test Loss :==>>>  4.261188812961336e-06\n",
            ">>>>----------***************************--------------<<<<\n",
            ">>>>---------------------------------------------------<<<<\n",
            "##########################################################\n"
          ],
          "name": "stdout"
        }
      ]
    },
    {
      "cell_type": "code",
      "metadata": {
        "id": "CRjWOQ8nyZvY",
        "colab_type": "code",
        "colab": {}
      },
      "source": [
        ""
      ],
      "execution_count": 0,
      "outputs": []
    }
  ]
}