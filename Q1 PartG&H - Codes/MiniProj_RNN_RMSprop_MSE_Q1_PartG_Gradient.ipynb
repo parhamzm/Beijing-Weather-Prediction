{
  "nbformat": 4,
  "nbformat_minor": 0,
  "metadata": {
    "colab": {
      "name": "MiniProj_RNN_RMSprop_MSE_Q1_PartG_Gradient.ipynb",
      "provenance": [],
      "collapsed_sections": []
    },
    "kernelspec": {
      "name": "python3",
      "display_name": "Python 3"
    }
  },
  "cells": [
    {
      "cell_type": "code",
      "metadata": {
        "id": "PcJDApDcK0O9",
        "colab_type": "code",
        "outputId": "dc24cef0-7d53-4523-eec7-d4d600e3d9aa",
        "colab": {
          "base_uri": "https://localhost:8080/",
          "height": 34
        }
      },
      "source": [
        "!git clone https://github.com/parhamzm/Beijing-Pollution-DataSet"
      ],
      "execution_count": 1,
      "outputs": [
        {
          "output_type": "stream",
          "text": [
            "fatal: destination path 'Beijing-Pollution-DataSet' already exists and is not an empty directory.\n"
          ],
          "name": "stdout"
        }
      ]
    },
    {
      "cell_type": "code",
      "metadata": {
        "id": "0-KcI9tFLGXP",
        "colab_type": "code",
        "outputId": "c891b835-d40b-46e7-e791-a03f58cacdb6",
        "colab": {
          "base_uri": "https://localhost:8080/",
          "height": 34
        }
      },
      "source": [
        "!ls Beijing-Pollution-DataSet"
      ],
      "execution_count": 2,
      "outputs": [
        {
          "output_type": "stream",
          "text": [
            "pollution.csv  polution_dataSet.npy  README.md\n"
          ],
          "name": "stdout"
        }
      ]
    },
    {
      "cell_type": "code",
      "metadata": {
        "id": "9NuzKJEnLNyx",
        "colab_type": "code",
        "colab": {}
      },
      "source": [
        "import torch\n",
        "import torchvision\n",
        "import torch.nn as nn\n",
        "from torchvision import transforms\n",
        "import pandas as pd\n",
        "\n",
        "import matplotlib.pyplot as plt\n",
        "import numpy as np\n",
        "\n",
        "from torch.utils.data import random_split\n",
        "\n",
        "from math import sqrt\n",
        "from numpy import concatenate\n",
        "from matplotlib import pyplot\n",
        "from pandas import read_csv\n",
        "from pandas import DataFrame\n",
        "from pandas import concat\n",
        "from sklearn.preprocessing import MinMaxScaler\n",
        "from sklearn.preprocessing import LabelEncoder\n",
        "from sklearn.metrics import mean_squared_error\n",
        "\n",
        "from numpy import array\n",
        "from numpy import hstack"
      ],
      "execution_count": 0,
      "outputs": []
    },
    {
      "cell_type": "markdown",
      "metadata": {
        "id": "Q_0pmTGAHWmf",
        "colab_type": "text"
      },
      "source": [
        "# **Data Pre Processing**"
      ]
    },
    {
      "cell_type": "code",
      "metadata": {
        "id": "GjcwsJBc9eIG",
        "colab_type": "code",
        "colab": {}
      },
      "source": [
        "DATA_DIR = \"Beijing-Pollution-DataSet/\"\n",
        "from pandas import read_csv\n",
        "from datetime import datetime\n",
        "\n",
        "\n",
        "# split a multivariate sequence into samples\n",
        "def split_sequences(sequences, n_steps=11, n_samples=12000, start_from=0):\n",
        "\tX, y = list(), list()\n",
        "\tfor i in range(start_from, (start_from + n_samples)):\n",
        "        # find the end of this pattern\n",
        "\t\tend_ix = i + n_steps\n",
        "        # check if we are beyond the dataset\n",
        "        # gather input and output parts of the pattern\n",
        "\t\tseq_x = sequences[i:end_ix, [0, 1, 2]]\n",
        "\t\tseq_y = sequences[end_ix, 0]\n",
        "\t\ty.append(seq_y)\n",
        "\t\tX.append(seq_x)\n",
        "  \n",
        "\treturn array(X), array(y)\n",
        "\n",
        "\n",
        "# load dataset\n",
        "DATA_DIR = \"Beijing-Pollution-DataSet/\"\n",
        "\n",
        "data = np.load(DATA_DIR + 'polution_dataSet.npy')\n",
        "scaled_data = data\n",
        "\n",
        "# specify the number of lag hours\n",
        "n_hours = 11\n",
        "n_features = 8\n",
        "# frame as supervised learning\n",
        "# reframed = series_to_supervised(scaled_data, n_hours, 1)\n",
        "n_timesteps = 11\n",
        "dataset = data\n",
        "train_X, train_y = split_sequences(dataset, n_timesteps, n_samples=15000, start_from=0)\n",
        "valid_X, valid_y = split_sequences(dataset, n_timesteps, n_samples=3000, start_from=15000)"
      ],
      "execution_count": 0,
      "outputs": []
    },
    {
      "cell_type": "code",
      "metadata": {
        "id": "sIihkChW80JC",
        "colab_type": "code",
        "outputId": "ec885f4a-6315-40af-96f8-fe52ad1946c0",
        "colab": {
          "base_uri": "https://localhost:8080/",
          "height": 102
        }
      },
      "source": [
        "test_loader_X = torch.utils.data.DataLoader(dataset=(train_X), batch_size=20, shuffle=False)\n",
        "# train_X = torch.tensor(train_X, dtype=torch.float32)    \n",
        "# train_y = torch.tensor(train_y, dtype=torch.float32)\n",
        "print(\"Train X Shape :=> \", train_X.shape)\n",
        "print(\"Train Y Shape :=> \", train_y.shape)\n",
        "print(\"####################################\")\n",
        "print(\"Test X Shape :=> \", valid_X.shape)\n",
        "print(\"Test Y Shape :=> \", valid_y.shape)"
      ],
      "execution_count": 5,
      "outputs": [
        {
          "output_type": "stream",
          "text": [
            "Train X Shape :=>  (15000, 11, 3)\n",
            "Train Y Shape :=>  (15000,)\n",
            "####################################\n",
            "Test X Shape :=>  (3000, 11, 3)\n",
            "Test Y Shape :=>  (3000,)\n"
          ],
          "name": "stdout"
        }
      ]
    },
    {
      "cell_type": "code",
      "metadata": {
        "id": "fKrqnxUfSRI4",
        "colab_type": "code",
        "colab": {
          "base_uri": "https://localhost:8080/",
          "height": 283
        },
        "outputId": "082883b6-30f2-4394-cb28-f4f8cfd07a0a"
      },
      "source": [
        "from sklearn.preprocessing import StandardScaler\n",
        "from sklearn.metrics import mean_absolute_error\n",
        "from sklearn.model_selection import train_test_split\n",
        "from sklearn.ensemble import GradientBoostingRegressor\n",
        "\n",
        "seq_x = data[0:, 1:]\n",
        "seq_y = data[0:, 0]\n",
        "\n",
        "### FIT GRADIENTBOOSTING ###\n",
        "### PREDICTION ERROR ON TEST DATA ###\n",
        "gb = GradientBoostingRegressor(n_estimators=300)\n",
        "gb.fit(seq_x, seq_y.ravel())\n",
        "# mean_absolute_error(seq_y, gb.predict(seq_x))\n",
        "### FEATURE IMPORTANCES REPORT ###\n",
        "print(seq_x.shape[1])\n",
        "plt.bar(range(seq_x.shape[1]), gb.feature_importances_)\n",
        "plt.xticks(range(seq_x.shape[1]), ['dew','temp','pressure', 'wind_dir', 'wind_spd', 'snow', 'rain'])\n",
        "np.set_printoptions(False)"
      ],
      "execution_count": 6,
      "outputs": [
        {
          "output_type": "stream",
          "text": [
            "7\n"
          ],
          "name": "stdout"
        },
        {
          "output_type": "display_data",
          "data": {
            "image/png": "[encoded data removed]",
            "text/plain": [
              "<Figure size 432x288 with 1 Axes>"
            ]
          },
          "metadata": {
            "tags": [],
            "needs_background": "light"
          }
        }
      ]
    },
    {
      "cell_type": "code",
      "metadata": {
        "id": "pDpTe3gIYsW4",
        "colab_type": "code",
        "colab": {}
      },
      "source": [
        "class RNN(torch.nn.Module):\n",
        "    def __init__(self, n_features=8, n_output=1, seq_length=11, n_hidden_layers=233, n_layers=1):\n",
        "        super(RNN, self).__init__()\n",
        "        self.n_features = n_features\n",
        "        self.seq_len = seq_length\n",
        "        self.n_output = n_output\n",
        "\n",
        "        self.n_hidden = n_hidden_layers # number of hidden states\n",
        "        self.n_layers = n_layers # number of LSTM layers (stacked)\n",
        "        \n",
        "        # define RNN with specified parameters\n",
        "        # bath_first means that the first dim of the input and output will be the batch_size\n",
        "        self.rnn = nn.RNN(input_size=self.n_features,\n",
        "                          hidden_size=self.n_hidden,\n",
        "                          num_layers=self.n_layers,\n",
        "                          batch_first=True)\n",
        "        \n",
        "        # last, fully connected layer\n",
        "        self.l_linear = torch.nn.Linear(self.n_hidden*self.seq_len, self.n_output)\n",
        "\n",
        "\n",
        "    def forward(self, x, hidden):\n",
        "        # hidden_state = torch.zeros(self.n_layers, x.size(0), self.n_hidden).requires_grad_()\n",
        "        # cell_state = torch.zeros(self.n_layers, x.size(0), self.n_hidden).requires_grad_()\n",
        "        batch_size = x.size(0)\n",
        "\n",
        "        rnn_out, hidden = self.rnn(x, hidden)\n",
        "        # print(rnn_out.shape)\n",
        "        rnn_out = rnn_out.contiguous().view(batch_size, -1)\n",
        "        \n",
        "        # lstm_out(with batch_first = True) is \n",
        "        # (batch_size,seq_len,num_directions * hidden_size)\n",
        "        # for following linear layer we want to keep batch_size dimension and merge rest       \n",
        "        # .contiguous() -> solves tensor compatibility error\n",
        "        # x = lstm_out.contiguous().view(batch_size, -1)\n",
        "        out = self.l_linear(rnn_out)\n",
        "        return out, hidden"
      ],
      "execution_count": 0,
      "outputs": []
    },
    {
      "cell_type": "code",
      "metadata": {
        "id": "PCxQTgWnavOJ",
        "colab_type": "code",
        "colab": {}
      },
      "source": [
        "torch.manual_seed(13)\n",
        "model = RNN(n_features=3, n_output=1, seq_length=11, n_hidden_layers=233, n_layers=1)\n",
        "criterion = nn.MSELoss()\n",
        "optimizer = torch.optim.RMSprop(model.parameters(), lr=0.0003)"
      ],
      "execution_count": 0,
      "outputs": []
    },
    {
      "cell_type": "code",
      "metadata": {
        "id": "oWbmF4vLbJ5N",
        "colab_type": "code",
        "outputId": "3f92a726-e506-450e-b46f-1d2f72587e5b",
        "colab": {
          "base_uri": "https://localhost:8080/",
          "height": 119
        }
      },
      "source": [
        "model = model#.to(device)\n",
        "criterion = criterion#.to(device)\n",
        "for p in model.parameters():\n",
        "    print(p.numel())"
      ],
      "execution_count": 9,
      "outputs": [
        {
          "output_type": "stream",
          "text": [
            "699\n",
            "54289\n",
            "233\n",
            "233\n",
            "2563\n",
            "1\n"
          ],
          "name": "stdout"
        }
      ]
    },
    {
      "cell_type": "code",
      "metadata": {
        "id": "5R__1vOLzB-i",
        "colab_type": "code",
        "outputId": "d1ff8f06-ad56-41c0-b00c-1245c882ef2a",
        "colab": {
          "base_uri": "https://localhost:8080/",
          "height": 1000
        }
      },
      "source": [
        "import time\n",
        "start_time = time.time()\n",
        "hidden = None\n",
        "hidden_test = None\n",
        "epochs = 100\n",
        "model.train()\n",
        "batch_size = 200\n",
        "running_loss_history = []\n",
        "val_running_loss_history = []\n",
        "for epoch in range(epochs):\n",
        "    running_loss = 0.0\n",
        "    val_running_loss = 0.0\n",
        "    model.train()\n",
        "    for b in range(0, len(train_X), batch_size):\n",
        "        inpt = train_X[b:b+batch_size, :, :]\n",
        "        target = train_y[b:b+batch_size]\n",
        "\n",
        "        # print(\"Input Shape :=> \", inpt.shape)\n",
        "\n",
        "        x_batch = torch.tensor(inpt, dtype=torch.float32)    \n",
        "        y_batch = torch.tensor(target, dtype=torch.float32)\n",
        "\n",
        "        output, hidden = model(x_batch, hidden)\n",
        "\n",
        "        hidden = hidden.data\n",
        "        loss = criterion(output.view(-1), y_batch)\n",
        "\n",
        "        running_loss += loss.item()\n",
        "\n",
        "        loss.backward()\n",
        "        optimizer.step()        \n",
        "        optimizer.zero_grad() \n",
        "\n",
        "    else:\n",
        "        with torch.no_grad(): # it will temprerorerly set all the required grad flags to be false\n",
        "            model.eval()\n",
        "            for b in range(0, len(valid_X), batch_size):\n",
        "                inpt = valid_X[b:b+batch_size, :, :]\n",
        "                target = valid_y[b:b+batch_size]   \n",
        "\n",
        "                x_batch_test = torch.tensor(inpt, dtype=torch.float32)\n",
        "                y_batch_test = torch.tensor(target, dtype=torch.float32)\n",
        "\n",
        "                # model.init_hidden(x_batch_test.size(0))\n",
        "\n",
        "                output_test, hidden_test = model(x_batch_test, hidden_test)\n",
        "\n",
        "                hidden_test = hidden_test.data\n",
        "                loss_valid = criterion(output_test.view(-1), y_batch_test)\n",
        "\n",
        "                val_running_loss += loss_valid.item()\n",
        "\n",
        "    val_epoch_loss = val_running_loss / len(valid_X)\n",
        "    val_running_loss_history.append(val_epoch_loss)\n",
        "    epoch_loss = running_loss / len(train_X)\n",
        "    running_loss_history.append(epoch_loss)\n",
        "    print('step : ' , epoch , ' Train loss : ' , epoch_loss, ', Valid Loss : => ', val_epoch_loss)\n",
        "    print(\"***->>>-----------------------------------------------<<<-***\")\n",
        "\n",
        "total_time = time.time() - start_time\n",
        "print(\"===========================================================\")\n",
        "print(\"*********************************************************\")\n",
        "print(\"The total Training Time is Equal with ==> : {0} Sec.\".format(total_time))\n",
        "print(\"*********************************************************\")\n",
        "print(\"===========================================================\")"
      ],
      "execution_count": 10,
      "outputs": [
        {
          "output_type": "stream",
          "text": [
            "step :  0  Train loss :  5.019151442684233e-05 , Valid Loss : =>  3.065400756895542e-05\n",
            "***->>>-----------------------------------------------<<<-***\n",
            "step :  1  Train loss :  1.5912337348951646e-05 , Valid Loss : =>  2.2624627454206348e-05\n",
            "***->>>-----------------------------------------------<<<-***\n",
            "step :  2  Train loss :  1.2669423507759347e-05 , Valid Loss : =>  1.785806706175208e-05\n",
            "***->>>-----------------------------------------------<<<-***\n",
            "step :  3  Train loss :  1.1107911788470422e-05 , Valid Loss : =>  1.543480084122469e-05\n",
            "***->>>-----------------------------------------------<<<-***\n",
            "step :  4  Train loss :  9.837962545376892e-06 , Valid Loss : =>  1.3600790388106058e-05\n",
            "***->>>-----------------------------------------------<<<-***\n",
            "step :  5  Train loss :  8.945745540161927e-06 , Valid Loss : =>  1.2146917385204384e-05\n",
            "***->>>-----------------------------------------------<<<-***\n",
            "step :  6  Train loss :  8.1893441422532e-06 , Valid Loss : =>  1.0812564345542341e-05\n",
            "***->>>-----------------------------------------------<<<-***\n",
            "step :  7  Train loss :  8.322459880340224e-06 , Valid Loss : =>  1.1988714764205118e-05\n",
            "***->>>-----------------------------------------------<<<-***\n",
            "step :  8  Train loss :  6.115081850051259e-06 , Valid Loss : =>  9.24666392772148e-06\n",
            "***->>>-----------------------------------------------<<<-***\n",
            "step :  9  Train loss :  6.482583390121969e-06 , Valid Loss : =>  8.790451218374073e-06\n",
            "***->>>-----------------------------------------------<<<-***\n",
            "step :  10  Train loss :  5.99120489108221e-06 , Valid Loss : =>  7.855068882539248e-06\n",
            "***->>>-----------------------------------------------<<<-***\n",
            "step :  11  Train loss :  5.797384462979001e-06 , Valid Loss : =>  7.511499337852001e-06\n",
            "***->>>-----------------------------------------------<<<-***\n",
            "step :  12  Train loss :  5.949633748969063e-06 , Valid Loss : =>  6.564421598644307e-06\n",
            "***->>>-----------------------------------------------<<<-***\n",
            "step :  13  Train loss :  4.633313181693665e-06 , Valid Loss : =>  6.611215979016076e-06\n",
            "***->>>-----------------------------------------------<<<-***\n",
            "step :  14  Train loss :  5.039905333736291e-06 , Valid Loss : =>  6.207772200771918e-06\n",
            "***->>>-----------------------------------------------<<<-***\n",
            "step :  15  Train loss :  5.248323012104568e-06 , Valid Loss : =>  5.698079417925328e-06\n",
            "***->>>-----------------------------------------------<<<-***\n",
            "step :  16  Train loss :  4.525276689673774e-06 , Valid Loss : =>  5.845142489609619e-06\n",
            "***->>>-----------------------------------------------<<<-***\n",
            "step :  17  Train loss :  4.61414843351425e-06 , Valid Loss : =>  5.587626879181092e-06\n",
            "***->>>-----------------------------------------------<<<-***\n",
            "step :  18  Train loss :  4.7546785169591504e-06 , Valid Loss : =>  5.277392173108335e-06\n",
            "***->>>-----------------------------------------------<<<-***\n",
            "step :  19  Train loss :  4.273583447017396e-06 , Valid Loss : =>  5.6365325775307916e-06\n",
            "***->>>-----------------------------------------------<<<-***\n",
            "step :  20  Train loss :  4.7128572380946325e-06 , Valid Loss : =>  5.402959805602829e-06\n",
            "***->>>-----------------------------------------------<<<-***\n",
            "step :  21  Train loss :  4.432999722970029e-06 , Valid Loss : =>  5.500025028595701e-06\n",
            "***->>>-----------------------------------------------<<<-***\n",
            "step :  22  Train loss :  4.536560838459991e-06 , Valid Loss : =>  5.3013226521822315e-06\n",
            "***->>>-----------------------------------------------<<<-***\n",
            "step :  23  Train loss :  4.459910669053594e-06 , Valid Loss : =>  5.307259649271146e-06\n",
            "***->>>-----------------------------------------------<<<-***\n",
            "step :  24  Train loss :  4.447474260814488e-06 , Valid Loss : =>  5.323099088855087e-06\n",
            "***->>>-----------------------------------------------<<<-***\n",
            "step :  25  Train loss :  4.5097194844856855e-06 , Valid Loss : =>  5.267722047089289e-06\n",
            "***->>>-----------------------------------------------<<<-***\n",
            "step :  26  Train loss :  4.355387257722517e-06 , Valid Loss : =>  5.3122301081505915e-06\n",
            "***->>>-----------------------------------------------<<<-***\n",
            "step :  27  Train loss :  4.4068118858073525e-06 , Valid Loss : =>  5.245037580607459e-06\n",
            "***->>>-----------------------------------------------<<<-***\n",
            "step :  28  Train loss :  4.4236078557635965e-06 , Valid Loss : =>  5.243001573641474e-06\n",
            "***->>>-----------------------------------------------<<<-***\n",
            "step :  29  Train loss :  4.383225156925619e-06 , Valid Loss : =>  5.282370955683291e-06\n",
            "***->>>-----------------------------------------------<<<-***\n",
            "step :  30  Train loss :  4.366349274641834e-06 , Valid Loss : =>  5.227676078599567e-06\n",
            "***->>>-----------------------------------------------<<<-***\n",
            "step :  31  Train loss :  4.353317407852349e-06 , Valid Loss : =>  5.208626777554552e-06\n",
            "***->>>-----------------------------------------------<<<-***\n",
            "step :  32  Train loss :  4.4293312433486185e-06 , Valid Loss : =>  5.214465529813121e-06\n",
            "***->>>-----------------------------------------------<<<-***\n",
            "step :  33  Train loss :  4.31245695896602e-06 , Valid Loss : =>  5.37158611890239e-06\n",
            "***->>>-----------------------------------------------<<<-***\n",
            "step :  34  Train loss :  4.309215112395274e-06 , Valid Loss : =>  5.180259371021141e-06\n",
            "***->>>-----------------------------------------------<<<-***\n",
            "step :  35  Train loss :  4.352721847438564e-06 , Valid Loss : =>  5.180752224987373e-06\n",
            "***->>>-----------------------------------------------<<<-***\n",
            "step :  36  Train loss :  4.312390014335202e-06 , Valid Loss : =>  5.1986221903158974e-06\n",
            "***->>>-----------------------------------------------<<<-***\n",
            "step :  37  Train loss :  4.344157716453386e-06 , Valid Loss : =>  5.191429421150436e-06\n",
            "***->>>-----------------------------------------------<<<-***\n",
            "step :  38  Train loss :  4.294859985626923e-06 , Valid Loss : =>  5.211898785394927e-06\n",
            "***->>>-----------------------------------------------<<<-***\n",
            "step :  39  Train loss :  4.313306478434242e-06 , Valid Loss : =>  5.177693470614031e-06\n",
            "***->>>-----------------------------------------------<<<-***\n",
            "step :  40  Train loss :  4.27842310940226e-06 , Valid Loss : =>  5.177631198118131e-06\n",
            "***->>>-----------------------------------------------<<<-***\n",
            "step :  41  Train loss :  4.3567448388785125e-06 , Valid Loss : =>  5.16564513479049e-06\n",
            "***->>>-----------------------------------------------<<<-***\n",
            "step :  42  Train loss :  4.2529376223683355e-06 , Valid Loss : =>  5.291032372042537e-06\n",
            "***->>>-----------------------------------------------<<<-***\n",
            "step :  43  Train loss :  4.268377387779765e-06 , Valid Loss : =>  5.14082510683996e-06\n",
            "***->>>-----------------------------------------------<<<-***\n",
            "step :  44  Train loss :  4.287483803151797e-06 , Valid Loss : =>  5.164947729402532e-06\n",
            "***->>>-----------------------------------------------<<<-***\n",
            "step :  45  Train loss :  4.260318451755059e-06 , Valid Loss : =>  5.1533155298481385e-06\n",
            "***->>>-----------------------------------------------<<<-***\n",
            "step :  46  Train loss :  4.288796165686411e-06 , Valid Loss : =>  5.169764617069935e-06\n",
            "***->>>-----------------------------------------------<<<-***\n",
            "step :  47  Train loss :  4.243605800244647e-06 , Valid Loss : =>  5.1557777721124395e-06\n",
            "***->>>-----------------------------------------------<<<-***\n",
            "step :  48  Train loss :  4.2688905193548025e-06 , Valid Loss : =>  5.152622606450071e-06\n",
            "***->>>-----------------------------------------------<<<-***\n",
            "step :  49  Train loss :  4.24395902955439e-06 , Valid Loss : =>  5.140346096595749e-06\n",
            "***->>>-----------------------------------------------<<<-***\n",
            "step :  50  Train loss :  4.255947297012123e-06 , Valid Loss : =>  5.141070316312835e-06\n",
            "***->>>-----------------------------------------------<<<-***\n",
            "step :  51  Train loss :  4.242960550861123e-06 , Valid Loss : =>  5.153549262710536e-06\n",
            "***->>>-----------------------------------------------<<<-***\n",
            "step :  52  Train loss :  4.243131601833739e-06 , Valid Loss : =>  5.143572217396771e-06\n",
            "***->>>-----------------------------------------------<<<-***\n",
            "step :  53  Train loss :  4.236612492240965e-06 , Valid Loss : =>  5.131140099062274e-06\n",
            "***->>>-----------------------------------------------<<<-***\n",
            "step :  54  Train loss :  4.234481216796364e-06 , Valid Loss : =>  5.130298649116109e-06\n",
            "***->>>-----------------------------------------------<<<-***\n",
            "step :  55  Train loss :  4.228707433988651e-06 , Valid Loss : =>  5.131932945611576e-06\n",
            "***->>>-----------------------------------------------<<<-***\n",
            "step :  56  Train loss :  4.229913115462599e-06 , Valid Loss : =>  5.154973924315224e-06\n",
            "***->>>-----------------------------------------------<<<-***\n",
            "step :  57  Train loss :  4.219767917917731e-06 , Valid Loss : =>  5.12231972728235e-06\n",
            "***->>>-----------------------------------------------<<<-***\n",
            "step :  58  Train loss :  4.213166072925863e-06 , Valid Loss : =>  5.101638710281501e-06\n",
            "***->>>-----------------------------------------------<<<-***\n",
            "step :  59  Train loss :  4.2642636321640264e-06 , Valid Loss : =>  5.199154557582612e-06\n",
            "***->>>-----------------------------------------------<<<-***\n",
            "step :  60  Train loss :  4.193390139456217e-06 , Valid Loss : =>  5.1430159461839745e-06\n",
            "***->>>-----------------------------------------------<<<-***\n",
            "step :  61  Train loss :  4.215990508479687e-06 , Valid Loss : =>  5.135911934000129e-06\n",
            "***->>>-----------------------------------------------<<<-***\n",
            "step :  62  Train loss :  4.208885168191046e-06 , Valid Loss : =>  5.1208842681565635e-06\n",
            "***->>>-----------------------------------------------<<<-***\n",
            "step :  63  Train loss :  4.2151148741443955e-06 , Valid Loss : =>  5.1517471632299324e-06\n",
            "***->>>-----------------------------------------------<<<-***\n",
            "step :  64  Train loss :  4.205032093644453e-06 , Valid Loss : =>  5.148076209782933e-06\n",
            "***->>>-----------------------------------------------<<<-***\n",
            "step :  65  Train loss :  4.192478711289975e-06 , Valid Loss : =>  5.083745258161798e-06\n",
            "***->>>-----------------------------------------------<<<-***\n",
            "step :  66  Train loss :  4.197274244506843e-06 , Valid Loss : =>  5.102810178262492e-06\n",
            "***->>>-----------------------------------------------<<<-***\n",
            "step :  67  Train loss :  4.214978080320482e-06 , Valid Loss : =>  5.251691608767336e-06\n",
            "***->>>-----------------------------------------------<<<-***\n",
            "step :  68  Train loss :  4.1977527347626165e-06 , Valid Loss : =>  5.144150073950489e-06\n",
            "***->>>-----------------------------------------------<<<-***\n",
            "step :  69  Train loss :  4.178049696686988e-06 , Valid Loss : =>  5.069874644201869e-06\n",
            "***->>>-----------------------------------------------<<<-***\n",
            "step :  70  Train loss :  4.223424840408067e-06 , Valid Loss : =>  5.158963176654652e-06\n",
            "***->>>-----------------------------------------------<<<-***\n",
            "step :  71  Train loss :  4.177236776255692e-06 , Valid Loss : =>  5.079104584486534e-06\n",
            "***->>>-----------------------------------------------<<<-***\n",
            "step :  72  Train loss :  4.1863824153551835e-06 , Valid Loss : =>  5.034372908994556e-06\n",
            "***->>>-----------------------------------------------<<<-***\n",
            "step :  73  Train loss :  4.181010273168795e-06 , Valid Loss : =>  5.042675009462983e-06\n",
            "***->>>-----------------------------------------------<<<-***\n",
            "step :  74  Train loss :  4.182720449171029e-06 , Valid Loss : =>  5.061339063104242e-06\n",
            "***->>>-----------------------------------------------<<<-***\n",
            "step :  75  Train loss :  4.196484020212665e-06 , Valid Loss : =>  5.036832075954104e-06\n",
            "***->>>-----------------------------------------------<<<-***\n",
            "step :  76  Train loss :  4.226039715770942e-06 , Valid Loss : =>  5.977495156306152e-06\n",
            "***->>>-----------------------------------------------<<<-***\n",
            "step :  77  Train loss :  4.149182145677818e-06 , Valid Loss : =>  5.0709279797350365e-06\n",
            "***->>>-----------------------------------------------<<<-***\n",
            "step :  78  Train loss :  4.171642247820273e-06 , Valid Loss : =>  5.06889100264137e-06\n",
            "***->>>-----------------------------------------------<<<-***\n",
            "step :  79  Train loss :  4.178372569731436e-06 , Valid Loss : =>  5.035878721779833e-06\n",
            "***->>>-----------------------------------------------<<<-***\n",
            "step :  80  Train loss :  4.1801329886463164e-06 , Valid Loss : =>  5.167478928342461e-06\n",
            "***->>>-----------------------------------------------<<<-***\n",
            "step :  81  Train loss :  4.184480874876802e-06 , Valid Loss : =>  5.020778422476724e-06\n",
            "***->>>-----------------------------------------------<<<-***\n",
            "step :  82  Train loss :  4.1641912791722764e-06 , Valid Loss : =>  5.0947910058312114e-06\n",
            "***->>>-----------------------------------------------<<<-***\n",
            "step :  83  Train loss :  4.168171458877623e-06 , Valid Loss : =>  5.090566254997005e-06\n",
            "***->>>-----------------------------------------------<<<-***\n",
            "step :  84  Train loss :  4.169852432096377e-06 , Valid Loss : =>  5.033992667449638e-06\n",
            "***->>>-----------------------------------------------<<<-***\n",
            "step :  85  Train loss :  4.163349199613246e-06 , Valid Loss : =>  5.074971190576131e-06\n",
            "***->>>-----------------------------------------------<<<-***\n",
            "step :  86  Train loss :  4.7672336785277975e-06 , Valid Loss : =>  7.427955065698673e-06\n",
            "***->>>-----------------------------------------------<<<-***\n",
            "step :  87  Train loss :  4.138624230593754e-06 , Valid Loss : =>  5.158882811277484e-06\n",
            "***->>>-----------------------------------------------<<<-***\n",
            "step :  88  Train loss :  4.079826705856249e-06 , Valid Loss : =>  5.112892239897822e-06\n",
            "***->>>-----------------------------------------------<<<-***\n",
            "step :  89  Train loss :  4.0960645177013555e-06 , Valid Loss : =>  5.092802273187165e-06\n",
            "***->>>-----------------------------------------------<<<-***\n",
            "step :  90  Train loss :  4.115730083625143e-06 , Valid Loss : =>  5.0836945398865884e-06\n",
            "***->>>-----------------------------------------------<<<-***\n",
            "step :  91  Train loss :  4.131743092633163e-06 , Valid Loss : =>  5.087418714538216e-06\n",
            "***->>>-----------------------------------------------<<<-***\n",
            "step :  92  Train loss :  4.1405722722023104e-06 , Valid Loss : =>  5.092296070264032e-06\n",
            "***->>>-----------------------------------------------<<<-***\n",
            "step :  93  Train loss :  4.151734813543347e-06 , Valid Loss : =>  5.101292306790128e-06\n",
            "***->>>-----------------------------------------------<<<-***\n",
            "step :  94  Train loss :  4.155105233076029e-06 , Valid Loss : =>  5.095096198298658e-06\n",
            "***->>>-----------------------------------------------<<<-***\n",
            "step :  95  Train loss :  4.171987859687457e-06 , Valid Loss : =>  5.175628165792053e-06\n",
            "***->>>-----------------------------------------------<<<-***\n",
            "step :  96  Train loss :  4.135453594305242e-06 , Valid Loss : =>  5.080710349526877e-06\n",
            "***->>>-----------------------------------------------<<<-***\n",
            "step :  97  Train loss :  4.149831394897774e-06 , Valid Loss : =>  5.06982896088933e-06\n",
            "***->>>-----------------------------------------------<<<-***\n",
            "step :  98  Train loss :  4.152597136756716e-06 , Valid Loss : =>  5.052162596257403e-06\n",
            "***->>>-----------------------------------------------<<<-***\n",
            "step :  99  Train loss :  4.158347968283731e-06 , Valid Loss : =>  5.054888286394998e-06\n",
            "***->>>-----------------------------------------------<<<-***\n",
            "===========================================================\n",
            "*********************************************************\n",
            "The total Training Time is Equal with ==> : 168.8154809474945 Sec.\n",
            "*********************************************************\n",
            "===========================================================\n"
          ],
          "name": "stdout"
        }
      ]
    },
    {
      "cell_type": "code",
      "metadata": {
        "id": "H4jiSUbWu1fQ",
        "colab_type": "code",
        "outputId": "5da28726-545f-440a-b104-19073c840323",
        "colab": {
          "base_uri": "https://localhost:8080/",
          "height": 462
        }
      },
      "source": [
        "f, ax = plt.subplots(1, 1, figsize=(10, 7))\n",
        "plt.title(\"Train & Valid Loss - RNN\", fontsize=18)\n",
        "plt.xlabel(\"Epoch\")\n",
        "plt.ylabel(\"Loss\")\n",
        "plt.plot(running_loss_history, label='Train')\n",
        "plt.plot(val_running_loss_history, label='Test')\n",
        "# pyplot.plot(history.history['val_loss'], label='test')\n",
        "plt.legend()\n",
        "plt.show()"
      ],
      "execution_count": 11,
      "outputs": [
        {
          "output_type": "display_data",
          "data": {
            "image/png": "[encoded data removed]",
            "text/plain": [
              "<Figure size 720x504 with 1 Axes>"
            ]
          },
          "metadata": {
            "tags": [],
            "needs_background": "light"
          }
        }
      ]
    },
    {
      "cell_type": "code",
      "metadata": {
        "id": "uweASFbTzUrP",
        "colab_type": "code",
        "outputId": "147c621c-f0b3-475b-fc17-51e5c2034337",
        "colab": {
          "base_uri": "https://localhost:8080/",
          "height": 136
        }
      },
      "source": [
        "test_x, test_y = split_sequences(dataset, n_timesteps, n_samples=3000, start_from=18000)\n",
        "model.eval()\n",
        "\n",
        "\n",
        "test_running_loss = 0\n",
        "with torch.no_grad(): # it will temprerorerly set all the required grad flags to be false\n",
        "    model.eval()\n",
        "    for b in range(0, len(test_x), batch_size):\n",
        "        inpt = test_x[b:b+batch_size, :, :]\n",
        "        target = test_y[b:b+batch_size]   \n",
        "\n",
        "        x_batch_test = torch.tensor(inpt, dtype=torch.float32)\n",
        "        y_batch_test = torch.tensor(target, dtype=torch.float32)\n",
        "\n",
        "        # model.init_hidden(x_batch_test.size(0))\n",
        "\n",
        "        output_test, hidden_test = model(x_batch_test, hidden_test)\n",
        "\n",
        "        hidden_test = hidden_test.data\n",
        "        loss_test = criterion(output_test.view(-1), y_batch_test)\n",
        "\n",
        "        test_running_loss += loss_test.item()\n",
        "\n",
        "    test_epoch_loss = test_running_loss / len(test_x)\n",
        "\n",
        "print(\"##########################################################\")\n",
        "print(\">>>>---------------------------------------------------<<<<\")\n",
        "print(\">>>>----------***************************--------------<<<<\")\n",
        "print(\"**** Test Loss :==>>> \", test_epoch_loss)\n",
        "print(\">>>>----------***************************--------------<<<<\")\n",
        "print(\">>>>---------------------------------------------------<<<<\")\n",
        "print(\"##########################################################\")"
      ],
      "execution_count": 12,
      "outputs": [
        {
          "output_type": "stream",
          "text": [
            "##########################################################\n",
            ">>>>---------------------------------------------------<<<<\n",
            ">>>>----------***************************--------------<<<<\n",
            "**** Test Loss :==>>>  4.1481101143290285e-06\n",
            ">>>>----------***************************--------------<<<<\n",
            ">>>>---------------------------------------------------<<<<\n",
            "##########################################################\n"
          ],
          "name": "stdout"
        }
      ]
    },
    {
      "cell_type": "code",
      "metadata": {
        "id": "4B2DG8C9UPTW",
        "colab_type": "code",
        "colab": {}
      },
      "source": [
        "test_x, test_y = split_sequences(dataset, n_timesteps, n_samples=100, start_from=20500)\n",
        "model.eval()\n",
        "test_x2 = torch.tensor(test_x, dtype=torch.float32)\n",
        "res, hid = model(test_x2, None)\n"
      ],
      "execution_count": 0,
      "outputs": []
    },
    {
      "cell_type": "code",
      "metadata": {
        "id": "8RWHd-TLJkVp",
        "colab_type": "code",
        "outputId": "59d8202d-387f-495b-fa64-cd67d8dc4173",
        "colab": {
          "base_uri": "https://localhost:8080/",
          "height": 430
        }
      },
      "source": [
        "fig = plt.figure(figsize=(20, 7))\n",
        "plt.title(\"Beijing Polution Prediction - RNN\", fontsize=18)\n",
        "plt.ylabel('Polution')\n",
        "plt.xlabel('Num data')\n",
        "plt.grid(True)\n",
        "plt.autoscale(axis='x', tight=True)\n",
        "fig.autofmt_xdate()\n",
        "plt.plot(test_y, label=\"Real\")\n",
        "plt.plot(res.detach().numpy(), label=\"Prediction\")\n",
        "plt.legend()\n",
        "plt.show()"
      ],
      "execution_count": 14,
      "outputs": [
        {
          "output_type": "display_data",
          "data": {
            "image/png": "[encoded data removed]",
            "text/plain": [
              "<Figure size 1440x504 with 1 Axes>"
            ]
          },
          "metadata": {
            "tags": [],
            "needs_background": "light"
          }
        }
      ]
    },
    {
      "cell_type": "code",
      "metadata": {
        "id": "EdVj6XlI5Guj",
        "colab_type": "code",
        "colab": {}
      },
      "source": [
        "# split a multivariate sequence into samples\n",
        "def split_sequences12(sequences, n_steps, n_samples=12000, start_from=0):\n",
        "    X, y = list(), list()\n",
        "    j = 0\n",
        "    for i in range(start_from, (start_from + n_samples)):\n",
        "        # find the end of this pattern\n",
        "        end_ix = j*12 + n_steps + start_from\n",
        "        # check if we are beyond the dataset\n",
        "        # gather input and output parts of the pattern\n",
        "        j = j + 1\n",
        "        seq_x = sequences[end_ix-11:end_ix, :]\n",
        "        seq_y = sequences[end_ix, 0]\n",
        "        y.append(seq_y)\n",
        "        X.append(seq_x)\n",
        "    print(\"End :=> \", end_ix)\n",
        "    return array(X), array(y)"
      ],
      "execution_count": 0,
      "outputs": []
    }
  ]
}