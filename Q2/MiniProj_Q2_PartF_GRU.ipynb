{
  "nbformat": 4,
  "nbformat_minor": 0,
  "metadata": {
    "colab": {
      "name": "MiniProj_Q2_PartF_GRU.ipynb",
      "provenance": [],
      "collapsed_sections": []
    },
    "kernelspec": {
      "name": "python3",
      "display_name": "Python 3"
    }
  },
  "cells": [
    {
      "cell_type": "code",
      "metadata": {
        "id": "PcJDApDcK0O9",
        "colab_type": "code",
        "outputId": "51cdc484-c8bf-4ff0-ae4a-3ed21f2dcb83",
        "colab": {
          "base_uri": "https://localhost:8080/",
          "height": 34
        }
      },
      "source": [
        "!git clone https://github.com/parhamzm/Beijing-Pollution-DataSet"
      ],
      "execution_count": 1,
      "outputs": [
        {
          "output_type": "stream",
          "text": [
            "fatal: destination path 'Beijing-Pollution-DataSet' already exists and is not an empty directory.\n"
          ],
          "name": "stdout"
        }
      ]
    },
    {
      "cell_type": "code",
      "metadata": {
        "id": "0-KcI9tFLGXP",
        "colab_type": "code",
        "outputId": "26a01ea3-0c87-430c-c6c7-0e8b3a047c62",
        "colab": {
          "base_uri": "https://localhost:8080/",
          "height": 34
        }
      },
      "source": [
        "!ls Beijing-Pollution-DataSet"
      ],
      "execution_count": 2,
      "outputs": [
        {
          "output_type": "stream",
          "text": [
            "pollution.csv  polution_dataSet.npy  README.md\n"
          ],
          "name": "stdout"
        }
      ]
    },
    {
      "cell_type": "code",
      "metadata": {
        "id": "9NuzKJEnLNyx",
        "colab_type": "code",
        "colab": {}
      },
      "source": [
        "import torch\n",
        "import torchvision\n",
        "import torch.nn as nn\n",
        "from torchvision import transforms\n",
        "import pandas as pd\n",
        "\n",
        "import matplotlib.pyplot as plt\n",
        "import numpy as np\n",
        "\n",
        "from torch.utils.data import random_split\n",
        "\n",
        "from math import sqrt\n",
        "from numpy import concatenate\n",
        "from matplotlib import pyplot\n",
        "from pandas import read_csv\n",
        "from pandas import DataFrame\n",
        "from pandas import concat\n",
        "from sklearn.preprocessing import MinMaxScaler\n",
        "from sklearn.preprocessing import LabelEncoder\n",
        "from sklearn.metrics import mean_squared_error\n",
        "\n",
        "from numpy import array\n",
        "from numpy import hstack"
      ],
      "execution_count": 0,
      "outputs": []
    },
    {
      "cell_type": "markdown",
      "metadata": {
        "id": "Q_0pmTGAHWmf",
        "colab_type": "text"
      },
      "source": [
        "# **Data Pre Processing**"
      ]
    },
    {
      "cell_type": "code",
      "metadata": {
        "id": "GjcwsJBc9eIG",
        "colab_type": "code",
        "colab": {}
      },
      "source": [
        "DATA_DIR = \"Beijing-Pollution-DataSet/\"\n",
        "from pandas import read_csv\n",
        "from datetime import datetime\n",
        "from random import randint\n",
        "import random\n",
        "\n",
        "def select_random_rows(seq_start=0, seq_end=12000, rand_percent=20):\n",
        "    rand_num = int((20*(seq_end-seq_start))/100)\n",
        "    rand_gen = random.sample(range(seq_start, seq_end), rand_num)\n",
        "    return rand_gen\n",
        "\n",
        "def apply_nan(sequence, seq_start=0, seq_end=12000, rand_percent=20):\n",
        "    for i in range(0, 8):\n",
        "        rand_r = select_random_rows(seq_start=seq_start, seq_end=seq_end, rand_percent=rand_percent)\n",
        "        np.put(sequence[seq_start:seq_end, i], rand_r, np.nan)\n",
        "    return sequence\n",
        "\n",
        "# split a multivariate sequence into samples\n",
        "def split_sequences(sequences, n_steps=11, n_samples=12000, start_from=0):\n",
        "\tX, y = list(), list()\n",
        "\tfor i in range(start_from, (start_from + n_samples)):\n",
        "        # find the end of this pattern\n",
        "\t\tend_ix = i + n_steps\n",
        "        # check if we are beyond the dataset\n",
        "        # gather input and output parts of the pattern\n",
        "\t\tseq_x = sequences[i:end_ix, :]\n",
        "\t\tseq_y = sequences[end_ix, 0]\n",
        "\t\ty.append(seq_y)\n",
        "\t\tX.append(seq_x)\n",
        "  \n",
        "\treturn array(X), array(y)\n",
        "\n",
        "\n",
        "data = np.load(DATA_DIR + 'polution_dataSet.npy')\n",
        "scaled_data = data\n",
        "n_timesteps = 11\n",
        "xxx, train_y = split_sequences(sequences=scaled_data, n_steps=n_timesteps, n_samples=15000, start_from=0)\n",
        "\n",
        "xxx, test_y = split_sequences(sequences=scaled_data, n_steps=n_timesteps, n_samples=3000, start_from=15000)\n",
        "data1 = np.load(DATA_DIR + 'polution_dataSet.npy')\n",
        "\n",
        "# specify the number of lag hours\n",
        "n_timesteps = 11\n",
        "n_features = 8\n",
        "\n",
        "\n",
        "n = apply_nan(data, seq_start=0, seq_end=21000, rand_percent=20)"
      ],
      "execution_count": 0,
      "outputs": []
    },
    {
      "cell_type": "code",
      "metadata": {
        "id": "ayZM_t0NOvKc",
        "colab_type": "code",
        "outputId": "690f02e3-ebef-4a3a-9db1-1eae3cb9d31a",
        "colab": {
          "base_uri": "https://localhost:8080/",
          "height": 51
        }
      },
      "source": [
        "# example of evaluating a model after an imputer transform\n",
        "from numpy import nan\n",
        "from pandas import read_csv\n",
        "from sklearn.pipeline import Pipeline\n",
        "from sklearn.impute import SimpleImputer\n",
        "from sklearn.discriminant_analysis import LinearDiscriminantAnalysis\n",
        "from sklearn.model_selection import KFold\n",
        "from sklearn.model_selection import cross_val_score\n",
        "from sklearn.ensemble import RandomForestRegressor\n",
        "from sklearn.ensemble import RandomForestClassifier\n",
        "\n",
        "import numpy.ma as ma\n",
        "data = np.where(np.isnan(data), ma.array(data, mask=np.isnan(data)).mean(axis=0), data)\n",
        "\n",
        "\n",
        "occurrences = np.count_nonzero(np.isnan(data1[:, :]))\n",
        "print(\"Number of Nan in Dataset : => \", occurrences)\n",
        "\n",
        "dataset = data\n",
        "print(data.shape)\n",
        "train_X, train_y1 = split_sequences(sequences=dataset, n_steps=n_timesteps, n_samples=15000, start_from=0)\n",
        "# train_y = train_y.reshape(len(train_y), 1)\n",
        "test_X, test_y1 = split_sequences(sequences=dataset, n_steps=n_timesteps, n_samples=3000, start_from=15000)"
      ],
      "execution_count": 5,
      "outputs": [
        {
          "output_type": "stream",
          "text": [
            "Number of Nan in Dataset : =>  0\n",
            "(43799, 8)\n"
          ],
          "name": "stdout"
        }
      ]
    },
    {
      "cell_type": "code",
      "metadata": {
        "id": "UAsDIxzPPGVN",
        "colab_type": "code",
        "colab": {}
      },
      "source": [
        "class GRU(torch.nn.Module):\n",
        "    def __init__(self, n_features=8, n_output=1, seq_length=11, n_hidden_layers=233, n_layers=1):\n",
        "        super(GRU, self).__init__()\n",
        "        self.n_features = n_features\n",
        "        self.seq_len = seq_length\n",
        "        self.n_output = n_output\n",
        "\n",
        "        self.n_hidden = n_hidden_layers # number of hidden states\n",
        "        self.n_layers = n_layers # number of LSTM layers (stacked)\n",
        "        \n",
        "        # define RNN with specified parameters\n",
        "        # bath_first means that the first dim of the input and output will be the batch_size\n",
        "        self.rnn = nn.GRU(input_size=self.n_features,\n",
        "                          hidden_size=self.n_hidden,\n",
        "                          num_layers=self.n_layers,\n",
        "                          batch_first=True)\n",
        "        \n",
        "        # last, fully connected layer\n",
        "        self.l_linear = torch.nn.Linear(self.n_hidden*self.seq_len, self.n_output)\n",
        "\n",
        "    def forward(self, x, hidden):\n",
        "        # hidden_state = torch.zeros(self.n_layers, x.size(0), self.n_hidden).requires_grad_()\n",
        "        # cell_state = torch.zeros(self.n_layers, x.size(0), self.n_hidden).requires_grad_()\n",
        "        batch_size = x.size(0)\n",
        "\n",
        "        rnn_out, hidden = self.rnn(x, hidden)\n",
        "        rnn_out = rnn_out.contiguous().view(batch_size, -1)\n",
        "\n",
        "        # lstm_out(with batch_first = True) is \n",
        "        # (batch_size,seq_len,num_directions * hidden_size)\n",
        "        # for following linear layer we want to keep batch_size dimension and merge rest       \n",
        "        # .contiguous() -> solves tensor compatibility error\n",
        "        out = self.l_linear(rnn_out)\n",
        "        return out, hidden"
      ],
      "execution_count": 0,
      "outputs": []
    },
    {
      "cell_type": "code",
      "metadata": {
        "id": "cbF0d34NHn4r",
        "colab_type": "code",
        "colab": {}
      },
      "source": [
        "torch.manual_seed(13)\n",
        "model = GRU(n_features=8, n_output=1, seq_length=11, n_hidden_layers=233, n_layers=1)\n",
        "criterion = nn.MSELoss()\n",
        "optimizer = torch.optim.Adam(model.parameters(), lr=0.0003)"
      ],
      "execution_count": 0,
      "outputs": []
    },
    {
      "cell_type": "code",
      "metadata": {
        "id": "XKIuZPkSH_eL",
        "colab_type": "code",
        "colab": {
          "base_uri": "https://localhost:8080/",
          "height": 1000
        },
        "outputId": "05178d95-0e96-46b2-889e-be635e976f84"
      },
      "source": [
        "import time\n",
        "start_time = time.time()\n",
        "hidden = None\n",
        "hidden_test = None\n",
        "# train_X, train_y\n",
        "epochs = 100\n",
        "model.train()\n",
        "batch_size = 200\n",
        "running_loss_history = []\n",
        "val_running_loss_history = []\n",
        "for epoch in range(epochs):\n",
        "    running_loss = 0.0\n",
        "    val_running_loss = 0.0\n",
        "    model.train()\n",
        "    for b in range(0, len(train_X), batch_size):\n",
        "        inpt = train_X[b:b+batch_size, :, :]\n",
        "        target = train_y[b:b+batch_size]\n",
        "\n",
        "        # print(\"Input Shape :=> \", inpt.shape)\n",
        "\n",
        "        x_batch = torch.tensor(inpt, dtype=torch.float32)    \n",
        "        y_batch = torch.tensor(target, dtype=torch.float32)\n",
        "\n",
        "        output, hidden = model(x_batch, hidden)\n",
        "\n",
        "        hidden = hidden.data\n",
        "        loss = criterion(output.view(-1), y_batch)\n",
        "\n",
        "        running_loss += loss.item()\n",
        "\n",
        "        loss.backward()\n",
        "        optimizer.step()        \n",
        "        optimizer.zero_grad() \n",
        "\n",
        "    else:\n",
        "        \n",
        "        with torch.no_grad(): # it will temprerorerly set all the required grad flags to be false\n",
        "            model.eval()\n",
        "            for b in range(0, len(test_X), batch_size):\n",
        "                inpt = test_X[b:b+batch_size, :, :]\n",
        "                target = test_y[b:b+batch_size]   \n",
        "\n",
        "                x_batch_test = torch.tensor(inpt, dtype=torch.float32)\n",
        "                y_batch_test = torch.tensor(target, dtype=torch.float32)\n",
        "\n",
        "                # model.init_hidden(x_batch_test.size(0))\n",
        "\n",
        "                output_test, hidden_test = model(x_batch_test, hidden_test)\n",
        "\n",
        "                hidden_test = hidden_test.data\n",
        "                loss_test = criterion(output_test.view(-1), y_batch_test)\n",
        "\n",
        "                val_running_loss += loss_test.item()\n",
        "\n",
        "    val_epoch_loss = val_running_loss / len(test_X)\n",
        "    val_running_loss_history.append(val_epoch_loss)\n",
        "    epoch_loss = running_loss / len(train_X)\n",
        "    running_loss_history.append(epoch_loss)\n",
        "    print('step : ' , epoch , ' Train loss : ' , epoch_loss, ', Valid Loss : => ', val_epoch_loss)\n",
        "    print(\"***->>>-----------------------------------------------<<<-***\")\n",
        "\n",
        "\n",
        "\n",
        "total_time = time.time() - start_time\n",
        "print(\"===========================================================\")\n",
        "print(\"*********************************************************\")\n",
        "print(\"The total Training Time is Equal with ==> : {0} Sec.\".format(total_time))\n",
        "print(\"*********************************************************\")\n",
        "print(\"===========================================================\")"
      ],
      "execution_count": 8,
      "outputs": [
        {
          "output_type": "stream",
          "text": [
            "step :  0  Train loss :  3.324034200826039e-05 , Valid Loss : =>  7.925129293774565e-05\n",
            "***->>>-----------------------------------------------<<<-***\n",
            "step :  1  Train loss :  2.3834512270210933e-05 , Valid Loss : =>  8.588926711430152e-05\n",
            "***->>>-----------------------------------------------<<<-***\n",
            "step :  2  Train loss :  2.440852333093062e-05 , Valid Loss : =>  8.926124311983585e-05\n",
            "***->>>-----------------------------------------------<<<-***\n",
            "step :  3  Train loss :  2.481215700584774e-05 , Valid Loss : =>  7.135632665206988e-05\n",
            "***->>>-----------------------------------------------<<<-***\n",
            "step :  4  Train loss :  2.2777253168169407e-05 , Valid Loss : =>  8.587889885529875e-05\n",
            "***->>>-----------------------------------------------<<<-***\n",
            "step :  5  Train loss :  2.4918310379143805e-05 , Valid Loss : =>  7.356523256748914e-05\n",
            "***->>>-----------------------------------------------<<<-***\n",
            "step :  6  Train loss :  2.3549678176641463e-05 , Valid Loss : =>  7.076206772277752e-05\n",
            "***->>>-----------------------------------------------<<<-***\n",
            "step :  7  Train loss :  2.1439296201181908e-05 , Valid Loss : =>  6.340420401344697e-05\n",
            "***->>>-----------------------------------------------<<<-***\n",
            "step :  8  Train loss :  1.6763191076461225e-05 , Valid Loss : =>  2.1097763053451975e-05\n",
            "***->>>-----------------------------------------------<<<-***\n",
            "step :  9  Train loss :  1.0533062908022354e-05 , Valid Loss : =>  1.715550389296065e-05\n",
            "***->>>-----------------------------------------------<<<-***\n",
            "step :  10  Train loss :  9.549699508352205e-06 , Valid Loss : =>  1.5704072817849617e-05\n",
            "***->>>-----------------------------------------------<<<-***\n",
            "step :  11  Train loss :  9.071943518938497e-06 , Valid Loss : =>  1.5121882664971053e-05\n",
            "***->>>-----------------------------------------------<<<-***\n",
            "step :  12  Train loss :  8.757793511419246e-06 , Valid Loss : =>  1.5012924714634815e-05\n",
            "***->>>-----------------------------------------------<<<-***\n",
            "step :  13  Train loss :  8.55268761709643e-06 , Valid Loss : =>  1.5349528829877575e-05\n",
            "***->>>-----------------------------------------------<<<-***\n",
            "step :  14  Train loss :  8.458939423629393e-06 , Valid Loss : =>  1.619043954027196e-05\n",
            "***->>>-----------------------------------------------<<<-***\n",
            "step :  15  Train loss :  8.492818292385587e-06 , Valid Loss : =>  1.7566615676817794e-05\n",
            "***->>>-----------------------------------------------<<<-***\n",
            "step :  16  Train loss :  8.66988479392603e-06 , Valid Loss : =>  1.939310987169544e-05\n",
            "***->>>-----------------------------------------------<<<-***\n",
            "step :  17  Train loss :  8.971143269445747e-06 , Valid Loss : =>  2.140073955524713e-05\n",
            "***->>>-----------------------------------------------<<<-***\n",
            "step :  18  Train loss :  9.320437473555407e-06 , Valid Loss : =>  2.3160226953526337e-05\n",
            "***->>>-----------------------------------------------<<<-***\n",
            "step :  19  Train loss :  9.61433642078191e-06 , Valid Loss : =>  2.4233618945193787e-05\n",
            "***->>>-----------------------------------------------<<<-***\n",
            "step :  20  Train loss :  9.75644145704185e-06 , Valid Loss : =>  2.4167312774807215e-05\n",
            "***->>>-----------------------------------------------<<<-***\n",
            "step :  21  Train loss :  9.663509530946612e-06 , Valid Loss : =>  2.2689343934568267e-05\n",
            "***->>>-----------------------------------------------<<<-***\n",
            "step :  22  Train loss :  9.318131825421006e-06 , Valid Loss : =>  2.009960566647351e-05\n",
            "***->>>-----------------------------------------------<<<-***\n",
            "step :  23  Train loss :  8.824411977548153e-06 , Valid Loss : =>  1.7349306222361822e-05\n",
            "***->>>-----------------------------------------------<<<-***\n",
            "step :  24  Train loss :  8.363319048658013e-06 , Valid Loss : =>  1.5342018877466518e-05\n",
            "***->>>-----------------------------------------------<<<-***\n",
            "step :  25  Train loss :  8.0536537260438e-06 , Valid Loss : =>  1.4320741679208973e-05\n",
            "***->>>-----------------------------------------------<<<-***\n",
            "step :  26  Train loss :  7.895155899071445e-06 , Valid Loss : =>  1.4046911499463023e-05\n",
            "***->>>-----------------------------------------------<<<-***\n",
            "step :  27  Train loss :  7.836423391321052e-06 , Valid Loss : =>  1.4282300136983395e-05\n",
            "***->>>-----------------------------------------------<<<-***\n",
            "step :  28  Train loss :  7.84872987618049e-06 , Valid Loss : =>  1.4935523155145347e-05\n",
            "***->>>-----------------------------------------------<<<-***\n",
            "step :  29  Train loss :  7.930714640921603e-06 , Valid Loss : =>  1.5957368964639802e-05\n",
            "***->>>-----------------------------------------------<<<-***\n",
            "step :  30  Train loss :  8.081559627316892e-06 , Valid Loss : =>  1.7208318264844518e-05\n",
            "***->>>-----------------------------------------------<<<-***\n",
            "step :  31  Train loss :  8.277378293375173e-06 , Valid Loss : =>  1.8397191228965917e-05\n",
            "***->>>-----------------------------------------------<<<-***\n",
            "step :  32  Train loss :  8.465750010994573e-06 , Valid Loss : =>  1.9199208860906462e-05\n",
            "***->>>-----------------------------------------------<<<-***\n",
            "step :  33  Train loss :  8.590406749863177e-06 , Valid Loss : =>  1.9473848243554432e-05\n",
            "***->>>-----------------------------------------------<<<-***\n",
            "step :  34  Train loss :  8.625965522757421e-06 , Valid Loss : =>  1.9279621386279663e-05\n",
            "***->>>-----------------------------------------------<<<-***\n",
            "step :  35  Train loss :  8.581143411962937e-06 , Valid Loss : =>  1.8744861474260687e-05\n",
            "***->>>-----------------------------------------------<<<-***\n",
            "step :  36  Train loss :  8.478985913097858e-06 , Valid Loss : =>  1.801429157300542e-05\n",
            "***->>>-----------------------------------------------<<<-***\n",
            "step :  37  Train loss :  8.346944651566446e-06 , Valid Loss : =>  1.724579685833305e-05\n",
            "***->>>-----------------------------------------------<<<-***\n",
            "step :  38  Train loss :  8.21313400908063e-06 , Valid Loss : =>  1.658012446326514e-05\n",
            "***->>>-----------------------------------------------<<<-***\n",
            "step :  39  Train loss :  8.099578406351308e-06 , Valid Loss : =>  1.6105088754557075e-05\n",
            "***->>>-----------------------------------------------<<<-***\n",
            "step :  40  Train loss :  8.017643172449122e-06 , Valid Loss : =>  1.5848225331865252e-05\n",
            "***->>>-----------------------------------------------<<<-***\n",
            "step :  41  Train loss :  7.969123070749144e-06 , Valid Loss : =>  1.579049675880621e-05\n",
            "***->>>-----------------------------------------------<<<-***\n",
            "step :  42  Train loss :  7.949747544868539e-06 , Valid Loss : =>  1.588294697770228e-05\n",
            "***->>>-----------------------------------------------<<<-***\n",
            "step :  43  Train loss :  7.951812151198586e-06 , Valid Loss : =>  1.6058788207980494e-05\n",
            "***->>>-----------------------------------------------<<<-***\n",
            "step :  44  Train loss :  7.9654578352347e-06 , Valid Loss : =>  1.6246011364273726e-05\n",
            "***->>>-----------------------------------------------<<<-***\n",
            "step :  45  Train loss :  7.980203019299854e-06 , Valid Loss : =>  1.6386575531214475e-05\n",
            "***->>>-----------------------------------------------<<<-***\n",
            "step :  46  Train loss :  7.987800027088573e-06 , Valid Loss : =>  1.6454774614733954e-05\n",
            "***->>>-----------------------------------------------<<<-***\n",
            "step :  47  Train loss :  7.98494698634992e-06 , Valid Loss : =>  1.6460033133625985e-05\n",
            "***->>>-----------------------------------------------<<<-***\n",
            "step :  48  Train loss :  7.973426782215635e-06 , Valid Loss : =>  1.643213730615874e-05\n",
            "***->>>-----------------------------------------------<<<-***\n",
            "step :  49  Train loss :  7.957666243116061e-06 , Valid Loss : =>  1.6402145149186253e-05\n",
            "***->>>-----------------------------------------------<<<-***\n",
            "step :  50  Train loss :  7.941947989941886e-06 , Valid Loss : =>  1.639076473657042e-05\n",
            "***->>>-----------------------------------------------<<<-***\n",
            "step :  51  Train loss :  7.928944530431181e-06 , Valid Loss : =>  1.6406319259355465e-05\n",
            "***->>>-----------------------------------------------<<<-***\n",
            "step :  52  Train loss :  7.919622771441936e-06 , Valid Loss : =>  1.6448600178894897e-05\n",
            "***->>>-----------------------------------------------<<<-***\n",
            "step :  53  Train loss :  7.913871326794226e-06 , Valid Loss : =>  1.6514609179769954e-05\n",
            "***->>>-----------------------------------------------<<<-***\n",
            "step :  54  Train loss :  7.911304691030333e-06 , Valid Loss : =>  1.6603556112386287e-05\n",
            "***->>>-----------------------------------------------<<<-***\n",
            "step :  55  Train loss :  7.91191355092451e-06 , Valid Loss : =>  1.6719189511301617e-05\n",
            "***->>>-----------------------------------------------<<<-***\n",
            "step :  56  Train loss :  7.916387515918663e-06 , Valid Loss : =>  1.6868327007008096e-05\n",
            "***->>>-----------------------------------------------<<<-***\n",
            "step :  57  Train loss :  7.92629033482323e-06 , Valid Loss : =>  1.7052853014320134e-05\n",
            "***->>>-----------------------------------------------<<<-***\n",
            "step :  58  Train loss :  7.944797755529483e-06 , Valid Loss : =>  1.7254014072629314e-05\n",
            "***->>>-----------------------------------------------<<<-***\n",
            "step :  59  Train loss :  7.977810164447873e-06 , Valid Loss : =>  1.7495331082803508e-05\n",
            "***->>>-----------------------------------------------<<<-***\n",
            "step :  60  Train loss :  8.03696734753127e-06 , Valid Loss : =>  1.795276824850589e-05\n",
            "***->>>-----------------------------------------------<<<-***\n",
            "step :  61  Train loss :  8.130943519063294e-06 , Valid Loss : =>  1.7972657146553197e-05\n",
            "***->>>-----------------------------------------------<<<-***\n",
            "step :  62  Train loss :  8.126089046709239e-06 , Valid Loss : =>  1.8664689812188347e-05\n",
            "***->>>-----------------------------------------------<<<-***\n",
            "step :  63  Train loss :  8.089894459893307e-06 , Valid Loss : =>  1.8330879975110292e-05\n",
            "***->>>-----------------------------------------------<<<-***\n",
            "step :  64  Train loss :  8.029831301731368e-06 , Valid Loss : =>  1.9060455379076302e-05\n",
            "***->>>-----------------------------------------------<<<-***\n",
            "step :  65  Train loss :  8.051480803017815e-06 , Valid Loss : =>  2.0893869067852694e-05\n",
            "***->>>-----------------------------------------------<<<-***\n",
            "step :  66  Train loss :  8.086945093236864e-06 , Valid Loss : =>  2.3945270765883227e-05\n",
            "***->>>-----------------------------------------------<<<-***\n",
            "step :  67  Train loss :  8.341554686194287e-06 , Valid Loss : =>  2.312024934993436e-05\n",
            "***->>>-----------------------------------------------<<<-***\n",
            "step :  68  Train loss :  8.509984057551872e-06 , Valid Loss : =>  2.097252729193618e-05\n",
            "***->>>-----------------------------------------------<<<-***\n",
            "step :  69  Train loss :  8.60872824753945e-06 , Valid Loss : =>  2.099709127408763e-05\n",
            "***->>>-----------------------------------------------<<<-***\n",
            "step :  70  Train loss :  8.62665088304008e-06 , Valid Loss : =>  2.0106723726106188e-05\n",
            "***->>>-----------------------------------------------<<<-***\n",
            "step :  71  Train loss :  8.349530674361934e-06 , Valid Loss : =>  1.8704000239570935e-05\n",
            "***->>>-----------------------------------------------<<<-***\n",
            "step :  72  Train loss :  8.125010392783831e-06 , Valid Loss : =>  1.8220205907709897e-05\n",
            "***->>>-----------------------------------------------<<<-***\n",
            "step :  73  Train loss :  8.062820311170072e-06 , Valid Loss : =>  1.8919880075069766e-05\n",
            "***->>>-----------------------------------------------<<<-***\n",
            "step :  74  Train loss :  8.095091724923502e-06 , Valid Loss : =>  1.9482689638001224e-05\n",
            "***->>>-----------------------------------------------<<<-***\n",
            "step :  75  Train loss :  8.122020994778723e-06 , Valid Loss : =>  1.9885621460465093e-05\n",
            "***->>>-----------------------------------------------<<<-***\n",
            "step :  76  Train loss :  8.134635013993829e-06 , Valid Loss : =>  2.056048915255815e-05\n",
            "***->>>-----------------------------------------------<<<-***\n",
            "step :  77  Train loss :  8.199511274384956e-06 , Valid Loss : =>  2.0784846545817952e-05\n",
            "***->>>-----------------------------------------------<<<-***\n",
            "step :  78  Train loss :  8.235558801485846e-06 , Valid Loss : =>  2.0808477886021138e-05\n",
            "***->>>-----------------------------------------------<<<-***\n",
            "step :  79  Train loss :  8.354979590512812e-06 , Valid Loss : =>  1.9384062034077944e-05\n",
            "***->>>-----------------------------------------------<<<-***\n",
            "step :  80  Train loss :  8.195881289429962e-06 , Valid Loss : =>  1.7400541226379573e-05\n",
            "***->>>-----------------------------------------------<<<-***\n",
            "step :  81  Train loss :  7.955010914398978e-06 , Valid Loss : =>  1.851926379216214e-05\n",
            "***->>>-----------------------------------------------<<<-***\n",
            "step :  82  Train loss :  8.010318068166573e-06 , Valid Loss : =>  2.1409488166682422e-05\n",
            "***->>>-----------------------------------------------<<<-***\n",
            "step :  83  Train loss :  8.312067203223705e-06 , Valid Loss : =>  2.065350483947744e-05\n",
            "***->>>-----------------------------------------------<<<-***\n",
            "step :  84  Train loss :  8.283672206259023e-06 , Valid Loss : =>  2.0401849372622867e-05\n",
            "***->>>-----------------------------------------------<<<-***\n",
            "step :  85  Train loss :  8.238997659645975e-06 , Valid Loss : =>  1.8050477645980814e-05\n",
            "***->>>-----------------------------------------------<<<-***\n",
            "step :  86  Train loss :  7.975257529566685e-06 , Valid Loss : =>  1.8234679747062425e-05\n",
            "***->>>-----------------------------------------------<<<-***\n",
            "step :  87  Train loss :  7.940281504609933e-06 , Valid Loss : =>  1.8949691012191275e-05\n",
            "***->>>-----------------------------------------------<<<-***\n",
            "step :  88  Train loss :  7.994983209452282e-06 , Valid Loss : =>  1.8807877165575822e-05\n",
            "***->>>-----------------------------------------------<<<-***\n",
            "step :  89  Train loss :  7.96332941778625e-06 , Valid Loss : =>  1.89716302168866e-05\n",
            "***->>>-----------------------------------------------<<<-***\n",
            "step :  90  Train loss :  7.95292635448277e-06 , Valid Loss : =>  2.081059959406654e-05\n",
            "***->>>-----------------------------------------------<<<-***\n",
            "step :  91  Train loss :  8.09364370458449e-06 , Valid Loss : =>  2.430968937308838e-05\n",
            "***->>>-----------------------------------------------<<<-***\n",
            "step :  92  Train loss :  8.190904355918368e-06 , Valid Loss : =>  2.7292484145921967e-05\n",
            "***->>>-----------------------------------------------<<<-***\n",
            "step :  93  Train loss :  8.475713311539343e-06 , Valid Loss : =>  2.7161414579798778e-05\n",
            "***->>>-----------------------------------------------<<<-***\n",
            "step :  94  Train loss :  8.58205083059147e-06 , Valid Loss : =>  2.4116553521404663e-05\n",
            "***->>>-----------------------------------------------<<<-***\n",
            "step :  95  Train loss :  8.60022590495646e-06 , Valid Loss : =>  2.1949905203655362e-05\n",
            "***->>>-----------------------------------------------<<<-***\n",
            "step :  96  Train loss :  8.594769119129827e-06 , Valid Loss : =>  2.0418477904361982e-05\n",
            "***->>>-----------------------------------------------<<<-***\n",
            "step :  97  Train loss :  8.344979774362098e-06 , Valid Loss : =>  1.7901985828454297e-05\n",
            "***->>>-----------------------------------------------<<<-***\n",
            "step :  98  Train loss :  8.12098642733569e-06 , Valid Loss : =>  2.0275041189355154e-05\n",
            "***->>>-----------------------------------------------<<<-***\n",
            "step :  99  Train loss :  8.187502964089314e-06 , Valid Loss : =>  2.1726982396406433e-05\n",
            "***->>>-----------------------------------------------<<<-***\n",
            "===========================================================\n",
            "*********************************************************\n",
            "The total Training Time is Equal with ==> : 547.3195297718048 Sec.\n",
            "*********************************************************\n",
            "===========================================================\n"
          ],
          "name": "stdout"
        }
      ]
    },
    {
      "cell_type": "code",
      "metadata": {
        "id": "1dnaR4PzIEWi",
        "colab_type": "code",
        "colab": {
          "base_uri": "https://localhost:8080/",
          "height": 354
        },
        "outputId": "919cdca4-9132-4242-fd58-a1c94ac32cc1"
      },
      "source": [
        "f, ax = plt.subplots(1, 1, figsize=(7, 5))\n",
        "plt.title(\"Valid & Test Loss - GRU\", fontsize=18)\n",
        "plt.xlabel(\"Epoch\")\n",
        "plt.ylabel(\"Loss\")\n",
        "plt.plot(running_loss_history, label='train')\n",
        "plt.plot(val_running_loss_history, label='test')\n",
        "# pyplot.plot(history.history['val_loss'], label='test')\n",
        "plt.legend()\n",
        "plt.show()"
      ],
      "execution_count": 9,
      "outputs": [
        {
          "output_type": "display_data",
          "data": {
            "image/png": "[encoded data removed]",
            "text/plain": [
              "<Figure size 504x360 with 1 Axes>"
            ]
          },
          "metadata": {
            "tags": [],
            "needs_background": "light"
          }
        }
      ]
    },
    {
      "cell_type": "code",
      "metadata": {
        "id": "6fXNuF8JKy32",
        "colab_type": "code",
        "colab": {}
      },
      "source": [
        "x, y1 = split_sequences(dataset, n_timesteps, n_samples=100, start_from=20500)\n",
        "x1, y = split_sequences(data1, n_timesteps, n_samples=100, start_from=20500)\n",
        "future = 100\n",
        "window_size = 11\n",
        "# preds = dataset[14989:15000, :].tolist()\n",
        "# print(len(preds))\n",
        "# print(preds)\n",
        "model.eval()\n",
        "x = torch.tensor(x, dtype=torch.float32)\n",
        "# for i in range (future):\n",
        "\n",
        "res, hid = model(x, None)\n",
        "# print(preds[11:])"
      ],
      "execution_count": 0,
      "outputs": []
    },
    {
      "cell_type": "code",
      "metadata": {
        "id": "1OMwPslULpB8",
        "colab_type": "code",
        "colab": {
          "base_uri": "https://localhost:8080/",
          "height": 430
        },
        "outputId": "4fd9bc95-6405-4829-c043-b3a2693e8d39"
      },
      "source": [
        "fig = plt.figure(figsize=(20, 7))\n",
        "plt.title(\"Beijing Polution Prediction - GRU\", fontsize=18)\n",
        "plt.ylabel('Polution')\n",
        "plt.xlabel('Num data')\n",
        "plt.grid(True)\n",
        "plt.autoscale(axis='x', tight=True)\n",
        "fig.autofmt_xdate()\n",
        "\n",
        "# plt.plot(data[15000:15100, 0])\n",
        "plt.plot(y, label=\"Real\")\n",
        "# plt.plot(preds[12:])\n",
        "# print(res.shape)\n",
        "plt.plot(res.detach().numpy(), label=\"Prediction\")\n",
        "plt.legend()\n",
        "plt.show()"
      ],
      "execution_count": 14,
      "outputs": [
        {
          "output_type": "display_data",
          "data": {
            "image/png": "[encoded data removed]",
            "text/plain": [
              "<Figure size 1440x504 with 1 Axes>"
            ]
          },
          "metadata": {
            "tags": [],
            "needs_background": "light"
          }
        }
      ]
    },
    {
      "cell_type": "code",
      "metadata": {
        "id": "Pa6J-5GKLrIK",
        "colab_type": "code",
        "colab": {
          "base_uri": "https://localhost:8080/",
          "height": 136
        },
        "outputId": "2470dbb5-710d-4285-a76f-f0876930b179"
      },
      "source": [
        "test_x, test_y1 = split_sequences(data, n_timesteps, n_samples=3000, start_from=18000)\n",
        "test_x1, test_y = split_sequences(data1, n_timesteps, n_samples=3000, start_from=18000)\n",
        "\n",
        "model.eval()\n",
        "\n",
        "test_running_loss = 0\n",
        "with torch.no_grad(): # it will temprerorerly set all the required grad flags to be false\n",
        "    model.eval()\n",
        "    for b in range(0, len(test_x), batch_size):\n",
        "        inpt = test_x[b:b+batch_size, :, :]\n",
        "        target = test_y[b:b+batch_size]   \n",
        "\n",
        "        x_batch_test = torch.tensor(inpt, dtype=torch.float32)\n",
        "        y_batch_test = torch.tensor(target, dtype=torch.float32)\n",
        "\n",
        "        # model.init_hidden(x_batch_test.size(0))\n",
        "\n",
        "        output_test, hidden_test = model(x_batch_test, hidden_test)\n",
        "\n",
        "        hidden_test = hidden_test.data\n",
        "        loss_test = criterion(output_test.view(-1), y_batch_test)\n",
        "\n",
        "        test_running_loss += loss_test.item()\n",
        "\n",
        "    test_epoch_loss = test_running_loss / len(test_x)\n",
        "\n",
        "print(\"##########################################################\")\n",
        "print(\">>>>---------------------------------------------------<<<<\")\n",
        "print(\">>>>----------***************************--------------<<<<\")\n",
        "print(\"**** Test Loss :==>>> \", test_epoch_loss)\n",
        "print(\">>>>----------***************************--------------<<<<\")\n",
        "print(\">>>>---------------------------------------------------<<<<\")\n",
        "print(\"##########################################################\")"
      ],
      "execution_count": 15,
      "outputs": [
        {
          "output_type": "stream",
          "text": [
            "##########################################################\n",
            ">>>>---------------------------------------------------<<<<\n",
            ">>>>----------***************************--------------<<<<\n",
            "**** Test Loss :==>>>  1.5681098331697285e-05\n",
            ">>>>----------***************************--------------<<<<\n",
            ">>>>---------------------------------------------------<<<<\n",
            "##########################################################\n"
          ],
          "name": "stdout"
        }
      ]
    },
    {
      "cell_type": "code",
      "metadata": {
        "id": "LktxjFb9L17H",
        "colab_type": "code",
        "colab": {}
      },
      "source": [
        ""
      ],
      "execution_count": 0,
      "outputs": []
    }
  ]
}