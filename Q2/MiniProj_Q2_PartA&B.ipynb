{
 "cells": [
  {
   "cell_type": "code",
   "execution_count": 3,
   "metadata": {
    "colab": {
     "base_uri": "https://localhost:8080/",
     "height": 119
    },
    "colab_type": "code",
    "id": "PcJDApDcK0O9",
    "outputId": "ed129270-b4e2-4e28-ef4f-4a850ca2a599"
   },
   "outputs": [
    {
     "name": "stdout",
     "output_type": "stream",
     "text": [
      "Cloning into 'Beijing-Pollution-DataSet'...\n",
      "remote: Enumerating objects: 9, done.\u001b[K\n",
      "remote: Counting objects:  11% (1/9)\u001b[K\r",
      "remote: Counting objects:  22% (2/9)\u001b[K\r",
      "remote: Counting objects:  33% (3/9)\u001b[K\r",
      "remote: Counting objects:  44% (4/9)\u001b[K\r",
      "remote: Counting objects:  55% (5/9)\u001b[K\r",
      "remote: Counting objects:  66% (6/9)\u001b[K\r",
      "remote: Counting objects:  77% (7/9)\u001b[K\r",
      "remote: Counting objects:  88% (8/9)\u001b[K\r",
      "remote: Counting objects: 100% (9/9)\u001b[K\r",
      "remote: Counting objects: 100% (9/9), done.\u001b[K\n",
      "remote: Compressing objects: 100% (7/7), done.\u001b[K\n",
      "remote: Total 9 (delta 1), reused 0 (delta 0), pack-reused 0\u001b[K\n",
      "Unpacking objects: 100% (9/9), done.\n"
     ]
    }
   ],
   "source": [
    "!git clone https://github.com/parhamzm/Beijing-Pollution-DataSet"
   ]
  },
  {
   "cell_type": "code",
   "execution_count": 4,
   "metadata": {
    "colab": {
     "base_uri": "https://localhost:8080/",
     "height": 34
    },
    "colab_type": "code",
    "id": "0-KcI9tFLGXP",
    "outputId": "88f0bde9-28df-4fb3-baf7-a9595eee5100"
   },
   "outputs": [
    {
     "name": "stdout",
     "output_type": "stream",
     "text": [
      "pollution.csv  polution_dataSet.npy  README.md\n"
     ]
    }
   ],
   "source": [
    "!ls Beijing-Pollution-DataSet"
   ]
  },
  {
   "cell_type": "code",
   "execution_count": 0,
   "metadata": {
    "colab": {},
    "colab_type": "code",
    "id": "9NuzKJEnLNyx"
   },
   "outputs": [],
   "source": [
    "import torch\n",
    "import torchvision\n",
    "import torch.nn as nn\n",
    "from torchvision import transforms\n",
    "import pandas as pd\n",
    "\n",
    "import matplotlib.pyplot as plt\n",
    "import numpy as np\n",
    "\n",
    "from torch.utils.data import random_split\n",
    "\n",
    "from math import sqrt\n",
    "from numpy import concatenate\n",
    "from matplotlib import pyplot\n",
    "from pandas import read_csv\n",
    "from pandas import DataFrame\n",
    "from pandas import concat\n",
    "from sklearn.preprocessing import MinMaxScaler\n",
    "from sklearn.preprocessing import LabelEncoder\n",
    "from sklearn.metrics import mean_squared_error\n",
    "\n",
    "from numpy import array\n",
    "from numpy import hstack"
   ]
  },
  {
   "cell_type": "markdown",
   "metadata": {
    "colab_type": "text",
    "id": "Q_0pmTGAHWmf"
   },
   "source": [
    "# **Data Pre Processing**"
   ]
  },
  {
   "cell_type": "code",
   "execution_count": 47,
   "metadata": {
    "colab": {
     "base_uri": "https://localhost:8080/",
     "height": 34
    },
    "colab_type": "code",
    "id": "GjcwsJBc9eIG",
    "outputId": "9ad3955d-3475-4b10-92ac-f9a7db88f5ca"
   },
   "outputs": [
    {
     "data": {
      "text/plain": [
       "2400"
      ]
     },
     "execution_count": 47,
     "metadata": {
      "tags": []
     },
     "output_type": "execute_result"
    }
   ],
   "source": [
    "DATA_DIR = \"Beijing-Pollution-DataSet/\"\n",
    "from pandas import read_csv\n",
    "from datetime import datetime\n",
    "from random import randint\n",
    "import random\n",
    "\n",
    "def select_random_rows(seq_start=0, seq_end=12000, rand_percent=20):\n",
    "    rand_num = int((20*(seq_end-seq_start))/100)\n",
    "    rand_gen = random.sample(range(seq_start, seq_end), rand_num)\n",
    "    return rand_gen\n",
    "\n",
    "def apply_nan(sequence, seq_start=0, seq_end=12000, rand_percent=20):\n",
    "    for i in range(0, 8):\n",
    "        rand_r = select_random_rows(seq_start=seq_start, seq_end=seq_end, rand_percent=rand_percent)\n",
    "        np.put(sequence[seq_start:seq_end, i], rand_r, np.nan)\n",
    "    return sequence\n",
    "\n",
    "# split a multivariate sequence into samples\n",
    "def split_sequences(sequences, n_steps=11, n_samples=12000, start_from=0):\n",
    "\tX, y = list(), list()\n",
    "\tfor i in range(start_from, (start_from + n_samples)):\n",
    "        # find the end of this pattern\n",
    "\t\tend_ix = i + n_steps\n",
    "        # check if we are beyond the dataset\n",
    "        # gather input and output parts of the pattern\n",
    "\t\tseq_x = sequences[i:end_ix, :]\n",
    "\t\tseq_y = sequences[end_ix, 0]\n",
    "\t\ty.append(seq_y)\n",
    "\t\tX.append(seq_x)\n",
    "  \n",
    "\treturn array(X), array(y)\n",
    "\n",
    "\n",
    "data = np.load(DATA_DIR + 'polution_dataSet.npy')\n",
    "scaled_data = data\n",
    "\n",
    "# specify the number of lag hours\n",
    "n_hours = 11\n",
    "n_features = 8\n",
    "\n",
    "\n",
    "\n",
    "# n_timesteps = 11\n",
    "# dataset = data\n",
    "# train_X, train_y = split_sequences(sequences=dataset, n_steps=n_timesteps, n_samples=15000, start_from=0)\n",
    "# # train_y = train_y.reshape(len(train_y), 1)\n",
    "# test_X, test_y = split_sequences(sequences=dataset, n_steps=n_timesteps, n_samples=3000, start_from=15000)\n",
    "\n",
    "n = apply_nan(data, seq_start=0, seq_end=12000, rand_percent=20)\n",
    "occurrences = np.count_nonzero(np.isnan(data[:, 1]))\n",
    "occurrences"
   ]
  },
  {
   "cell_type": "code",
   "execution_count": 0,
   "metadata": {
    "colab": {},
    "colab_type": "code",
    "id": "1wFFK2YbiFSh"
   },
   "outputs": [],
   "source": []
  }
 ],
 "metadata": {
  "colab": {
   "collapsed_sections": [],
   "name": "MiniProj_Q2_PartA&B.ipynb",
   "provenance": []
  },
  "kernelspec": {
   "display_name": "Python 3",
   "language": "python",
   "name": "python3"
  },
  "language_info": {
   "codemirror_mode": {
    "name": "ipython",
    "version": 3
   },
   "file_extension": ".py",
   "mimetype": "text/x-python",
   "name": "python",
   "nbconvert_exporter": "python",
   "pygments_lexer": "ipython3",
   "version": "3.9.0"
  }
 },
 "nbformat": 4,
 "nbformat_minor": 1
}
